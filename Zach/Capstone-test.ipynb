{
 "cells": [
  {
   "cell_type": "code",
   "execution_count": 62,
   "metadata": {
    "collapsed": true
   },
   "outputs": [],
   "source": [
    "import pandas as pd\n",
    "import Wrangle as w"
   ]
  },
  {
   "cell_type": "code",
   "execution_count": 63,
   "outputs": [],
   "source": [
    "df = pd.read_csv('steam-200k.csv')"
   ],
   "metadata": {
    "collapsed": false
   }
  },
  {
   "cell_type": "code",
   "execution_count": 64,
   "outputs": [],
   "source": [
    "df = df.rename(columns = {'The Elder Scrolls V Skyrim' : 'slug' , '151603712': 'user', '1.0' : 'avg hours played'})"
   ],
   "metadata": {
    "collapsed": false
   }
  },
  {
   "cell_type": "code",
   "execution_count": 68,
   "outputs": [
    {
     "data": {
      "text/plain": "array([151603712, 187131847,  59945701, ..., 176449171, 221315846,\n       128470551])"
     },
     "execution_count": 68,
     "metadata": {},
     "output_type": "execute_result"
    }
   ],
   "source": [
    "df.user.unique()"
   ],
   "metadata": {
    "collapsed": false
   }
  },
  {
   "cell_type": "code",
   "execution_count": 4,
   "outputs": [],
   "source": [
    "\n",
    "df.slug = df.slug.replace([' '], '-', regex = True).str.lower()"
   ],
   "metadata": {
    "collapsed": false
   }
  },
  {
   "cell_type": "code",
   "execution_count": 5,
   "outputs": [
    {
     "data": {
      "text/plain": "12393"
     },
     "execution_count": 5,
     "metadata": {},
     "output_type": "execute_result"
    }
   ],
   "source": [
    "df.user.nunique()"
   ],
   "metadata": {
    "collapsed": false
   }
  },
  {
   "cell_type": "code",
   "execution_count": 6,
   "outputs": [],
   "source": [
    "xdf = df[df['purchase'] == 'play']"
   ],
   "metadata": {
    "collapsed": false
   }
  },
  {
   "cell_type": "code",
   "execution_count": 7,
   "outputs": [
    {
     "data": {
      "text/plain": "                                                    avg hours played\nslug                                                                \n007-legends                                                 0.850000\n0rbitalis                                                   0.700000\n1...-2...-3...-kick-it!-(drop-that-beat-like-an...          2.250000\n10,000,000                                                  2.300000\n10-second-ninja                                             1.487500\n...                                                              ...\nzoombinis                                                   2.300000\nzotrix                                                      0.750000\nzuma's-revenge                                             20.071429\nzuma's-revenge!---adventure                                 0.975000\nzuma-deluxe                                                 0.900000\n\n[5155 rows x 1 columns]",
      "text/html": "<div>\n<style scoped>\n    .dataframe tbody tr th:only-of-type {\n        vertical-align: middle;\n    }\n\n    .dataframe tbody tr th {\n        vertical-align: top;\n    }\n\n    .dataframe thead th {\n        text-align: right;\n    }\n</style>\n<table border=\"1\" class=\"dataframe\">\n  <thead>\n    <tr style=\"text-align: right;\">\n      <th></th>\n      <th>avg hours played</th>\n    </tr>\n    <tr>\n      <th>slug</th>\n      <th></th>\n    </tr>\n  </thead>\n  <tbody>\n    <tr>\n      <th>007-legends</th>\n      <td>0.850000</td>\n    </tr>\n    <tr>\n      <th>0rbitalis</th>\n      <td>0.700000</td>\n    </tr>\n    <tr>\n      <th>1...-2...-3...-kick-it!-(drop-that-beat-like-an-ugly-baby)</th>\n      <td>2.250000</td>\n    </tr>\n    <tr>\n      <th>10,000,000</th>\n      <td>2.300000</td>\n    </tr>\n    <tr>\n      <th>10-second-ninja</th>\n      <td>1.487500</td>\n    </tr>\n    <tr>\n      <th>...</th>\n      <td>...</td>\n    </tr>\n    <tr>\n      <th>zoombinis</th>\n      <td>2.300000</td>\n    </tr>\n    <tr>\n      <th>zotrix</th>\n      <td>0.750000</td>\n    </tr>\n    <tr>\n      <th>zuma's-revenge</th>\n      <td>20.071429</td>\n    </tr>\n    <tr>\n      <th>zuma's-revenge!---adventure</th>\n      <td>0.975000</td>\n    </tr>\n    <tr>\n      <th>zuma-deluxe</th>\n      <td>0.900000</td>\n    </tr>\n  </tbody>\n</table>\n<p>5155 rows × 1 columns</p>\n</div>"
     },
     "execution_count": 7,
     "metadata": {},
     "output_type": "execute_result"
    }
   ],
   "source": [
    "df = pd.DataFrame(df.groupby('slug')['avg hours played'].mean())\n",
    "df.rename({'The Elder Scrolls V Skyrim' : 'slug' })"
   ],
   "metadata": {
    "collapsed": false
   }
  },
  {
   "cell_type": "code",
   "execution_count": 8,
   "outputs": [],
   "source": [
    "feat_df = pd.read_csv('game_info.csv')"
   ],
   "metadata": {
    "collapsed": false
   }
  },
  {
   "cell_type": "code",
   "execution_count": 9,
   "outputs": [
    {
     "ename": "NameError",
     "evalue": "name 'wow' is not defined",
     "output_type": "error",
     "traceback": [
      "\u001B[0;31m---------------------------------------------------------------------------\u001B[0m",
      "\u001B[0;31mNameError\u001B[0m                                 Traceback (most recent call last)",
      "Input \u001B[0;32mIn [9]\u001B[0m, in \u001B[0;36m<cell line: 1>\u001B[0;34m()\u001B[0m\n\u001B[0;32m----> 1\u001B[0m \u001B[43mwow\u001B[49m[wow\u001B[38;5;241m.\u001B[39mGenre_Shooter \u001B[38;5;241m==\u001B[39m \u001B[38;5;241m1\u001B[39m]\u001B[38;5;241m.\u001B[39msort_values(\u001B[38;5;124m'\u001B[39m\u001B[38;5;124mslug\u001B[39m\u001B[38;5;124m'\u001B[39m)\n",
      "\u001B[0;31mNameError\u001B[0m: name 'wow' is not defined"
     ]
    }
   ],
   "source": [
    "wow[wow.Genre_Shooter == 1].sort_values('slug')"
   ],
   "metadata": {
    "collapsed": false
   }
  },
  {
   "cell_type": "code",
   "execution_count": 10,
   "outputs": [
    {
     "name": "stderr",
     "output_type": "stream",
     "text": [
      "/Users/zacharystufflebeme/codeup-data-science/capstone/Wrangle.py:25: SettingWithCopyWarning: \n",
      "A value is trying to be set on a copy of a slice from a DataFrame\n",
      "\n",
      "See the caveats in the documentation: https://pandas.pydata.org/pandas-docs/stable/user_guide/indexing.html#returning-a-view-versus-a-copy\n",
      "  df.metacritic_good_game[df.metacritic_good_game > 0] = 1\n",
      "/Users/zacharystufflebeme/codeup-data-science/capstone/Wrangle.py:74: PerformanceWarning: DataFrame is highly fragmented.  This is usually the result of calling `frame.insert` many times, which has poor performance.  Consider joining all columns at once using pd.concat(axis=1) instead. To get a de-fragmented frame, use `newframe = frame.copy()`\n",
      "  df[f'Platform_{x}'] = df.platforms.str.contains(x)\n",
      "/Users/zacharystufflebeme/codeup-data-science/capstone/Wrangle.py:74: PerformanceWarning: DataFrame is highly fragmented.  This is usually the result of calling `frame.insert` many times, which has poor performance.  Consider joining all columns at once using pd.concat(axis=1) instead. To get a de-fragmented frame, use `newframe = frame.copy()`\n",
      "  df[f'Platform_{x}'] = df.platforms.str.contains(x)\n",
      "/Users/zacharystufflebeme/codeup-data-science/capstone/Wrangle.py:74: PerformanceWarning: DataFrame is highly fragmented.  This is usually the result of calling `frame.insert` many times, which has poor performance.  Consider joining all columns at once using pd.concat(axis=1) instead. To get a de-fragmented frame, use `newframe = frame.copy()`\n",
      "  df[f'Platform_{x}'] = df.platforms.str.contains(x)\n",
      "/Users/zacharystufflebeme/codeup-data-science/capstone/Wrangle.py:74: PerformanceWarning: DataFrame is highly fragmented.  This is usually the result of calling `frame.insert` many times, which has poor performance.  Consider joining all columns at once using pd.concat(axis=1) instead. To get a de-fragmented frame, use `newframe = frame.copy()`\n",
      "  df[f'Platform_{x}'] = df.platforms.str.contains(x)\n",
      "/Users/zacharystufflebeme/codeup-data-science/capstone/Wrangle.py:74: PerformanceWarning: DataFrame is highly fragmented.  This is usually the result of calling `frame.insert` many times, which has poor performance.  Consider joining all columns at once using pd.concat(axis=1) instead. To get a de-fragmented frame, use `newframe = frame.copy()`\n",
      "  df[f'Platform_{x}'] = df.platforms.str.contains(x)\n",
      "/Users/zacharystufflebeme/codeup-data-science/capstone/Wrangle.py:74: PerformanceWarning: DataFrame is highly fragmented.  This is usually the result of calling `frame.insert` many times, which has poor performance.  Consider joining all columns at once using pd.concat(axis=1) instead. To get a de-fragmented frame, use `newframe = frame.copy()`\n",
      "  df[f'Platform_{x}'] = df.platforms.str.contains(x)\n",
      "/Users/zacharystufflebeme/codeup-data-science/capstone/Wrangle.py:74: PerformanceWarning: DataFrame is highly fragmented.  This is usually the result of calling `frame.insert` many times, which has poor performance.  Consider joining all columns at once using pd.concat(axis=1) instead. To get a de-fragmented frame, use `newframe = frame.copy()`\n",
      "  df[f'Platform_{x}'] = df.platforms.str.contains(x)\n",
      "/Users/zacharystufflebeme/codeup-data-science/capstone/Wrangle.py:74: PerformanceWarning: DataFrame is highly fragmented.  This is usually the result of calling `frame.insert` many times, which has poor performance.  Consider joining all columns at once using pd.concat(axis=1) instead. To get a de-fragmented frame, use `newframe = frame.copy()`\n",
      "  df[f'Platform_{x}'] = df.platforms.str.contains(x)\n",
      "/Users/zacharystufflebeme/codeup-data-science/capstone/Wrangle.py:74: PerformanceWarning: DataFrame is highly fragmented.  This is usually the result of calling `frame.insert` many times, which has poor performance.  Consider joining all columns at once using pd.concat(axis=1) instead. To get a de-fragmented frame, use `newframe = frame.copy()`\n",
      "  df[f'Platform_{x}'] = df.platforms.str.contains(x)\n",
      "/Users/zacharystufflebeme/codeup-data-science/capstone/Wrangle.py:74: PerformanceWarning: DataFrame is highly fragmented.  This is usually the result of calling `frame.insert` many times, which has poor performance.  Consider joining all columns at once using pd.concat(axis=1) instead. To get a de-fragmented frame, use `newframe = frame.copy()`\n",
      "  df[f'Platform_{x}'] = df.platforms.str.contains(x)\n",
      "/Users/zacharystufflebeme/codeup-data-science/capstone/Wrangle.py:74: PerformanceWarning: DataFrame is highly fragmented.  This is usually the result of calling `frame.insert` many times, which has poor performance.  Consider joining all columns at once using pd.concat(axis=1) instead. To get a de-fragmented frame, use `newframe = frame.copy()`\n",
      "  df[f'Platform_{x}'] = df.platforms.str.contains(x)\n",
      "/Users/zacharystufflebeme/codeup-data-science/capstone/Wrangle.py:74: PerformanceWarning: DataFrame is highly fragmented.  This is usually the result of calling `frame.insert` many times, which has poor performance.  Consider joining all columns at once using pd.concat(axis=1) instead. To get a de-fragmented frame, use `newframe = frame.copy()`\n",
      "  df[f'Platform_{x}'] = df.platforms.str.contains(x)\n",
      "/Users/zacharystufflebeme/codeup-data-science/capstone/Wrangle.py:74: PerformanceWarning: DataFrame is highly fragmented.  This is usually the result of calling `frame.insert` many times, which has poor performance.  Consider joining all columns at once using pd.concat(axis=1) instead. To get a de-fragmented frame, use `newframe = frame.copy()`\n",
      "  df[f'Platform_{x}'] = df.platforms.str.contains(x)\n",
      "/Users/zacharystufflebeme/codeup-data-science/capstone/Wrangle.py:74: PerformanceWarning: DataFrame is highly fragmented.  This is usually the result of calling `frame.insert` many times, which has poor performance.  Consider joining all columns at once using pd.concat(axis=1) instead. To get a de-fragmented frame, use `newframe = frame.copy()`\n",
      "  df[f'Platform_{x}'] = df.platforms.str.contains(x)\n",
      "/Users/zacharystufflebeme/codeup-data-science/capstone/Wrangle.py:74: PerformanceWarning: DataFrame is highly fragmented.  This is usually the result of calling `frame.insert` many times, which has poor performance.  Consider joining all columns at once using pd.concat(axis=1) instead. To get a de-fragmented frame, use `newframe = frame.copy()`\n",
      "  df[f'Platform_{x}'] = df.platforms.str.contains(x)\n",
      "/Users/zacharystufflebeme/codeup-data-science/capstone/Wrangle.py:74: PerformanceWarning: DataFrame is highly fragmented.  This is usually the result of calling `frame.insert` many times, which has poor performance.  Consider joining all columns at once using pd.concat(axis=1) instead. To get a de-fragmented frame, use `newframe = frame.copy()`\n",
      "  df[f'Platform_{x}'] = df.platforms.str.contains(x)\n",
      "/Users/zacharystufflebeme/codeup-data-science/capstone/Wrangle.py:74: PerformanceWarning: DataFrame is highly fragmented.  This is usually the result of calling `frame.insert` many times, which has poor performance.  Consider joining all columns at once using pd.concat(axis=1) instead. To get a de-fragmented frame, use `newframe = frame.copy()`\n",
      "  df[f'Platform_{x}'] = df.platforms.str.contains(x)\n",
      "/Users/zacharystufflebeme/codeup-data-science/capstone/Wrangle.py:74: PerformanceWarning: DataFrame is highly fragmented.  This is usually the result of calling `frame.insert` many times, which has poor performance.  Consider joining all columns at once using pd.concat(axis=1) instead. To get a de-fragmented frame, use `newframe = frame.copy()`\n",
      "  df[f'Platform_{x}'] = df.platforms.str.contains(x)\n",
      "/Users/zacharystufflebeme/codeup-data-science/capstone/Wrangle.py:74: PerformanceWarning: DataFrame is highly fragmented.  This is usually the result of calling `frame.insert` many times, which has poor performance.  Consider joining all columns at once using pd.concat(axis=1) instead. To get a de-fragmented frame, use `newframe = frame.copy()`\n",
      "  df[f'Platform_{x}'] = df.platforms.str.contains(x)\n",
      "/Users/zacharystufflebeme/codeup-data-science/capstone/Wrangle.py:74: PerformanceWarning: DataFrame is highly fragmented.  This is usually the result of calling `frame.insert` many times, which has poor performance.  Consider joining all columns at once using pd.concat(axis=1) instead. To get a de-fragmented frame, use `newframe = frame.copy()`\n",
      "  df[f'Platform_{x}'] = df.platforms.str.contains(x)\n",
      "/Users/zacharystufflebeme/codeup-data-science/capstone/Wrangle.py:74: PerformanceWarning: DataFrame is highly fragmented.  This is usually the result of calling `frame.insert` many times, which has poor performance.  Consider joining all columns at once using pd.concat(axis=1) instead. To get a de-fragmented frame, use `newframe = frame.copy()`\n",
      "  df[f'Platform_{x}'] = df.platforms.str.contains(x)\n",
      "/Users/zacharystufflebeme/codeup-data-science/capstone/Wrangle.py:74: PerformanceWarning: DataFrame is highly fragmented.  This is usually the result of calling `frame.insert` many times, which has poor performance.  Consider joining all columns at once using pd.concat(axis=1) instead. To get a de-fragmented frame, use `newframe = frame.copy()`\n",
      "  df[f'Platform_{x}'] = df.platforms.str.contains(x)\n",
      "/Users/zacharystufflebeme/codeup-data-science/capstone/Wrangle.py:74: PerformanceWarning: DataFrame is highly fragmented.  This is usually the result of calling `frame.insert` many times, which has poor performance.  Consider joining all columns at once using pd.concat(axis=1) instead. To get a de-fragmented frame, use `newframe = frame.copy()`\n",
      "  df[f'Platform_{x}'] = df.platforms.str.contains(x)\n",
      "/Users/zacharystufflebeme/codeup-data-science/capstone/Wrangle.py:74: PerformanceWarning: DataFrame is highly fragmented.  This is usually the result of calling `frame.insert` many times, which has poor performance.  Consider joining all columns at once using pd.concat(axis=1) instead. To get a de-fragmented frame, use `newframe = frame.copy()`\n",
      "  df[f'Platform_{x}'] = df.platforms.str.contains(x)\n",
      "/Users/zacharystufflebeme/codeup-data-science/capstone/Wrangle.py:74: PerformanceWarning: DataFrame is highly fragmented.  This is usually the result of calling `frame.insert` many times, which has poor performance.  Consider joining all columns at once using pd.concat(axis=1) instead. To get a de-fragmented frame, use `newframe = frame.copy()`\n",
      "  df[f'Platform_{x}'] = df.platforms.str.contains(x)\n",
      "/Users/zacharystufflebeme/codeup-data-science/capstone/Wrangle.py:74: PerformanceWarning: DataFrame is highly fragmented.  This is usually the result of calling `frame.insert` many times, which has poor performance.  Consider joining all columns at once using pd.concat(axis=1) instead. To get a de-fragmented frame, use `newframe = frame.copy()`\n",
      "  df[f'Platform_{x}'] = df.platforms.str.contains(x)\n",
      "/Users/zacharystufflebeme/codeup-data-science/capstone/Wrangle.py:74: PerformanceWarning: DataFrame is highly fragmented.  This is usually the result of calling `frame.insert` many times, which has poor performance.  Consider joining all columns at once using pd.concat(axis=1) instead. To get a de-fragmented frame, use `newframe = frame.copy()`\n",
      "  df[f'Platform_{x}'] = df.platforms.str.contains(x)\n",
      "/Users/zacharystufflebeme/codeup-data-science/capstone/Wrangle.py:98: PerformanceWarning: DataFrame is highly fragmented.  This is usually the result of calling `frame.insert` many times, which has poor performance.  Consider joining all columns at once using pd.concat(axis=1) instead. To get a de-fragmented frame, use `newframe = frame.copy()`\n",
      "  df[f'Genre_{x}'] = df.genres.str.contains(x)\n",
      "/Users/zacharystufflebeme/codeup-data-science/capstone/Wrangle.py:98: PerformanceWarning: DataFrame is highly fragmented.  This is usually the result of calling `frame.insert` many times, which has poor performance.  Consider joining all columns at once using pd.concat(axis=1) instead. To get a de-fragmented frame, use `newframe = frame.copy()`\n",
      "  df[f'Genre_{x}'] = df.genres.str.contains(x)\n",
      "/Users/zacharystufflebeme/codeup-data-science/capstone/Wrangle.py:98: PerformanceWarning: DataFrame is highly fragmented.  This is usually the result of calling `frame.insert` many times, which has poor performance.  Consider joining all columns at once using pd.concat(axis=1) instead. To get a de-fragmented frame, use `newframe = frame.copy()`\n",
      "  df[f'Genre_{x}'] = df.genres.str.contains(x)\n",
      "/Users/zacharystufflebeme/codeup-data-science/capstone/Wrangle.py:98: PerformanceWarning: DataFrame is highly fragmented.  This is usually the result of calling `frame.insert` many times, which has poor performance.  Consider joining all columns at once using pd.concat(axis=1) instead. To get a de-fragmented frame, use `newframe = frame.copy()`\n",
      "  df[f'Genre_{x}'] = df.genres.str.contains(x)\n",
      "/Users/zacharystufflebeme/codeup-data-science/capstone/Wrangle.py:98: PerformanceWarning: DataFrame is highly fragmented.  This is usually the result of calling `frame.insert` many times, which has poor performance.  Consider joining all columns at once using pd.concat(axis=1) instead. To get a de-fragmented frame, use `newframe = frame.copy()`\n",
      "  df[f'Genre_{x}'] = df.genres.str.contains(x)\n",
      "/Users/zacharystufflebeme/codeup-data-science/capstone/Wrangle.py:98: PerformanceWarning: DataFrame is highly fragmented.  This is usually the result of calling `frame.insert` many times, which has poor performance.  Consider joining all columns at once using pd.concat(axis=1) instead. To get a de-fragmented frame, use `newframe = frame.copy()`\n",
      "  df[f'Genre_{x}'] = df.genres.str.contains(x)\n",
      "/Users/zacharystufflebeme/codeup-data-science/capstone/Wrangle.py:98: PerformanceWarning: DataFrame is highly fragmented.  This is usually the result of calling `frame.insert` many times, which has poor performance.  Consider joining all columns at once using pd.concat(axis=1) instead. To get a de-fragmented frame, use `newframe = frame.copy()`\n",
      "  df[f'Genre_{x}'] = df.genres.str.contains(x)\n",
      "/Users/zacharystufflebeme/codeup-data-science/capstone/Wrangle.py:98: PerformanceWarning: DataFrame is highly fragmented.  This is usually the result of calling `frame.insert` many times, which has poor performance.  Consider joining all columns at once using pd.concat(axis=1) instead. To get a de-fragmented frame, use `newframe = frame.copy()`\n",
      "  df[f'Genre_{x}'] = df.genres.str.contains(x)\n",
      "/Users/zacharystufflebeme/codeup-data-science/capstone/Wrangle.py:98: PerformanceWarning: DataFrame is highly fragmented.  This is usually the result of calling `frame.insert` many times, which has poor performance.  Consider joining all columns at once using pd.concat(axis=1) instead. To get a de-fragmented frame, use `newframe = frame.copy()`\n",
      "  df[f'Genre_{x}'] = df.genres.str.contains(x)\n",
      "/Users/zacharystufflebeme/codeup-data-science/capstone/Wrangle.py:98: PerformanceWarning: DataFrame is highly fragmented.  This is usually the result of calling `frame.insert` many times, which has poor performance.  Consider joining all columns at once using pd.concat(axis=1) instead. To get a de-fragmented frame, use `newframe = frame.copy()`\n",
      "  df[f'Genre_{x}'] = df.genres.str.contains(x)\n",
      "/Users/zacharystufflebeme/codeup-data-science/capstone/Wrangle.py:98: PerformanceWarning: DataFrame is highly fragmented.  This is usually the result of calling `frame.insert` many times, which has poor performance.  Consider joining all columns at once using pd.concat(axis=1) instead. To get a de-fragmented frame, use `newframe = frame.copy()`\n",
      "  df[f'Genre_{x}'] = df.genres.str.contains(x)\n",
      "/Users/zacharystufflebeme/codeup-data-science/capstone/Wrangle.py:98: PerformanceWarning: DataFrame is highly fragmented.  This is usually the result of calling `frame.insert` many times, which has poor performance.  Consider joining all columns at once using pd.concat(axis=1) instead. To get a de-fragmented frame, use `newframe = frame.copy()`\n",
      "  df[f'Genre_{x}'] = df.genres.str.contains(x)\n",
      "/Users/zacharystufflebeme/codeup-data-science/capstone/Wrangle.py:98: PerformanceWarning: DataFrame is highly fragmented.  This is usually the result of calling `frame.insert` many times, which has poor performance.  Consider joining all columns at once using pd.concat(axis=1) instead. To get a de-fragmented frame, use `newframe = frame.copy()`\n",
      "  df[f'Genre_{x}'] = df.genres.str.contains(x)\n",
      "/Users/zacharystufflebeme/codeup-data-science/capstone/Wrangle.py:98: PerformanceWarning: DataFrame is highly fragmented.  This is usually the result of calling `frame.insert` many times, which has poor performance.  Consider joining all columns at once using pd.concat(axis=1) instead. To get a de-fragmented frame, use `newframe = frame.copy()`\n",
      "  df[f'Genre_{x}'] = df.genres.str.contains(x)\n",
      "/Users/zacharystufflebeme/codeup-data-science/capstone/Wrangle.py:98: PerformanceWarning: DataFrame is highly fragmented.  This is usually the result of calling `frame.insert` many times, which has poor performance.  Consider joining all columns at once using pd.concat(axis=1) instead. To get a de-fragmented frame, use `newframe = frame.copy()`\n",
      "  df[f'Genre_{x}'] = df.genres.str.contains(x)\n",
      "/Users/zacharystufflebeme/codeup-data-science/capstone/Wrangle.py:98: PerformanceWarning: DataFrame is highly fragmented.  This is usually the result of calling `frame.insert` many times, which has poor performance.  Consider joining all columns at once using pd.concat(axis=1) instead. To get a de-fragmented frame, use `newframe = frame.copy()`\n",
      "  df[f'Genre_{x}'] = df.genres.str.contains(x)\n",
      "/Users/zacharystufflebeme/codeup-data-science/capstone/Wrangle.py:98: PerformanceWarning: DataFrame is highly fragmented.  This is usually the result of calling `frame.insert` many times, which has poor performance.  Consider joining all columns at once using pd.concat(axis=1) instead. To get a de-fragmented frame, use `newframe = frame.copy()`\n",
      "  df[f'Genre_{x}'] = df.genres.str.contains(x)\n",
      "/Users/zacharystufflebeme/codeup-data-science/capstone/Wrangle.py:98: PerformanceWarning: DataFrame is highly fragmented.  This is usually the result of calling `frame.insert` many times, which has poor performance.  Consider joining all columns at once using pd.concat(axis=1) instead. To get a de-fragmented frame, use `newframe = frame.copy()`\n",
      "  df[f'Genre_{x}'] = df.genres.str.contains(x)\n",
      "/Users/zacharystufflebeme/codeup-data-science/capstone/Wrangle.py:98: PerformanceWarning: DataFrame is highly fragmented.  This is usually the result of calling `frame.insert` many times, which has poor performance.  Consider joining all columns at once using pd.concat(axis=1) instead. To get a de-fragmented frame, use `newframe = frame.copy()`\n",
      "  df[f'Genre_{x}'] = df.genres.str.contains(x)\n"
     ]
    }
   ],
   "source": [
    "feat_df = w.prep_data(feat_df)"
   ],
   "metadata": {
    "collapsed": false
   }
  },
  {
   "cell_type": "code",
   "execution_count": 11,
   "outputs": [
    {
     "data": {
      "text/plain": "                          slug  metacritic  playtime  achievements_count  \\\n43          mages-of-mystralia        75.0         3                 104   \n85             sudden-strike-4        77.0         2                 121   \n207           arizona-sunshine        81.0         3                  87   \n249                   the-keep        61.0         5                  25   \n291            space-engineers        68.0         4                  58   \n...                        ...         ...       ...                 ...   \n474208       emily-is-away-too        81.0         4                  21   \n474216  total-war-warhammer-ii        86.0        12                 152   \n474237            blitzkrieg-3        68.0         5                  75   \n474292        crazy-machines-3        71.0         3                  41   \n474387                  arma-3        74.0        19                  98   \n\n        game_series_count  added_status_yet  added_status_toplay  \\\n43                      0                32                    9   \n85                      4                64                    6   \n207                     0                13                    8   \n249                     0                 1                    1   \n291                     0                62                   20   \n...                   ...               ...                  ...   \n474208                  0                49                   10   \n474216                  0                37                   43   \n474237                  0                 8                    3   \n474292                  0                57                    1   \n474387                  0                38                   20   \n\n        metacritic_good_game Publisher_Square_Enix Publisher_Electronic_Arts  \\\n43                       0.0                 False                     False   \n85                       0.0                 False                     False   \n207                      0.0                 False                     False   \n249                      0.0                 False                     False   \n291                      0.0                 False                     False   \n...                      ...                   ...                       ...   \n474208                   0.0                 False                     False   \n474216                   0.0                 False                     False   \n474237                   0.0                 False                     False   \n474292                   0.0                 False                     False   \n474387                   0.0                 False                     False   \n\n        ... Genre_Action Genre_RPG Genre_Puzzle Genre_Racing Genre_Sports  \\\n43      ...         True     False        False        False        False   \n85      ...         True     False        False        False        False   \n207     ...         True     False        False        False        False   \n249     ...        False      True        False        False        False   \n291     ...         True     False        False        False        False   \n...     ...          ...       ...          ...          ...          ...   \n474208  ...        False      True        False        False        False   \n474216  ...         True     False        False        False        False   \n474237  ...        False     False        False        False        False   \n474292  ...        False     False        False        False        False   \n474387  ...         True     False        False        False        False   \n\n       Genre_Indie Genre_Board_Games Genre_Fighting Genre_Arcade Genre_Shooter  \n43            True             False          False        False         False  \n85           False             False          False        False         False  \n207           True             False          False        False         False  \n249           True             False          False        False         False  \n291           True             False          False        False         False  \n...            ...               ...            ...          ...           ...  \n474208        True             False          False        False         False  \n474216       False             False          False        False         False  \n474237       False             False          False        False         False  \n474292       False             False          False        False         False  \n474387       False             False          False        False          True  \n\n[4593 rows x 149 columns]",
      "text/html": "<div>\n<style scoped>\n    .dataframe tbody tr th:only-of-type {\n        vertical-align: middle;\n    }\n\n    .dataframe tbody tr th {\n        vertical-align: top;\n    }\n\n    .dataframe thead th {\n        text-align: right;\n    }\n</style>\n<table border=\"1\" class=\"dataframe\">\n  <thead>\n    <tr style=\"text-align: right;\">\n      <th></th>\n      <th>slug</th>\n      <th>metacritic</th>\n      <th>playtime</th>\n      <th>achievements_count</th>\n      <th>game_series_count</th>\n      <th>added_status_yet</th>\n      <th>added_status_toplay</th>\n      <th>metacritic_good_game</th>\n      <th>Publisher_Square_Enix</th>\n      <th>Publisher_Electronic_Arts</th>\n      <th>...</th>\n      <th>Genre_Action</th>\n      <th>Genre_RPG</th>\n      <th>Genre_Puzzle</th>\n      <th>Genre_Racing</th>\n      <th>Genre_Sports</th>\n      <th>Genre_Indie</th>\n      <th>Genre_Board_Games</th>\n      <th>Genre_Fighting</th>\n      <th>Genre_Arcade</th>\n      <th>Genre_Shooter</th>\n    </tr>\n  </thead>\n  <tbody>\n    <tr>\n      <th>43</th>\n      <td>mages-of-mystralia</td>\n      <td>75.0</td>\n      <td>3</td>\n      <td>104</td>\n      <td>0</td>\n      <td>32</td>\n      <td>9</td>\n      <td>0.0</td>\n      <td>False</td>\n      <td>False</td>\n      <td>...</td>\n      <td>True</td>\n      <td>False</td>\n      <td>False</td>\n      <td>False</td>\n      <td>False</td>\n      <td>True</td>\n      <td>False</td>\n      <td>False</td>\n      <td>False</td>\n      <td>False</td>\n    </tr>\n    <tr>\n      <th>85</th>\n      <td>sudden-strike-4</td>\n      <td>77.0</td>\n      <td>2</td>\n      <td>121</td>\n      <td>4</td>\n      <td>64</td>\n      <td>6</td>\n      <td>0.0</td>\n      <td>False</td>\n      <td>False</td>\n      <td>...</td>\n      <td>True</td>\n      <td>False</td>\n      <td>False</td>\n      <td>False</td>\n      <td>False</td>\n      <td>False</td>\n      <td>False</td>\n      <td>False</td>\n      <td>False</td>\n      <td>False</td>\n    </tr>\n    <tr>\n      <th>207</th>\n      <td>arizona-sunshine</td>\n      <td>81.0</td>\n      <td>3</td>\n      <td>87</td>\n      <td>0</td>\n      <td>13</td>\n      <td>8</td>\n      <td>0.0</td>\n      <td>False</td>\n      <td>False</td>\n      <td>...</td>\n      <td>True</td>\n      <td>False</td>\n      <td>False</td>\n      <td>False</td>\n      <td>False</td>\n      <td>True</td>\n      <td>False</td>\n      <td>False</td>\n      <td>False</td>\n      <td>False</td>\n    </tr>\n    <tr>\n      <th>249</th>\n      <td>the-keep</td>\n      <td>61.0</td>\n      <td>5</td>\n      <td>25</td>\n      <td>0</td>\n      <td>1</td>\n      <td>1</td>\n      <td>0.0</td>\n      <td>False</td>\n      <td>False</td>\n      <td>...</td>\n      <td>False</td>\n      <td>True</td>\n      <td>False</td>\n      <td>False</td>\n      <td>False</td>\n      <td>True</td>\n      <td>False</td>\n      <td>False</td>\n      <td>False</td>\n      <td>False</td>\n    </tr>\n    <tr>\n      <th>291</th>\n      <td>space-engineers</td>\n      <td>68.0</td>\n      <td>4</td>\n      <td>58</td>\n      <td>0</td>\n      <td>62</td>\n      <td>20</td>\n      <td>0.0</td>\n      <td>False</td>\n      <td>False</td>\n      <td>...</td>\n      <td>True</td>\n      <td>False</td>\n      <td>False</td>\n      <td>False</td>\n      <td>False</td>\n      <td>True</td>\n      <td>False</td>\n      <td>False</td>\n      <td>False</td>\n      <td>False</td>\n    </tr>\n    <tr>\n      <th>...</th>\n      <td>...</td>\n      <td>...</td>\n      <td>...</td>\n      <td>...</td>\n      <td>...</td>\n      <td>...</td>\n      <td>...</td>\n      <td>...</td>\n      <td>...</td>\n      <td>...</td>\n      <td>...</td>\n      <td>...</td>\n      <td>...</td>\n      <td>...</td>\n      <td>...</td>\n      <td>...</td>\n      <td>...</td>\n      <td>...</td>\n      <td>...</td>\n      <td>...</td>\n      <td>...</td>\n    </tr>\n    <tr>\n      <th>474208</th>\n      <td>emily-is-away-too</td>\n      <td>81.0</td>\n      <td>4</td>\n      <td>21</td>\n      <td>0</td>\n      <td>49</td>\n      <td>10</td>\n      <td>0.0</td>\n      <td>False</td>\n      <td>False</td>\n      <td>...</td>\n      <td>False</td>\n      <td>True</td>\n      <td>False</td>\n      <td>False</td>\n      <td>False</td>\n      <td>True</td>\n      <td>False</td>\n      <td>False</td>\n      <td>False</td>\n      <td>False</td>\n    </tr>\n    <tr>\n      <th>474216</th>\n      <td>total-war-warhammer-ii</td>\n      <td>86.0</td>\n      <td>12</td>\n      <td>152</td>\n      <td>0</td>\n      <td>37</td>\n      <td>43</td>\n      <td>0.0</td>\n      <td>False</td>\n      <td>False</td>\n      <td>...</td>\n      <td>True</td>\n      <td>False</td>\n      <td>False</td>\n      <td>False</td>\n      <td>False</td>\n      <td>False</td>\n      <td>False</td>\n      <td>False</td>\n      <td>False</td>\n      <td>False</td>\n    </tr>\n    <tr>\n      <th>474237</th>\n      <td>blitzkrieg-3</td>\n      <td>68.0</td>\n      <td>5</td>\n      <td>75</td>\n      <td>0</td>\n      <td>8</td>\n      <td>3</td>\n      <td>0.0</td>\n      <td>False</td>\n      <td>False</td>\n      <td>...</td>\n      <td>False</td>\n      <td>False</td>\n      <td>False</td>\n      <td>False</td>\n      <td>False</td>\n      <td>False</td>\n      <td>False</td>\n      <td>False</td>\n      <td>False</td>\n      <td>False</td>\n    </tr>\n    <tr>\n      <th>474292</th>\n      <td>crazy-machines-3</td>\n      <td>71.0</td>\n      <td>3</td>\n      <td>41</td>\n      <td>0</td>\n      <td>57</td>\n      <td>1</td>\n      <td>0.0</td>\n      <td>False</td>\n      <td>False</td>\n      <td>...</td>\n      <td>False</td>\n      <td>False</td>\n      <td>False</td>\n      <td>False</td>\n      <td>False</td>\n      <td>False</td>\n      <td>False</td>\n      <td>False</td>\n      <td>False</td>\n      <td>False</td>\n    </tr>\n    <tr>\n      <th>474387</th>\n      <td>arma-3</td>\n      <td>74.0</td>\n      <td>19</td>\n      <td>98</td>\n      <td>0</td>\n      <td>38</td>\n      <td>20</td>\n      <td>0.0</td>\n      <td>False</td>\n      <td>False</td>\n      <td>...</td>\n      <td>True</td>\n      <td>False</td>\n      <td>False</td>\n      <td>False</td>\n      <td>False</td>\n      <td>False</td>\n      <td>False</td>\n      <td>False</td>\n      <td>False</td>\n      <td>True</td>\n    </tr>\n  </tbody>\n</table>\n<p>4593 rows × 149 columns</p>\n</div>"
     },
     "execution_count": 11,
     "metadata": {},
     "output_type": "execute_result"
    }
   ],
   "source": [
    "feat_df"
   ],
   "metadata": {
    "collapsed": false
   }
  },
  {
   "cell_type": "code",
   "execution_count": 12,
   "outputs": [],
   "source": [
    "wow = pd.merge(df, feat_df, on = 'slug', how = 'right')"
   ],
   "metadata": {
    "collapsed": false
   }
  },
  {
   "cell_type": "code",
   "execution_count": 13,
   "outputs": [],
   "source": [
    "wow = wow.dropna()"
   ],
   "metadata": {
    "collapsed": false
   }
  },
  {
   "cell_type": "code",
   "execution_count": 14,
   "outputs": [
    {
     "data": {
      "text/plain": "                                                    avg hours played\nslug                                                                \n007-legends                                                 0.850000\n0rbitalis                                                   0.700000\n1...-2...-3...-kick-it!-(drop-that-beat-like-an...          2.250000\n10,000,000                                                  2.300000\n10-second-ninja                                             1.487500\n...                                                              ...\nzoombinis                                                   2.300000\nzotrix                                                      0.750000\nzuma's-revenge                                             20.071429\nzuma's-revenge!---adventure                                 0.975000\nzuma-deluxe                                                 0.900000\n\n[5155 rows x 1 columns]",
      "text/html": "<div>\n<style scoped>\n    .dataframe tbody tr th:only-of-type {\n        vertical-align: middle;\n    }\n\n    .dataframe tbody tr th {\n        vertical-align: top;\n    }\n\n    .dataframe thead th {\n        text-align: right;\n    }\n</style>\n<table border=\"1\" class=\"dataframe\">\n  <thead>\n    <tr style=\"text-align: right;\">\n      <th></th>\n      <th>avg hours played</th>\n    </tr>\n    <tr>\n      <th>slug</th>\n      <th></th>\n    </tr>\n  </thead>\n  <tbody>\n    <tr>\n      <th>007-legends</th>\n      <td>0.850000</td>\n    </tr>\n    <tr>\n      <th>0rbitalis</th>\n      <td>0.700000</td>\n    </tr>\n    <tr>\n      <th>1...-2...-3...-kick-it!-(drop-that-beat-like-an-ugly-baby)</th>\n      <td>2.250000</td>\n    </tr>\n    <tr>\n      <th>10,000,000</th>\n      <td>2.300000</td>\n    </tr>\n    <tr>\n      <th>10-second-ninja</th>\n      <td>1.487500</td>\n    </tr>\n    <tr>\n      <th>...</th>\n      <td>...</td>\n    </tr>\n    <tr>\n      <th>zoombinis</th>\n      <td>2.300000</td>\n    </tr>\n    <tr>\n      <th>zotrix</th>\n      <td>0.750000</td>\n    </tr>\n    <tr>\n      <th>zuma's-revenge</th>\n      <td>20.071429</td>\n    </tr>\n    <tr>\n      <th>zuma's-revenge!---adventure</th>\n      <td>0.975000</td>\n    </tr>\n    <tr>\n      <th>zuma-deluxe</th>\n      <td>0.900000</td>\n    </tr>\n  </tbody>\n</table>\n<p>5155 rows × 1 columns</p>\n</div>"
     },
     "execution_count": 14,
     "metadata": {},
     "output_type": "execute_result"
    }
   ],
   "source": [
    "df"
   ],
   "metadata": {
    "collapsed": false
   }
  },
  {
   "cell_type": "code",
   "execution_count": 15,
   "outputs": [
    {
     "data": {
      "text/plain": "                                  slug  avg hours played  metacritic  \\\n4                      space-engineers         21.687678        68.0   \n7                europa-universalis-iv         96.186275        87.0   \n11                  hitman-codename-47          1.193827        73.0   \n12                          thief-gold          0.925000        92.0   \n13                   project-snowblind          0.887500        76.0   \n...                                ...               ...         ...   \n4562  rise-of-nations-extended-edition          4.747368        89.0   \n4573             war-for-the-overworld          5.378261        65.0   \n4585                     star-conflict          4.510843        75.0   \n4586                        dirty-bomb          3.307529        63.0   \n4592                            arma-3         76.153145        74.0   \n\n      playtime  achievements_count  game_series_count  added_status_yet  \\\n4            4                  58                  0                62   \n7            6                 310                  0                75   \n11           1                   0                  8               116   \n12           1                   0                  0               153   \n13           1                   0                  0                34   \n...        ...                 ...                ...               ...   \n4562         5                  76                  0                39   \n4573         5                 135                  0                48   \n4585         2                 213                  0                25   \n4586         2                  78                  0                68   \n4592        19                  98                  0                38   \n\n      added_status_toplay  metacritic_good_game Publisher_Square_Enix  ...  \\\n4                      20                   0.0                 False  ...   \n7                      23                   0.0                 False  ...   \n11                     22                   0.0                  True  ...   \n12                     31                   1.0                  True  ...   \n13                      4                   0.0                  True  ...   \n...                   ...                   ...                   ...  ...   \n4562                    5                   0.0                 False  ...   \n4573                    5                   0.0                 False  ...   \n4585                    3                   0.0                 False  ...   \n4586                    8                   0.0                 False  ...   \n4592                   20                   0.0                 False  ...   \n\n     Genre_Action Genre_RPG Genre_Puzzle Genre_Racing Genre_Sports  \\\n4            True     False        False        False        False   \n7           False     False        False        False        False   \n11           True     False        False        False        False   \n12           True     False        False        False        False   \n13           True     False        False        False        False   \n...           ...       ...          ...          ...          ...   \n4562        False     False        False        False        False   \n4573         True     False        False        False        False   \n4585         True     False        False        False        False   \n4586         True     False        False        False        False   \n4592         True     False        False        False        False   \n\n     Genre_Indie Genre_Board_Games Genre_Fighting Genre_Arcade Genre_Shooter  \n4           True             False          False        False         False  \n7          False             False          False        False         False  \n11         False             False          False        False          True  \n12         False             False          False        False         False  \n13         False             False          False        False         False  \n...          ...               ...            ...          ...           ...  \n4562       False             False          False        False         False  \n4573        True             False          False        False         False  \n4585       False             False          False        False         False  \n4586       False             False          False        False          True  \n4592       False             False          False        False          True  \n\n[1364 rows x 150 columns]",
      "text/html": "<div>\n<style scoped>\n    .dataframe tbody tr th:only-of-type {\n        vertical-align: middle;\n    }\n\n    .dataframe tbody tr th {\n        vertical-align: top;\n    }\n\n    .dataframe thead th {\n        text-align: right;\n    }\n</style>\n<table border=\"1\" class=\"dataframe\">\n  <thead>\n    <tr style=\"text-align: right;\">\n      <th></th>\n      <th>slug</th>\n      <th>avg hours played</th>\n      <th>metacritic</th>\n      <th>playtime</th>\n      <th>achievements_count</th>\n      <th>game_series_count</th>\n      <th>added_status_yet</th>\n      <th>added_status_toplay</th>\n      <th>metacritic_good_game</th>\n      <th>Publisher_Square_Enix</th>\n      <th>...</th>\n      <th>Genre_Action</th>\n      <th>Genre_RPG</th>\n      <th>Genre_Puzzle</th>\n      <th>Genre_Racing</th>\n      <th>Genre_Sports</th>\n      <th>Genre_Indie</th>\n      <th>Genre_Board_Games</th>\n      <th>Genre_Fighting</th>\n      <th>Genre_Arcade</th>\n      <th>Genre_Shooter</th>\n    </tr>\n  </thead>\n  <tbody>\n    <tr>\n      <th>4</th>\n      <td>space-engineers</td>\n      <td>21.687678</td>\n      <td>68.0</td>\n      <td>4</td>\n      <td>58</td>\n      <td>0</td>\n      <td>62</td>\n      <td>20</td>\n      <td>0.0</td>\n      <td>False</td>\n      <td>...</td>\n      <td>True</td>\n      <td>False</td>\n      <td>False</td>\n      <td>False</td>\n      <td>False</td>\n      <td>True</td>\n      <td>False</td>\n      <td>False</td>\n      <td>False</td>\n      <td>False</td>\n    </tr>\n    <tr>\n      <th>7</th>\n      <td>europa-universalis-iv</td>\n      <td>96.186275</td>\n      <td>87.0</td>\n      <td>6</td>\n      <td>310</td>\n      <td>0</td>\n      <td>75</td>\n      <td>23</td>\n      <td>0.0</td>\n      <td>False</td>\n      <td>...</td>\n      <td>False</td>\n      <td>False</td>\n      <td>False</td>\n      <td>False</td>\n      <td>False</td>\n      <td>False</td>\n      <td>False</td>\n      <td>False</td>\n      <td>False</td>\n      <td>False</td>\n    </tr>\n    <tr>\n      <th>11</th>\n      <td>hitman-codename-47</td>\n      <td>1.193827</td>\n      <td>73.0</td>\n      <td>1</td>\n      <td>0</td>\n      <td>8</td>\n      <td>116</td>\n      <td>22</td>\n      <td>0.0</td>\n      <td>True</td>\n      <td>...</td>\n      <td>True</td>\n      <td>False</td>\n      <td>False</td>\n      <td>False</td>\n      <td>False</td>\n      <td>False</td>\n      <td>False</td>\n      <td>False</td>\n      <td>False</td>\n      <td>True</td>\n    </tr>\n    <tr>\n      <th>12</th>\n      <td>thief-gold</td>\n      <td>0.925000</td>\n      <td>92.0</td>\n      <td>1</td>\n      <td>0</td>\n      <td>0</td>\n      <td>153</td>\n      <td>31</td>\n      <td>1.0</td>\n      <td>True</td>\n      <td>...</td>\n      <td>True</td>\n      <td>False</td>\n      <td>False</td>\n      <td>False</td>\n      <td>False</td>\n      <td>False</td>\n      <td>False</td>\n      <td>False</td>\n      <td>False</td>\n      <td>False</td>\n    </tr>\n    <tr>\n      <th>13</th>\n      <td>project-snowblind</td>\n      <td>0.887500</td>\n      <td>76.0</td>\n      <td>1</td>\n      <td>0</td>\n      <td>0</td>\n      <td>34</td>\n      <td>4</td>\n      <td>0.0</td>\n      <td>True</td>\n      <td>...</td>\n      <td>True</td>\n      <td>False</td>\n      <td>False</td>\n      <td>False</td>\n      <td>False</td>\n      <td>False</td>\n      <td>False</td>\n      <td>False</td>\n      <td>False</td>\n      <td>False</td>\n    </tr>\n    <tr>\n      <th>...</th>\n      <td>...</td>\n      <td>...</td>\n      <td>...</td>\n      <td>...</td>\n      <td>...</td>\n      <td>...</td>\n      <td>...</td>\n      <td>...</td>\n      <td>...</td>\n      <td>...</td>\n      <td>...</td>\n      <td>...</td>\n      <td>...</td>\n      <td>...</td>\n      <td>...</td>\n      <td>...</td>\n      <td>...</td>\n      <td>...</td>\n      <td>...</td>\n      <td>...</td>\n      <td>...</td>\n    </tr>\n    <tr>\n      <th>4562</th>\n      <td>rise-of-nations-extended-edition</td>\n      <td>4.747368</td>\n      <td>89.0</td>\n      <td>5</td>\n      <td>76</td>\n      <td>0</td>\n      <td>39</td>\n      <td>5</td>\n      <td>0.0</td>\n      <td>False</td>\n      <td>...</td>\n      <td>False</td>\n      <td>False</td>\n      <td>False</td>\n      <td>False</td>\n      <td>False</td>\n      <td>False</td>\n      <td>False</td>\n      <td>False</td>\n      <td>False</td>\n      <td>False</td>\n    </tr>\n    <tr>\n      <th>4573</th>\n      <td>war-for-the-overworld</td>\n      <td>5.378261</td>\n      <td>65.0</td>\n      <td>5</td>\n      <td>135</td>\n      <td>0</td>\n      <td>48</td>\n      <td>5</td>\n      <td>0.0</td>\n      <td>False</td>\n      <td>...</td>\n      <td>True</td>\n      <td>False</td>\n      <td>False</td>\n      <td>False</td>\n      <td>False</td>\n      <td>True</td>\n      <td>False</td>\n      <td>False</td>\n      <td>False</td>\n      <td>False</td>\n    </tr>\n    <tr>\n      <th>4585</th>\n      <td>star-conflict</td>\n      <td>4.510843</td>\n      <td>75.0</td>\n      <td>2</td>\n      <td>213</td>\n      <td>0</td>\n      <td>25</td>\n      <td>3</td>\n      <td>0.0</td>\n      <td>False</td>\n      <td>...</td>\n      <td>True</td>\n      <td>False</td>\n      <td>False</td>\n      <td>False</td>\n      <td>False</td>\n      <td>False</td>\n      <td>False</td>\n      <td>False</td>\n      <td>False</td>\n      <td>False</td>\n    </tr>\n    <tr>\n      <th>4586</th>\n      <td>dirty-bomb</td>\n      <td>3.307529</td>\n      <td>63.0</td>\n      <td>2</td>\n      <td>78</td>\n      <td>0</td>\n      <td>68</td>\n      <td>8</td>\n      <td>0.0</td>\n      <td>False</td>\n      <td>...</td>\n      <td>True</td>\n      <td>False</td>\n      <td>False</td>\n      <td>False</td>\n      <td>False</td>\n      <td>False</td>\n      <td>False</td>\n      <td>False</td>\n      <td>False</td>\n      <td>True</td>\n    </tr>\n    <tr>\n      <th>4592</th>\n      <td>arma-3</td>\n      <td>76.153145</td>\n      <td>74.0</td>\n      <td>19</td>\n      <td>98</td>\n      <td>0</td>\n      <td>38</td>\n      <td>20</td>\n      <td>0.0</td>\n      <td>False</td>\n      <td>...</td>\n      <td>True</td>\n      <td>False</td>\n      <td>False</td>\n      <td>False</td>\n      <td>False</td>\n      <td>False</td>\n      <td>False</td>\n      <td>False</td>\n      <td>False</td>\n      <td>True</td>\n    </tr>\n  </tbody>\n</table>\n<p>1364 rows × 150 columns</p>\n</div>"
     },
     "execution_count": 15,
     "metadata": {},
     "output_type": "execute_result"
    }
   ],
   "source": [
    "wow"
   ],
   "metadata": {
    "collapsed": false
   }
  },
  {
   "cell_type": "code",
   "execution_count": 16,
   "outputs": [
    {
     "data": {
      "text/plain": "                               slug  avg hours played  metacritic  playtime  \\\n11               hitman-codename-47          1.193827        73.0         1   \n36              conflict-denied-ops          1.783333        58.0         1   \n61                         jazzpunk          1.325000        75.0         3   \n84            painkiller-redemption          0.927778        43.0         1   \n139                        cryptark          0.850000        80.0         1   \n...                             ...               ...         ...       ...   \n4442  call-of-duty-advanced-warfare          4.774219        78.0         8   \n4455         call-of-duty-black-ops          8.586279        81.0         9   \n4531                           rust         36.791686        69.0        13   \n4586                     dirty-bomb          3.307529        63.0         2   \n4592                         arma-3         76.153145        74.0        19   \n\n      achievements_count  game_series_count  added_status_yet  \\\n11                     0                  8               116   \n36                    44                  0                21   \n61                    74                  0                52   \n84                     0                  0                31   \n139                   55                  0                12   \n...                  ...                ...               ...   \n4442                 165                 24                40   \n4455                 209                 24                77   \n4531                  58                  0               100   \n4586                  78                  0                68   \n4592                  98                  0                38   \n\n      added_status_toplay  metacritic_good_game Publisher_Square_Enix  ...  \\\n11                     22                   0.0                  True  ...   \n36                      0                   0.0                  True  ...   \n61                     13                   0.0                 False  ...   \n84                      5                   0.0                 False  ...   \n139                     4                   0.0                 False  ...   \n...                   ...                   ...                   ...  ...   \n4442                   59                   0.0                 False  ...   \n4455                   43                   0.0                  True  ...   \n4531                   45                   0.0                 False  ...   \n4586                    8                   0.0                 False  ...   \n4592                   20                   0.0                 False  ...   \n\n     Genre_Action Genre_RPG Genre_Puzzle Genre_Racing Genre_Sports  \\\n11           True     False        False        False        False   \n36           True     False        False        False        False   \n61           True     False        False        False        False   \n84           True     False        False        False        False   \n139          True     False        False        False        False   \n...           ...       ...          ...          ...          ...   \n4442         True     False        False        False        False   \n4455         True     False        False        False        False   \n4531         True      True        False        False        False   \n4586         True     False        False        False        False   \n4592         True     False        False        False        False   \n\n     Genre_Indie Genre_Board_Games Genre_Fighting Genre_Arcade Genre_Shooter  \n11         False             False          False        False          True  \n36         False             False          False        False          True  \n61          True             False          False        False          True  \n84         False             False          False        False          True  \n139         True             False          False        False          True  \n...          ...               ...            ...          ...           ...  \n4442       False             False          False        False          True  \n4455       False             False          False        False          True  \n4531        True             False          False        False          True  \n4586       False             False          False        False          True  \n4592       False             False          False        False          True  \n\n[204 rows x 150 columns]",
      "text/html": "<div>\n<style scoped>\n    .dataframe tbody tr th:only-of-type {\n        vertical-align: middle;\n    }\n\n    .dataframe tbody tr th {\n        vertical-align: top;\n    }\n\n    .dataframe thead th {\n        text-align: right;\n    }\n</style>\n<table border=\"1\" class=\"dataframe\">\n  <thead>\n    <tr style=\"text-align: right;\">\n      <th></th>\n      <th>slug</th>\n      <th>avg hours played</th>\n      <th>metacritic</th>\n      <th>playtime</th>\n      <th>achievements_count</th>\n      <th>game_series_count</th>\n      <th>added_status_yet</th>\n      <th>added_status_toplay</th>\n      <th>metacritic_good_game</th>\n      <th>Publisher_Square_Enix</th>\n      <th>...</th>\n      <th>Genre_Action</th>\n      <th>Genre_RPG</th>\n      <th>Genre_Puzzle</th>\n      <th>Genre_Racing</th>\n      <th>Genre_Sports</th>\n      <th>Genre_Indie</th>\n      <th>Genre_Board_Games</th>\n      <th>Genre_Fighting</th>\n      <th>Genre_Arcade</th>\n      <th>Genre_Shooter</th>\n    </tr>\n  </thead>\n  <tbody>\n    <tr>\n      <th>11</th>\n      <td>hitman-codename-47</td>\n      <td>1.193827</td>\n      <td>73.0</td>\n      <td>1</td>\n      <td>0</td>\n      <td>8</td>\n      <td>116</td>\n      <td>22</td>\n      <td>0.0</td>\n      <td>True</td>\n      <td>...</td>\n      <td>True</td>\n      <td>False</td>\n      <td>False</td>\n      <td>False</td>\n      <td>False</td>\n      <td>False</td>\n      <td>False</td>\n      <td>False</td>\n      <td>False</td>\n      <td>True</td>\n    </tr>\n    <tr>\n      <th>36</th>\n      <td>conflict-denied-ops</td>\n      <td>1.783333</td>\n      <td>58.0</td>\n      <td>1</td>\n      <td>44</td>\n      <td>0</td>\n      <td>21</td>\n      <td>0</td>\n      <td>0.0</td>\n      <td>True</td>\n      <td>...</td>\n      <td>True</td>\n      <td>False</td>\n      <td>False</td>\n      <td>False</td>\n      <td>False</td>\n      <td>False</td>\n      <td>False</td>\n      <td>False</td>\n      <td>False</td>\n      <td>True</td>\n    </tr>\n    <tr>\n      <th>61</th>\n      <td>jazzpunk</td>\n      <td>1.325000</td>\n      <td>75.0</td>\n      <td>3</td>\n      <td>74</td>\n      <td>0</td>\n      <td>52</td>\n      <td>13</td>\n      <td>0.0</td>\n      <td>False</td>\n      <td>...</td>\n      <td>True</td>\n      <td>False</td>\n      <td>False</td>\n      <td>False</td>\n      <td>False</td>\n      <td>True</td>\n      <td>False</td>\n      <td>False</td>\n      <td>False</td>\n      <td>True</td>\n    </tr>\n    <tr>\n      <th>84</th>\n      <td>painkiller-redemption</td>\n      <td>0.927778</td>\n      <td>43.0</td>\n      <td>1</td>\n      <td>0</td>\n      <td>0</td>\n      <td>31</td>\n      <td>5</td>\n      <td>0.0</td>\n      <td>False</td>\n      <td>...</td>\n      <td>True</td>\n      <td>False</td>\n      <td>False</td>\n      <td>False</td>\n      <td>False</td>\n      <td>False</td>\n      <td>False</td>\n      <td>False</td>\n      <td>False</td>\n      <td>True</td>\n    </tr>\n    <tr>\n      <th>139</th>\n      <td>cryptark</td>\n      <td>0.850000</td>\n      <td>80.0</td>\n      <td>1</td>\n      <td>55</td>\n      <td>0</td>\n      <td>12</td>\n      <td>4</td>\n      <td>0.0</td>\n      <td>False</td>\n      <td>...</td>\n      <td>True</td>\n      <td>False</td>\n      <td>False</td>\n      <td>False</td>\n      <td>False</td>\n      <td>True</td>\n      <td>False</td>\n      <td>False</td>\n      <td>False</td>\n      <td>True</td>\n    </tr>\n    <tr>\n      <th>...</th>\n      <td>...</td>\n      <td>...</td>\n      <td>...</td>\n      <td>...</td>\n      <td>...</td>\n      <td>...</td>\n      <td>...</td>\n      <td>...</td>\n      <td>...</td>\n      <td>...</td>\n      <td>...</td>\n      <td>...</td>\n      <td>...</td>\n      <td>...</td>\n      <td>...</td>\n      <td>...</td>\n      <td>...</td>\n      <td>...</td>\n      <td>...</td>\n      <td>...</td>\n      <td>...</td>\n    </tr>\n    <tr>\n      <th>4442</th>\n      <td>call-of-duty-advanced-warfare</td>\n      <td>4.774219</td>\n      <td>78.0</td>\n      <td>8</td>\n      <td>165</td>\n      <td>24</td>\n      <td>40</td>\n      <td>59</td>\n      <td>0.0</td>\n      <td>False</td>\n      <td>...</td>\n      <td>True</td>\n      <td>False</td>\n      <td>False</td>\n      <td>False</td>\n      <td>False</td>\n      <td>False</td>\n      <td>False</td>\n      <td>False</td>\n      <td>False</td>\n      <td>True</td>\n    </tr>\n    <tr>\n      <th>4455</th>\n      <td>call-of-duty-black-ops</td>\n      <td>8.586279</td>\n      <td>81.0</td>\n      <td>9</td>\n      <td>209</td>\n      <td>24</td>\n      <td>77</td>\n      <td>43</td>\n      <td>0.0</td>\n      <td>True</td>\n      <td>...</td>\n      <td>True</td>\n      <td>False</td>\n      <td>False</td>\n      <td>False</td>\n      <td>False</td>\n      <td>False</td>\n      <td>False</td>\n      <td>False</td>\n      <td>False</td>\n      <td>True</td>\n    </tr>\n    <tr>\n      <th>4531</th>\n      <td>rust</td>\n      <td>36.791686</td>\n      <td>69.0</td>\n      <td>13</td>\n      <td>58</td>\n      <td>0</td>\n      <td>100</td>\n      <td>45</td>\n      <td>0.0</td>\n      <td>False</td>\n      <td>...</td>\n      <td>True</td>\n      <td>True</td>\n      <td>False</td>\n      <td>False</td>\n      <td>False</td>\n      <td>True</td>\n      <td>False</td>\n      <td>False</td>\n      <td>False</td>\n      <td>True</td>\n    </tr>\n    <tr>\n      <th>4586</th>\n      <td>dirty-bomb</td>\n      <td>3.307529</td>\n      <td>63.0</td>\n      <td>2</td>\n      <td>78</td>\n      <td>0</td>\n      <td>68</td>\n      <td>8</td>\n      <td>0.0</td>\n      <td>False</td>\n      <td>...</td>\n      <td>True</td>\n      <td>False</td>\n      <td>False</td>\n      <td>False</td>\n      <td>False</td>\n      <td>False</td>\n      <td>False</td>\n      <td>False</td>\n      <td>False</td>\n      <td>True</td>\n    </tr>\n    <tr>\n      <th>4592</th>\n      <td>arma-3</td>\n      <td>76.153145</td>\n      <td>74.0</td>\n      <td>19</td>\n      <td>98</td>\n      <td>0</td>\n      <td>38</td>\n      <td>20</td>\n      <td>0.0</td>\n      <td>False</td>\n      <td>...</td>\n      <td>True</td>\n      <td>False</td>\n      <td>False</td>\n      <td>False</td>\n      <td>False</td>\n      <td>False</td>\n      <td>False</td>\n      <td>False</td>\n      <td>False</td>\n      <td>True</td>\n    </tr>\n  </tbody>\n</table>\n<p>204 rows × 150 columns</p>\n</div>"
     },
     "execution_count": 16,
     "metadata": {},
     "output_type": "execute_result"
    }
   ],
   "source": [
    "wow[wow.Genre_Shooter == 1]"
   ],
   "metadata": {
    "collapsed": false
   }
  },
  {
   "cell_type": "code",
   "execution_count": 17,
   "outputs": [
    {
     "data": {
      "text/plain": "                                                    avg hours played\nslug                                                                \n007-legends                                                 0.850000\n0rbitalis                                                   0.700000\n1...-2...-3...-kick-it!-(drop-that-beat-like-an...          2.250000\n10,000,000                                                  2.300000\n10-second-ninja                                             1.487500\n...                                                              ...\nzoombinis                                                   2.300000\nzotrix                                                      0.750000\nzuma's-revenge                                             20.071429\nzuma's-revenge!---adventure                                 0.975000\nzuma-deluxe                                                 0.900000\n\n[5155 rows x 1 columns]",
      "text/html": "<div>\n<style scoped>\n    .dataframe tbody tr th:only-of-type {\n        vertical-align: middle;\n    }\n\n    .dataframe tbody tr th {\n        vertical-align: top;\n    }\n\n    .dataframe thead th {\n        text-align: right;\n    }\n</style>\n<table border=\"1\" class=\"dataframe\">\n  <thead>\n    <tr style=\"text-align: right;\">\n      <th></th>\n      <th>avg hours played</th>\n    </tr>\n    <tr>\n      <th>slug</th>\n      <th></th>\n    </tr>\n  </thead>\n  <tbody>\n    <tr>\n      <th>007-legends</th>\n      <td>0.850000</td>\n    </tr>\n    <tr>\n      <th>0rbitalis</th>\n      <td>0.700000</td>\n    </tr>\n    <tr>\n      <th>1...-2...-3...-kick-it!-(drop-that-beat-like-an-ugly-baby)</th>\n      <td>2.250000</td>\n    </tr>\n    <tr>\n      <th>10,000,000</th>\n      <td>2.300000</td>\n    </tr>\n    <tr>\n      <th>10-second-ninja</th>\n      <td>1.487500</td>\n    </tr>\n    <tr>\n      <th>...</th>\n      <td>...</td>\n    </tr>\n    <tr>\n      <th>zoombinis</th>\n      <td>2.300000</td>\n    </tr>\n    <tr>\n      <th>zotrix</th>\n      <td>0.750000</td>\n    </tr>\n    <tr>\n      <th>zuma's-revenge</th>\n      <td>20.071429</td>\n    </tr>\n    <tr>\n      <th>zuma's-revenge!---adventure</th>\n      <td>0.975000</td>\n    </tr>\n    <tr>\n      <th>zuma-deluxe</th>\n      <td>0.900000</td>\n    </tr>\n  </tbody>\n</table>\n<p>5155 rows × 1 columns</p>\n</div>"
     },
     "execution_count": 17,
     "metadata": {},
     "output_type": "execute_result"
    }
   ],
   "source": [
    "df"
   ],
   "metadata": {
    "collapsed": false
   }
  },
  {
   "cell_type": "code",
   "execution_count": 18,
   "outputs": [
    {
     "data": {
      "text/plain": "                       slug  avg hours played  metacritic  playtime  \\\n3993            007-legends          0.850000        37.0         1   \n1509      99-levels-to-hell          1.146154        66.0         3   \n1535              alan-wake          5.389908        83.0         5   \n3718  alien-breed-2-assault          1.644444        63.0         1   \n3710  alien-breed-3-descent          1.968000        64.0         1   \n...                     ...               ...         ...       ...   \n1240                  xotic          1.000000        67.0         1   \n924              zeno-clash          1.257143        77.0         3   \n3192           zeno-clash-2          1.584615        63.0         3   \n2701               ziggurat          1.377778        75.0         4   \n2826    zombie-army-trilogy          2.700000        72.0         4   \n\n      achievements_count  game_series_count  added_status_yet  \\\n3993                 147                  0                 8   \n1509                  23                  0                 6   \n1535                 134                  1               392   \n3718                  48                  0                59   \n3710                  51                  0                41   \n...                  ...                ...               ...   \n1240                  49                  0                17   \n924                   34                  0                51   \n3192                  35                  0                46   \n2701                 141                  0               112   \n2826                 200                  0                82   \n\n      added_status_toplay  metacritic_good_game Publisher_Square_Enix  ...  \\\n3993                    2                   0.0                 False  ...   \n1509                    0                   0.0                 False  ...   \n1535                  145                   0.0                 False  ...   \n3718                    6                   0.0                 False  ...   \n3710                    6                   0.0                 False  ...   \n...                   ...                   ...                   ...  ...   \n1240                    0                   0.0                 False  ...   \n924                     9                   0.0                 False  ...   \n3192                    9                   0.0                 False  ...   \n2701                    8                   0.0                 False  ...   \n2826                   15                   0.0                 False  ...   \n\n     Genre_Action Genre_RPG Genre_Puzzle Genre_Racing Genre_Sports  \\\n3993         True     False        False        False        False   \n1509         True     False        False        False        False   \n1535         True     False        False        False        False   \n3718         True     False        False        False        False   \n3710         True     False        False        False        False   \n...           ...       ...          ...          ...          ...   \n1240         True     False        False        False        False   \n924          True     False        False        False        False   \n3192         True     False        False        False        False   \n2701         True      True        False        False        False   \n2826         True     False        False        False        False   \n\n     Genre_Indie Genre_Board_Games Genre_Fighting Genre_Arcade Genre_Shooter  \n3993       False             False          False        False          True  \n1509        True             False          False         True          True  \n1535       False             False          False        False          True  \n3718       False             False          False         True          True  \n3710       False             False          False        False          True  \n...          ...               ...            ...          ...           ...  \n1240        True             False          False        False          True  \n924         True             False          False        False          True  \n3192        True             False           True        False          True  \n2701        True             False          False        False          True  \n2826       False             False          False        False          True  \n\n[204 rows x 150 columns]",
      "text/html": "<div>\n<style scoped>\n    .dataframe tbody tr th:only-of-type {\n        vertical-align: middle;\n    }\n\n    .dataframe tbody tr th {\n        vertical-align: top;\n    }\n\n    .dataframe thead th {\n        text-align: right;\n    }\n</style>\n<table border=\"1\" class=\"dataframe\">\n  <thead>\n    <tr style=\"text-align: right;\">\n      <th></th>\n      <th>slug</th>\n      <th>avg hours played</th>\n      <th>metacritic</th>\n      <th>playtime</th>\n      <th>achievements_count</th>\n      <th>game_series_count</th>\n      <th>added_status_yet</th>\n      <th>added_status_toplay</th>\n      <th>metacritic_good_game</th>\n      <th>Publisher_Square_Enix</th>\n      <th>...</th>\n      <th>Genre_Action</th>\n      <th>Genre_RPG</th>\n      <th>Genre_Puzzle</th>\n      <th>Genre_Racing</th>\n      <th>Genre_Sports</th>\n      <th>Genre_Indie</th>\n      <th>Genre_Board_Games</th>\n      <th>Genre_Fighting</th>\n      <th>Genre_Arcade</th>\n      <th>Genre_Shooter</th>\n    </tr>\n  </thead>\n  <tbody>\n    <tr>\n      <th>3993</th>\n      <td>007-legends</td>\n      <td>0.850000</td>\n      <td>37.0</td>\n      <td>1</td>\n      <td>147</td>\n      <td>0</td>\n      <td>8</td>\n      <td>2</td>\n      <td>0.0</td>\n      <td>False</td>\n      <td>...</td>\n      <td>True</td>\n      <td>False</td>\n      <td>False</td>\n      <td>False</td>\n      <td>False</td>\n      <td>False</td>\n      <td>False</td>\n      <td>False</td>\n      <td>False</td>\n      <td>True</td>\n    </tr>\n    <tr>\n      <th>1509</th>\n      <td>99-levels-to-hell</td>\n      <td>1.146154</td>\n      <td>66.0</td>\n      <td>3</td>\n      <td>23</td>\n      <td>0</td>\n      <td>6</td>\n      <td>0</td>\n      <td>0.0</td>\n      <td>False</td>\n      <td>...</td>\n      <td>True</td>\n      <td>False</td>\n      <td>False</td>\n      <td>False</td>\n      <td>False</td>\n      <td>True</td>\n      <td>False</td>\n      <td>False</td>\n      <td>True</td>\n      <td>True</td>\n    </tr>\n    <tr>\n      <th>1535</th>\n      <td>alan-wake</td>\n      <td>5.389908</td>\n      <td>83.0</td>\n      <td>5</td>\n      <td>134</td>\n      <td>1</td>\n      <td>392</td>\n      <td>145</td>\n      <td>0.0</td>\n      <td>False</td>\n      <td>...</td>\n      <td>True</td>\n      <td>False</td>\n      <td>False</td>\n      <td>False</td>\n      <td>False</td>\n      <td>False</td>\n      <td>False</td>\n      <td>False</td>\n      <td>False</td>\n      <td>True</td>\n    </tr>\n    <tr>\n      <th>3718</th>\n      <td>alien-breed-2-assault</td>\n      <td>1.644444</td>\n      <td>63.0</td>\n      <td>1</td>\n      <td>48</td>\n      <td>0</td>\n      <td>59</td>\n      <td>6</td>\n      <td>0.0</td>\n      <td>False</td>\n      <td>...</td>\n      <td>True</td>\n      <td>False</td>\n      <td>False</td>\n      <td>False</td>\n      <td>False</td>\n      <td>False</td>\n      <td>False</td>\n      <td>False</td>\n      <td>True</td>\n      <td>True</td>\n    </tr>\n    <tr>\n      <th>3710</th>\n      <td>alien-breed-3-descent</td>\n      <td>1.968000</td>\n      <td>64.0</td>\n      <td>1</td>\n      <td>51</td>\n      <td>0</td>\n      <td>41</td>\n      <td>6</td>\n      <td>0.0</td>\n      <td>False</td>\n      <td>...</td>\n      <td>True</td>\n      <td>False</td>\n      <td>False</td>\n      <td>False</td>\n      <td>False</td>\n      <td>False</td>\n      <td>False</td>\n      <td>False</td>\n      <td>False</td>\n      <td>True</td>\n    </tr>\n    <tr>\n      <th>...</th>\n      <td>...</td>\n      <td>...</td>\n      <td>...</td>\n      <td>...</td>\n      <td>...</td>\n      <td>...</td>\n      <td>...</td>\n      <td>...</td>\n      <td>...</td>\n      <td>...</td>\n      <td>...</td>\n      <td>...</td>\n      <td>...</td>\n      <td>...</td>\n      <td>...</td>\n      <td>...</td>\n      <td>...</td>\n      <td>...</td>\n      <td>...</td>\n      <td>...</td>\n      <td>...</td>\n    </tr>\n    <tr>\n      <th>1240</th>\n      <td>xotic</td>\n      <td>1.000000</td>\n      <td>67.0</td>\n      <td>1</td>\n      <td>49</td>\n      <td>0</td>\n      <td>17</td>\n      <td>0</td>\n      <td>0.0</td>\n      <td>False</td>\n      <td>...</td>\n      <td>True</td>\n      <td>False</td>\n      <td>False</td>\n      <td>False</td>\n      <td>False</td>\n      <td>True</td>\n      <td>False</td>\n      <td>False</td>\n      <td>False</td>\n      <td>True</td>\n    </tr>\n    <tr>\n      <th>924</th>\n      <td>zeno-clash</td>\n      <td>1.257143</td>\n      <td>77.0</td>\n      <td>3</td>\n      <td>34</td>\n      <td>0</td>\n      <td>51</td>\n      <td>9</td>\n      <td>0.0</td>\n      <td>False</td>\n      <td>...</td>\n      <td>True</td>\n      <td>False</td>\n      <td>False</td>\n      <td>False</td>\n      <td>False</td>\n      <td>True</td>\n      <td>False</td>\n      <td>False</td>\n      <td>False</td>\n      <td>True</td>\n    </tr>\n    <tr>\n      <th>3192</th>\n      <td>zeno-clash-2</td>\n      <td>1.584615</td>\n      <td>63.0</td>\n      <td>3</td>\n      <td>35</td>\n      <td>0</td>\n      <td>46</td>\n      <td>9</td>\n      <td>0.0</td>\n      <td>False</td>\n      <td>...</td>\n      <td>True</td>\n      <td>False</td>\n      <td>False</td>\n      <td>False</td>\n      <td>False</td>\n      <td>True</td>\n      <td>False</td>\n      <td>True</td>\n      <td>False</td>\n      <td>True</td>\n    </tr>\n    <tr>\n      <th>2701</th>\n      <td>ziggurat</td>\n      <td>1.377778</td>\n      <td>75.0</td>\n      <td>4</td>\n      <td>141</td>\n      <td>0</td>\n      <td>112</td>\n      <td>8</td>\n      <td>0.0</td>\n      <td>False</td>\n      <td>...</td>\n      <td>True</td>\n      <td>True</td>\n      <td>False</td>\n      <td>False</td>\n      <td>False</td>\n      <td>True</td>\n      <td>False</td>\n      <td>False</td>\n      <td>False</td>\n      <td>True</td>\n    </tr>\n    <tr>\n      <th>2826</th>\n      <td>zombie-army-trilogy</td>\n      <td>2.700000</td>\n      <td>72.0</td>\n      <td>4</td>\n      <td>200</td>\n      <td>0</td>\n      <td>82</td>\n      <td>15</td>\n      <td>0.0</td>\n      <td>False</td>\n      <td>...</td>\n      <td>True</td>\n      <td>False</td>\n      <td>False</td>\n      <td>False</td>\n      <td>False</td>\n      <td>False</td>\n      <td>False</td>\n      <td>False</td>\n      <td>False</td>\n      <td>True</td>\n    </tr>\n  </tbody>\n</table>\n<p>204 rows × 150 columns</p>\n</div>"
     },
     "execution_count": 18,
     "metadata": {},
     "output_type": "execute_result"
    }
   ],
   "source": [
    "wow[wow.Genre_Shooter == 1].sort_values('slug')"
   ],
   "metadata": {
    "collapsed": false
   }
  },
  {
   "cell_type": "code",
   "execution_count": 19,
   "outputs": [
    {
     "data": {
      "text/plain": "                                       slug  metacritic  playtime  \\\n1307    tom-clancys-ghost-recon-wildlands-2        72.0        21   \n1487           playerunknowns-battlegrounds        81.0        50   \n2215                                 dota-2        90.0        13   \n2381               shattered-skies-prologue        56.0         1   \n3079                                   tera        77.0         3   \n...                                     ...         ...       ...   \n472420                 ark-survival-evolved        70.0         8   \n474114                          spellweaver        63.0         1   \n474164                        star-conflict        75.0         2   \n474207                        battlefield-1        88.0         5   \n474237                         blitzkrieg-3        68.0         5   \n\n        achievements_count  game_series_count  added_status_yet  \\\n1307                   113                  0                55   \n1487                   113                  1                63   \n2215                     0                  1               132   \n2381                     0                  0                 3   \n3079                   102                  0                78   \n...                    ...                ...               ...   \n472420                  98                  1               121   \n474114                  20                  0                 6   \n474164                 213                  0                25   \n474207                 152                  9               114   \n474237                  75                  0                 8   \n\n        added_status_toplay  metacritic_good_game Publisher_Square_Enix  \\\n1307                     77                   0.0                 False   \n1487                     55                   0.0                 False   \n2215                     13                   0.0                 False   \n2381                      2                   0.0                 False   \n3079                      8                   0.0                 False   \n...                     ...                   ...                   ...   \n472420                   29                   0.0                 False   \n474114                    0                   0.0                 False   \n474164                    3                   0.0                 False   \n474207                  117                   0.0                 False   \n474237                    3                   0.0                 False   \n\n       Publisher_Electronic_Arts  ... Genre_Action Genre_RPG Genre_Puzzle  \\\n1307                       False  ...         True     False        False   \n1487                       False  ...         True     False        False   \n2215                       False  ...         True     False        False   \n2381                       False  ...         True      True        False   \n3079                       False  ...         True      True        False   \n...                          ...  ...          ...       ...          ...   \n472420                     False  ...         True      True        False   \n474114                     False  ...        False     False        False   \n474164                     False  ...         True     False        False   \n474207                      True  ...         True     False        False   \n474237                     False  ...        False     False        False   \n\n       Genre_Racing Genre_Sports Genre_Indie Genre_Board_Games Genre_Fighting  \\\n1307          False        False       False             False          False   \n1487          False        False       False             False          False   \n2215          False        False       False             False          False   \n2381          False        False        True             False          False   \n3079          False        False       False             False          False   \n...             ...          ...         ...               ...            ...   \n472420        False        False        True             False          False   \n474114        False        False        True             False          False   \n474164        False        False       False             False          False   \n474207        False        False       False             False          False   \n474237        False        False       False             False          False   \n\n       Genre_Arcade Genre_Shooter  \n1307          False          True  \n1487          False          True  \n2215          False         False  \n2381          False         False  \n3079          False         False  \n...             ...           ...  \n472420        False         False  \n474114        False         False  \n474164        False         False  \n474207        False          True  \n474237        False         False  \n\n[106 rows x 149 columns]",
      "text/html": "<div>\n<style scoped>\n    .dataframe tbody tr th:only-of-type {\n        vertical-align: middle;\n    }\n\n    .dataframe tbody tr th {\n        vertical-align: top;\n    }\n\n    .dataframe thead th {\n        text-align: right;\n    }\n</style>\n<table border=\"1\" class=\"dataframe\">\n  <thead>\n    <tr style=\"text-align: right;\">\n      <th></th>\n      <th>slug</th>\n      <th>metacritic</th>\n      <th>playtime</th>\n      <th>achievements_count</th>\n      <th>game_series_count</th>\n      <th>added_status_yet</th>\n      <th>added_status_toplay</th>\n      <th>metacritic_good_game</th>\n      <th>Publisher_Square_Enix</th>\n      <th>Publisher_Electronic_Arts</th>\n      <th>...</th>\n      <th>Genre_Action</th>\n      <th>Genre_RPG</th>\n      <th>Genre_Puzzle</th>\n      <th>Genre_Racing</th>\n      <th>Genre_Sports</th>\n      <th>Genre_Indie</th>\n      <th>Genre_Board_Games</th>\n      <th>Genre_Fighting</th>\n      <th>Genre_Arcade</th>\n      <th>Genre_Shooter</th>\n    </tr>\n  </thead>\n  <tbody>\n    <tr>\n      <th>1307</th>\n      <td>tom-clancys-ghost-recon-wildlands-2</td>\n      <td>72.0</td>\n      <td>21</td>\n      <td>113</td>\n      <td>0</td>\n      <td>55</td>\n      <td>77</td>\n      <td>0.0</td>\n      <td>False</td>\n      <td>False</td>\n      <td>...</td>\n      <td>True</td>\n      <td>False</td>\n      <td>False</td>\n      <td>False</td>\n      <td>False</td>\n      <td>False</td>\n      <td>False</td>\n      <td>False</td>\n      <td>False</td>\n      <td>True</td>\n    </tr>\n    <tr>\n      <th>1487</th>\n      <td>playerunknowns-battlegrounds</td>\n      <td>81.0</td>\n      <td>50</td>\n      <td>113</td>\n      <td>1</td>\n      <td>63</td>\n      <td>55</td>\n      <td>0.0</td>\n      <td>False</td>\n      <td>False</td>\n      <td>...</td>\n      <td>True</td>\n      <td>False</td>\n      <td>False</td>\n      <td>False</td>\n      <td>False</td>\n      <td>False</td>\n      <td>False</td>\n      <td>False</td>\n      <td>False</td>\n      <td>True</td>\n    </tr>\n    <tr>\n      <th>2215</th>\n      <td>dota-2</td>\n      <td>90.0</td>\n      <td>13</td>\n      <td>0</td>\n      <td>1</td>\n      <td>132</td>\n      <td>13</td>\n      <td>0.0</td>\n      <td>False</td>\n      <td>False</td>\n      <td>...</td>\n      <td>True</td>\n      <td>False</td>\n      <td>False</td>\n      <td>False</td>\n      <td>False</td>\n      <td>False</td>\n      <td>False</td>\n      <td>False</td>\n      <td>False</td>\n      <td>False</td>\n    </tr>\n    <tr>\n      <th>2381</th>\n      <td>shattered-skies-prologue</td>\n      <td>56.0</td>\n      <td>1</td>\n      <td>0</td>\n      <td>0</td>\n      <td>3</td>\n      <td>2</td>\n      <td>0.0</td>\n      <td>False</td>\n      <td>False</td>\n      <td>...</td>\n      <td>True</td>\n      <td>True</td>\n      <td>False</td>\n      <td>False</td>\n      <td>False</td>\n      <td>True</td>\n      <td>False</td>\n      <td>False</td>\n      <td>False</td>\n      <td>False</td>\n    </tr>\n    <tr>\n      <th>3079</th>\n      <td>tera</td>\n      <td>77.0</td>\n      <td>3</td>\n      <td>102</td>\n      <td>0</td>\n      <td>78</td>\n      <td>8</td>\n      <td>0.0</td>\n      <td>False</td>\n      <td>False</td>\n      <td>...</td>\n      <td>True</td>\n      <td>True</td>\n      <td>False</td>\n      <td>False</td>\n      <td>False</td>\n      <td>False</td>\n      <td>False</td>\n      <td>False</td>\n      <td>False</td>\n      <td>False</td>\n    </tr>\n    <tr>\n      <th>...</th>\n      <td>...</td>\n      <td>...</td>\n      <td>...</td>\n      <td>...</td>\n      <td>...</td>\n      <td>...</td>\n      <td>...</td>\n      <td>...</td>\n      <td>...</td>\n      <td>...</td>\n      <td>...</td>\n      <td>...</td>\n      <td>...</td>\n      <td>...</td>\n      <td>...</td>\n      <td>...</td>\n      <td>...</td>\n      <td>...</td>\n      <td>...</td>\n      <td>...</td>\n      <td>...</td>\n    </tr>\n    <tr>\n      <th>472420</th>\n      <td>ark-survival-evolved</td>\n      <td>70.0</td>\n      <td>8</td>\n      <td>98</td>\n      <td>1</td>\n      <td>121</td>\n      <td>29</td>\n      <td>0.0</td>\n      <td>False</td>\n      <td>False</td>\n      <td>...</td>\n      <td>True</td>\n      <td>True</td>\n      <td>False</td>\n      <td>False</td>\n      <td>False</td>\n      <td>True</td>\n      <td>False</td>\n      <td>False</td>\n      <td>False</td>\n      <td>False</td>\n    </tr>\n    <tr>\n      <th>474114</th>\n      <td>spellweaver</td>\n      <td>63.0</td>\n      <td>1</td>\n      <td>20</td>\n      <td>0</td>\n      <td>6</td>\n      <td>0</td>\n      <td>0.0</td>\n      <td>False</td>\n      <td>False</td>\n      <td>...</td>\n      <td>False</td>\n      <td>False</td>\n      <td>False</td>\n      <td>False</td>\n      <td>False</td>\n      <td>True</td>\n      <td>False</td>\n      <td>False</td>\n      <td>False</td>\n      <td>False</td>\n    </tr>\n    <tr>\n      <th>474164</th>\n      <td>star-conflict</td>\n      <td>75.0</td>\n      <td>2</td>\n      <td>213</td>\n      <td>0</td>\n      <td>25</td>\n      <td>3</td>\n      <td>0.0</td>\n      <td>False</td>\n      <td>False</td>\n      <td>...</td>\n      <td>True</td>\n      <td>False</td>\n      <td>False</td>\n      <td>False</td>\n      <td>False</td>\n      <td>False</td>\n      <td>False</td>\n      <td>False</td>\n      <td>False</td>\n      <td>False</td>\n    </tr>\n    <tr>\n      <th>474207</th>\n      <td>battlefield-1</td>\n      <td>88.0</td>\n      <td>5</td>\n      <td>152</td>\n      <td>9</td>\n      <td>114</td>\n      <td>117</td>\n      <td>0.0</td>\n      <td>False</td>\n      <td>True</td>\n      <td>...</td>\n      <td>True</td>\n      <td>False</td>\n      <td>False</td>\n      <td>False</td>\n      <td>False</td>\n      <td>False</td>\n      <td>False</td>\n      <td>False</td>\n      <td>False</td>\n      <td>True</td>\n    </tr>\n    <tr>\n      <th>474237</th>\n      <td>blitzkrieg-3</td>\n      <td>68.0</td>\n      <td>5</td>\n      <td>75</td>\n      <td>0</td>\n      <td>8</td>\n      <td>3</td>\n      <td>0.0</td>\n      <td>False</td>\n      <td>False</td>\n      <td>...</td>\n      <td>False</td>\n      <td>False</td>\n      <td>False</td>\n      <td>False</td>\n      <td>False</td>\n      <td>False</td>\n      <td>False</td>\n      <td>False</td>\n      <td>False</td>\n      <td>False</td>\n    </tr>\n  </tbody>\n</table>\n<p>106 rows × 149 columns</p>\n</div>"
     },
     "execution_count": 19,
     "metadata": {},
     "output_type": "execute_result"
    }
   ],
   "source": [
    "feat_df[feat_df.Genre_Massively_Multiplayer == 1]"
   ],
   "metadata": {
    "collapsed": false
   }
  },
  {
   "cell_type": "code",
   "execution_count": 20,
   "outputs": [
    {
     "data": {
      "text/plain": "                               slug  metacritic  playtime  achievements_count  \\\n435056                  007-legends        37.0         1                 147   \n100578            99-levels-to-hell        66.0         3                  23   \n82827              a-fistful-of-gun        60.0         4                  20   \n100981  air-conflicts-secret-wars-2        65.0         1                  69   \n276988        air-conflicts-vietnam        43.0         2                  38   \n...                             ...         ...       ...                 ...   \n88072                         zeit2        72.0         1                  82   \n71000                    zeno-clash        77.0         3                  34   \n290422                 zeno-clash-2        63.0         3                  35   \n221575                     ziggurat        75.0         4                 141   \n242675          zombie-army-trilogy        72.0         4                 200   \n\n        game_series_count  added_status_yet  added_status_toplay  \\\n435056                  0                 8                    2   \n100578                  0                 6                    0   \n82827                   0                43                    4   \n100981                  0                 3                    2   \n276988                  0                 2                    0   \n...                   ...               ...                  ...   \n88072                   0                 1                    0   \n71000                   0                51                    9   \n290422                  0                46                    9   \n221575                  0               112                    8   \n242675                  0                82                   15   \n\n        metacritic_good_game Publisher_Square_Enix Publisher_Electronic_Arts  \\\n435056                   0.0                 False                     False   \n100578                   0.0                 False                     False   \n82827                    0.0                 False                     False   \n100981                   0.0                 False                     False   \n276988                   0.0                 False                     False   \n...                      ...                   ...                       ...   \n88072                    0.0                 False                     False   \n71000                    0.0                 False                     False   \n290422                   0.0                 False                     False   \n221575                   0.0                 False                     False   \n242675                   0.0                 False                     False   \n\n        ... Genre_Action Genre_RPG Genre_Puzzle Genre_Racing Genre_Sports  \\\n435056  ...         True     False        False        False        False   \n100578  ...         True     False        False        False        False   \n82827   ...         True     False        False        False        False   \n100981  ...         True     False        False        False        False   \n276988  ...         True     False        False        False        False   \n...     ...          ...       ...          ...          ...          ...   \n88072   ...         True     False        False        False        False   \n71000   ...         True     False        False        False        False   \n290422  ...         True     False        False        False        False   \n221575  ...         True      True        False        False        False   \n242675  ...         True     False        False        False        False   \n\n       Genre_Indie Genre_Board_Games Genre_Fighting Genre_Arcade Genre_Shooter  \n435056       False             False          False        False          True  \n100578        True             False          False         True          True  \n82827         True             False          False        False          True  \n100981       False             False          False        False          True  \n276988       False             False          False        False          True  \n...            ...               ...            ...          ...           ...  \n88072         True             False          False        False          True  \n71000         True             False          False        False          True  \n290422        True             False           True        False          True  \n221575        True             False          False        False          True  \n242675       False             False          False        False          True  \n\n[564 rows x 149 columns]",
      "text/html": "<div>\n<style scoped>\n    .dataframe tbody tr th:only-of-type {\n        vertical-align: middle;\n    }\n\n    .dataframe tbody tr th {\n        vertical-align: top;\n    }\n\n    .dataframe thead th {\n        text-align: right;\n    }\n</style>\n<table border=\"1\" class=\"dataframe\">\n  <thead>\n    <tr style=\"text-align: right;\">\n      <th></th>\n      <th>slug</th>\n      <th>metacritic</th>\n      <th>playtime</th>\n      <th>achievements_count</th>\n      <th>game_series_count</th>\n      <th>added_status_yet</th>\n      <th>added_status_toplay</th>\n      <th>metacritic_good_game</th>\n      <th>Publisher_Square_Enix</th>\n      <th>Publisher_Electronic_Arts</th>\n      <th>...</th>\n      <th>Genre_Action</th>\n      <th>Genre_RPG</th>\n      <th>Genre_Puzzle</th>\n      <th>Genre_Racing</th>\n      <th>Genre_Sports</th>\n      <th>Genre_Indie</th>\n      <th>Genre_Board_Games</th>\n      <th>Genre_Fighting</th>\n      <th>Genre_Arcade</th>\n      <th>Genre_Shooter</th>\n    </tr>\n  </thead>\n  <tbody>\n    <tr>\n      <th>435056</th>\n      <td>007-legends</td>\n      <td>37.0</td>\n      <td>1</td>\n      <td>147</td>\n      <td>0</td>\n      <td>8</td>\n      <td>2</td>\n      <td>0.0</td>\n      <td>False</td>\n      <td>False</td>\n      <td>...</td>\n      <td>True</td>\n      <td>False</td>\n      <td>False</td>\n      <td>False</td>\n      <td>False</td>\n      <td>False</td>\n      <td>False</td>\n      <td>False</td>\n      <td>False</td>\n      <td>True</td>\n    </tr>\n    <tr>\n      <th>100578</th>\n      <td>99-levels-to-hell</td>\n      <td>66.0</td>\n      <td>3</td>\n      <td>23</td>\n      <td>0</td>\n      <td>6</td>\n      <td>0</td>\n      <td>0.0</td>\n      <td>False</td>\n      <td>False</td>\n      <td>...</td>\n      <td>True</td>\n      <td>False</td>\n      <td>False</td>\n      <td>False</td>\n      <td>False</td>\n      <td>True</td>\n      <td>False</td>\n      <td>False</td>\n      <td>True</td>\n      <td>True</td>\n    </tr>\n    <tr>\n      <th>82827</th>\n      <td>a-fistful-of-gun</td>\n      <td>60.0</td>\n      <td>4</td>\n      <td>20</td>\n      <td>0</td>\n      <td>43</td>\n      <td>4</td>\n      <td>0.0</td>\n      <td>False</td>\n      <td>False</td>\n      <td>...</td>\n      <td>True</td>\n      <td>False</td>\n      <td>False</td>\n      <td>False</td>\n      <td>False</td>\n      <td>True</td>\n      <td>False</td>\n      <td>False</td>\n      <td>False</td>\n      <td>True</td>\n    </tr>\n    <tr>\n      <th>100981</th>\n      <td>air-conflicts-secret-wars-2</td>\n      <td>65.0</td>\n      <td>1</td>\n      <td>69</td>\n      <td>0</td>\n      <td>3</td>\n      <td>2</td>\n      <td>0.0</td>\n      <td>False</td>\n      <td>False</td>\n      <td>...</td>\n      <td>True</td>\n      <td>False</td>\n      <td>False</td>\n      <td>False</td>\n      <td>False</td>\n      <td>False</td>\n      <td>False</td>\n      <td>False</td>\n      <td>False</td>\n      <td>True</td>\n    </tr>\n    <tr>\n      <th>276988</th>\n      <td>air-conflicts-vietnam</td>\n      <td>43.0</td>\n      <td>2</td>\n      <td>38</td>\n      <td>0</td>\n      <td>2</td>\n      <td>0</td>\n      <td>0.0</td>\n      <td>False</td>\n      <td>False</td>\n      <td>...</td>\n      <td>True</td>\n      <td>False</td>\n      <td>False</td>\n      <td>False</td>\n      <td>False</td>\n      <td>False</td>\n      <td>False</td>\n      <td>False</td>\n      <td>False</td>\n      <td>True</td>\n    </tr>\n    <tr>\n      <th>...</th>\n      <td>...</td>\n      <td>...</td>\n      <td>...</td>\n      <td>...</td>\n      <td>...</td>\n      <td>...</td>\n      <td>...</td>\n      <td>...</td>\n      <td>...</td>\n      <td>...</td>\n      <td>...</td>\n      <td>...</td>\n      <td>...</td>\n      <td>...</td>\n      <td>...</td>\n      <td>...</td>\n      <td>...</td>\n      <td>...</td>\n      <td>...</td>\n      <td>...</td>\n      <td>...</td>\n    </tr>\n    <tr>\n      <th>88072</th>\n      <td>zeit2</td>\n      <td>72.0</td>\n      <td>1</td>\n      <td>82</td>\n      <td>0</td>\n      <td>1</td>\n      <td>0</td>\n      <td>0.0</td>\n      <td>False</td>\n      <td>False</td>\n      <td>...</td>\n      <td>True</td>\n      <td>False</td>\n      <td>False</td>\n      <td>False</td>\n      <td>False</td>\n      <td>True</td>\n      <td>False</td>\n      <td>False</td>\n      <td>False</td>\n      <td>True</td>\n    </tr>\n    <tr>\n      <th>71000</th>\n      <td>zeno-clash</td>\n      <td>77.0</td>\n      <td>3</td>\n      <td>34</td>\n      <td>0</td>\n      <td>51</td>\n      <td>9</td>\n      <td>0.0</td>\n      <td>False</td>\n      <td>False</td>\n      <td>...</td>\n      <td>True</td>\n      <td>False</td>\n      <td>False</td>\n      <td>False</td>\n      <td>False</td>\n      <td>True</td>\n      <td>False</td>\n      <td>False</td>\n      <td>False</td>\n      <td>True</td>\n    </tr>\n    <tr>\n      <th>290422</th>\n      <td>zeno-clash-2</td>\n      <td>63.0</td>\n      <td>3</td>\n      <td>35</td>\n      <td>0</td>\n      <td>46</td>\n      <td>9</td>\n      <td>0.0</td>\n      <td>False</td>\n      <td>False</td>\n      <td>...</td>\n      <td>True</td>\n      <td>False</td>\n      <td>False</td>\n      <td>False</td>\n      <td>False</td>\n      <td>True</td>\n      <td>False</td>\n      <td>True</td>\n      <td>False</td>\n      <td>True</td>\n    </tr>\n    <tr>\n      <th>221575</th>\n      <td>ziggurat</td>\n      <td>75.0</td>\n      <td>4</td>\n      <td>141</td>\n      <td>0</td>\n      <td>112</td>\n      <td>8</td>\n      <td>0.0</td>\n      <td>False</td>\n      <td>False</td>\n      <td>...</td>\n      <td>True</td>\n      <td>True</td>\n      <td>False</td>\n      <td>False</td>\n      <td>False</td>\n      <td>True</td>\n      <td>False</td>\n      <td>False</td>\n      <td>False</td>\n      <td>True</td>\n    </tr>\n    <tr>\n      <th>242675</th>\n      <td>zombie-army-trilogy</td>\n      <td>72.0</td>\n      <td>4</td>\n      <td>200</td>\n      <td>0</td>\n      <td>82</td>\n      <td>15</td>\n      <td>0.0</td>\n      <td>False</td>\n      <td>False</td>\n      <td>...</td>\n      <td>True</td>\n      <td>False</td>\n      <td>False</td>\n      <td>False</td>\n      <td>False</td>\n      <td>False</td>\n      <td>False</td>\n      <td>False</td>\n      <td>False</td>\n      <td>True</td>\n    </tr>\n  </tbody>\n</table>\n<p>564 rows × 149 columns</p>\n</div>"
     },
     "execution_count": 20,
     "metadata": {},
     "output_type": "execute_result"
    }
   ],
   "source": [
    "feat_df[feat_df.Genre_Shooter == 1].sort_values('slug')"
   ],
   "metadata": {
    "collapsed": false
   }
  },
  {
   "cell_type": "code",
   "execution_count": 21,
   "outputs": [
    {
     "data": {
      "text/plain": "Empty DataFrame\nColumns: [slug, metacritic, playtime, achievements_count, game_series_count, added_status_yet, added_status_toplay, metacritic_good_game, Publisher_Square_Enix, Publisher_Electronic_Arts, Publisher_Enhance_Games, Publisher_Valve, Publisher_Klei_Entertainment, Publisher_LucasArts_Entertainment, Publisher_8-4, Publisher_tobyfox, Publisher_Aspyr, Publisher_Bethesda_Softworks, Publisher_Funcom, Publisher_Focus_Home_Interactive, Publisher_Warner_Bros._Interactive, Publisher_Activison, Publisher_Ubisoft_Entertainment, Publisher_Interplay_Productions, Publisher_Matt_Makes_Games, Publisher_Blizzard_Entertainment, Publisher_Sony_Computer_Entertainment, Publisher_CD_PROJEKT_RED, Publisher_Rockstar_Games, Publisher_Rare, Publisher_Konami, Publisher_GT_Interactive_Software, Publisher_MacSoft, Publisher_Annapurna_Games, Publisher_Bandai_Namco_Entertainment, Publisher_Atlus, Publisher_Rocketcat, Publisher_1C-SoftClub, Publisher_EA_Sports_BIG, Publisher_Corporation_Polytron, Publisher_FromSoftware, Publisher_Paradox_Interactive, Publisher_Buka_Entertainment, Publisher_Sony_Interactive_Entertainment, Publisher_Deep_Silver, Publisher_Number_None, Publisher_id_Software, Publisher_Asmodee_Digital, Publisher_Nightdive_Studios, Publisher_Microsoft_Studios, Publisher_Capcom, Publisher_2K_Games, Publisher_Out_of_the_Park_Developments, Publisher_The_Quantum_Astrophysicists_Guild, Publisher_Overhaul_Games, Publisher_Nintendo, Publisher_Supergiant_Games, Publisher_Namco, Publisher_Infogrames, Publisher_Activision_Value_Publishing, Publisher_Ukiyo_Publishing, Publisher_Atari, Publisher_Polytron, Publisher_Eidos_Interactive, Publisher_Active, Publisher_Square, Publisher_Days_of_Wonder, Publisher_Wube_Software, Publisher_Toby_Fox, Publisher_Stardock_Entertainment, Publisher_Gameloft, Publisher_Telltale_Games, Publisher_Konami_Digital_Entertainment-US, Publisher_Yacht_Club_Games, Publisher_Trapdoor, Publisher_Take_Two_Interactive, Publisher_Chillingo, Publisher_Disney_Interactive, Publisher_Feral_Interactive, Publisher_Xbox_Game_Studios, Publisher_Rocketcat_Games, Publisher_Hothead_Games, Publisher_SEGA, Publisher_Annapurna_Interactive, Publisher_Larian_Studios, Publisher_BANDAI_NAMCO_Entertainment_America, Publisher_Activision_Blizzard, Platform_Xbox_One, Platform_Nintendo_Switch, Platform_iOS, Platform_Nintendo_3DS, Platform_PlayStation_3, Platform_PlayStation_2, Platform_Wii, Platform_Game_Boy_Advance, Platform_Wii_U, Platform_Web, Platform_GameCube, Platform_PlayStation, Platform_Atari_ST, ...]\nIndex: []\n\n[0 rows x 149 columns]",
      "text/html": "<div>\n<style scoped>\n    .dataframe tbody tr th:only-of-type {\n        vertical-align: middle;\n    }\n\n    .dataframe tbody tr th {\n        vertical-align: top;\n    }\n\n    .dataframe thead th {\n        text-align: right;\n    }\n</style>\n<table border=\"1\" class=\"dataframe\">\n  <thead>\n    <tr style=\"text-align: right;\">\n      <th></th>\n      <th>slug</th>\n      <th>metacritic</th>\n      <th>playtime</th>\n      <th>achievements_count</th>\n      <th>game_series_count</th>\n      <th>added_status_yet</th>\n      <th>added_status_toplay</th>\n      <th>metacritic_good_game</th>\n      <th>Publisher_Square_Enix</th>\n      <th>Publisher_Electronic_Arts</th>\n      <th>...</th>\n      <th>Genre_Action</th>\n      <th>Genre_RPG</th>\n      <th>Genre_Puzzle</th>\n      <th>Genre_Racing</th>\n      <th>Genre_Sports</th>\n      <th>Genre_Indie</th>\n      <th>Genre_Board_Games</th>\n      <th>Genre_Fighting</th>\n      <th>Genre_Arcade</th>\n      <th>Genre_Shooter</th>\n    </tr>\n  </thead>\n  <tbody>\n  </tbody>\n</table>\n<p>0 rows × 149 columns</p>\n</div>"
     },
     "execution_count": 21,
     "metadata": {},
     "output_type": "execute_result"
    }
   ],
   "source": [
    "feat_df[feat_df.slug == 'coun']"
   ],
   "metadata": {
    "collapsed": false
   }
  },
  {
   "cell_type": "code",
   "execution_count": 25,
   "outputs": [],
   "source": [
    "from env import key\n",
    "import requests\n",
    "import os\n",
    "import json\n",
    "from typing import Dict, List, Union, cast\n",
    "import requests\n",
    "from time import sleep"
   ],
   "metadata": {
    "collapsed": false
   }
  },
  {
   "cell_type": "code",
   "execution_count": 30,
   "outputs": [],
   "source": [
    "headers = {\"Authorization\": f\"token {key}\"}"
   ],
   "metadata": {
    "collapsed": false
   }
  },
  {
   "cell_type": "code",
   "execution_count": 31,
   "outputs": [],
   "source": [
    "\n",
    "def api_request(url: str) -> Union[List, Dict]:\n",
    "    response = requests.get(url, headers=headers)\n",
    "    response_data = response.json()\n",
    "    if response.status_code != 200:\n",
    "        raise Exception(\n",
    "            f\"Error response from github api! status code: {response.status_code}, \"\n",
    "            f\"response: {json.dumps(response_data)}\"\n",
    "        )"
   ],
   "metadata": {
    "collapsed": false
   }
  },
  {
   "cell_type": "markdown",
   "source": [
    "# building link"
   ],
   "metadata": {
    "collapsed": false
   }
  },
  {
   "cell_type": "code",
   "execution_count": 77,
   "outputs": [],
   "source": [
    "base = 'http://api.steampowered.com/ISteamUserStats/'\n",
    "test = 'http://api.steampowered.com/ISteamUser/GetPlayerSummaries/v0002/steamids=76561198099973770'"
   ],
   "metadata": {
    "collapsed": false
   }
  },
  {
   "cell_type": "code",
   "execution_count": 83,
   "outputs": [],
   "source": [
    "response = requests.get('http://api.steampowered.com/ISteamUser/GetPlayerSummaries/v0002/?key=AEF27393A5FA9A04DF11085D89DBB5DC&steamids=76561198099973770',headers = headers)"
   ],
   "metadata": {
    "collapsed": false
   }
  },
  {
   "cell_type": "code",
   "execution_count": 85,
   "outputs": [
    {
     "data": {
      "text/plain": "'{\"response\":{\"players\":[{\"steamid\":\"76561198099973770\",\"communityvisibilitystate\":3,\"profilestate\":1,\"personaname\":\"Drifter\",\"commentpermission\":1,\"profileurl\":\"https://steamcommunity.com/profiles/76561198099973770/\",\"avatar\":\"https://avatars.akamai.steamstatic.com/d3ce39c0f4598b902f95bac8dcba43c86a7dd404.jpg\",\"avatarmedium\":\"https://avatars.akamai.steamstatic.com/d3ce39c0f4598b902f95bac8dcba43c86a7dd404_medium.jpg\",\"avatarfull\":\"https://avatars.akamai.steamstatic.com/d3ce39c0f4598b902f95bac8dcba43c86a7dd404_full.jpg\",\"avatarhash\":\"d3ce39c0f4598b902f95bac8dcba43c86a7dd404\",\"personastate\":0,\"realname\":\"Wouldn\\'t you like to know?\",\"primaryclanid\":\"103582791429521408\",\"timecreated\":1374813033,\"personastateflags\":0}]}}'"
     },
     "execution_count": 85,
     "metadata": {},
     "output_type": "execute_result"
    }
   ],
   "source": [
    "response.text"
   ],
   "metadata": {
    "collapsed": false
   }
  },
  {
   "cell_type": "code",
   "execution_count": null,
   "outputs": [],
   "source": [],
   "metadata": {
    "collapsed": false
   }
  }
 ],
 "metadata": {
  "kernelspec": {
   "display_name": "Python 3",
   "language": "python",
   "name": "python3"
  },
  "language_info": {
   "codemirror_mode": {
    "name": "ipython",
    "version": 2
   },
   "file_extension": ".py",
   "mimetype": "text/x-python",
   "name": "python",
   "nbconvert_exporter": "python",
   "pygments_lexer": "ipython2",
   "version": "2.7.6"
  }
 },
 "nbformat": 4,
 "nbformat_minor": 0
}
