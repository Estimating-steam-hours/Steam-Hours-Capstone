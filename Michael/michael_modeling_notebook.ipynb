{
 "cells": [
  {
   "cell_type": "code",
   "execution_count": 1,
   "id": "96d73e79",
   "metadata": {},
   "outputs": [],
   "source": [
    "import Wrangle as w\n",
    "import os\n",
    "import modeling as m"
   ]
  },
  {
   "cell_type": "code",
   "execution_count": 2,
   "id": "50644c5b",
   "metadata": {},
   "outputs": [],
   "source": [
    "import pandas as pd\n",
    "import numpy as np\n",
    "from sklearn.model_selection import train_test_split"
   ]
  },
  {
   "cell_type": "code",
   "execution_count": 3,
   "id": "c47d271f",
   "metadata": {},
   "outputs": [],
   "source": [
    "import pandas as pd\n",
    "import matplotlib.pyplot as plt\n",
    "# Machine Learning libraries\n",
    "# model selection\n",
    "from sklearn.model_selection import GridSearchCV\n",
    "# classifiers\n",
    "from sklearn.tree import DecisionTreeClassifier\n",
    "from sklearn.ensemble import RandomForestClassifier, GradientBoostingClassifier\n",
    "from sklearn.naive_bayes import MultinomialNB, GaussianNB\n",
    "from sklearn.linear_model import LogisticRegression\n",
    "from sklearn.neighbors import KNeighborsClassifier\n",
    "import xgboost as xgb\n",
    "# helper preprocessing module\n",
    "\n",
    "from sklearn.metrics import classification_report, confusion_matrix, ConfusionMatrixDisplay"
   ]
  },
  {
   "cell_type": "code",
   "execution_count": 4,
   "id": "df90064a",
   "metadata": {},
   "outputs": [],
   "source": [
    "def get_tree(train_x, validate_x, train_y, validate_y):\n",
    "    \n",
    "    '''get decision tree accuracy on train and validate'''\n",
    "    #create classifier then fit\n",
    "    tree = DecisionTreeClassifier(max_depth=5, random_state=123)\n",
    "    tree = tree.fit(train_x, train_y)\n",
    "\n",
    "    print(f\"Accuracy of Decision Tree on train data is {tree.score(train_x, train_y)}\")\n",
    "    print(f\"Accuracy of Decision Tree on validate data is {tree.score(validate_x, validate_y)}\")\n",
    "    \n",
    "#get_tree(train_x, validate_x, train_y, validate_y)\n",
    "\n",
    "\n",
    "# ### rf\n",
    "\n",
    "# In[24]:\n",
    "\n",
    "\n",
    "def get_rf(train_x, validate_x, train_y, validate_y):\n",
    "\n",
    "    '''get rf accuracy on train and validate'''\n",
    "    #create classifier and fit\n",
    "    rf = RandomForestClassifier(max_depth=5, random_state=123)\n",
    "    rf = rf.fit(train_x, train_y)\n",
    "\n",
    "    print(f\"Accuracy of Random Forest on train data is {rf.score(train_x, train_y)}\")\n",
    "    print(f\"Accuracy of Random Forest on validate data is {rf.score(validate_x, validate_y)}\")\n",
    "\n",
    "\n",
    "# ### regression\n",
    "\n",
    "# In[25]:\n",
    "\n",
    "\n",
    "def get_reg(train_x, validate_x, train_y, validate_y):\n",
    "\n",
    "    '''get reg accuracy on train and validate'''\n",
    "    #create classifier and fit\n",
    "    logit = LogisticRegression(solver='liblinear')\n",
    "    logit = logit.fit(train_x, train_y)\n",
    "\n",
    "    print(f\"Accuracy of Logistic Regression on train is {logit.score(train_x, train_y)}\")\n",
    "    print(f\"Accuracy of Logistic Regression on validate is {logit.score(validate_x, validate_y)}\")\n",
    "\n",
    "\n",
    "# ### knn\n",
    "\n",
    "# In[26]:\n",
    "\n",
    "\n",
    "def get_knn(train_x, validate_x, train_y, validate_y):\n",
    "    \n",
    "    '''get knn accuracy on train and validate'''\n",
    "    knn = KNeighborsClassifier(n_neighbors=5, weights='uniform')\n",
    "    knn = knn.fit(train_x, train_y)\n",
    "\n",
    "    # print results\n",
    "    print(f\"Accuracy of KNN on train is {knn.score(train_x, train_y)}\")\n",
    "    print(f\"Accuracy of KNN on validate is {knn.score(validate_x, validate_y)}\")\n",
    "\n"
   ]
  },
  {
   "cell_type": "code",
   "execution_count": 5,
   "id": "015af1d0",
   "metadata": {
    "scrolled": true
   },
   "outputs": [
    {
     "name": "stderr",
     "output_type": "stream",
     "text": [
      "/Users/michaelmesa/codeup-data-science/Steam-Hours-Capstone/Michael/Wrangle.py:62: SettingWithCopyWarning: \n",
      "A value is trying to be set on a copy of a slice from a DataFrame.\n",
      "Try using .loc[row_indexer,col_indexer] = value instead\n",
      "\n",
      "See the caveats in the documentation: https://pandas.pydata.org/pandas-docs/stable/user_guide/indexing.html#returning-a-view-versus-a-copy\n",
      "  df[f'Publisher_{x}'] = df.publisher.str.contains(x,regex = False)\n",
      "/Users/michaelmesa/codeup-data-science/Steam-Hours-Capstone/Michael/Wrangle.py:62: SettingWithCopyWarning: \n",
      "A value is trying to be set on a copy of a slice from a DataFrame.\n",
      "Try using .loc[row_indexer,col_indexer] = value instead\n",
      "\n",
      "See the caveats in the documentation: https://pandas.pydata.org/pandas-docs/stable/user_guide/indexing.html#returning-a-view-versus-a-copy\n",
      "  df[f'Publisher_{x}'] = df.publisher.str.contains(x,regex = False)\n",
      "/Users/michaelmesa/codeup-data-science/Steam-Hours-Capstone/Michael/Wrangle.py:62: SettingWithCopyWarning: \n",
      "A value is trying to be set on a copy of a slice from a DataFrame.\n",
      "Try using .loc[row_indexer,col_indexer] = value instead\n",
      "\n",
      "See the caveats in the documentation: https://pandas.pydata.org/pandas-docs/stable/user_guide/indexing.html#returning-a-view-versus-a-copy\n",
      "  df[f'Publisher_{x}'] = df.publisher.str.contains(x,regex = False)\n",
      "/Users/michaelmesa/codeup-data-science/Steam-Hours-Capstone/Michael/Wrangle.py:62: SettingWithCopyWarning: \n",
      "A value is trying to be set on a copy of a slice from a DataFrame.\n",
      "Try using .loc[row_indexer,col_indexer] = value instead\n",
      "\n",
      "See the caveats in the documentation: https://pandas.pydata.org/pandas-docs/stable/user_guide/indexing.html#returning-a-view-versus-a-copy\n",
      "  df[f'Publisher_{x}'] = df.publisher.str.contains(x,regex = False)\n",
      "/Users/michaelmesa/codeup-data-science/Steam-Hours-Capstone/Michael/Wrangle.py:62: SettingWithCopyWarning: \n",
      "A value is trying to be set on a copy of a slice from a DataFrame.\n",
      "Try using .loc[row_indexer,col_indexer] = value instead\n",
      "\n",
      "See the caveats in the documentation: https://pandas.pydata.org/pandas-docs/stable/user_guide/indexing.html#returning-a-view-versus-a-copy\n",
      "  df[f'Publisher_{x}'] = df.publisher.str.contains(x,regex = False)\n",
      "/Users/michaelmesa/codeup-data-science/Steam-Hours-Capstone/Michael/Wrangle.py:62: SettingWithCopyWarning: \n",
      "A value is trying to be set on a copy of a slice from a DataFrame.\n",
      "Try using .loc[row_indexer,col_indexer] = value instead\n",
      "\n",
      "See the caveats in the documentation: https://pandas.pydata.org/pandas-docs/stable/user_guide/indexing.html#returning-a-view-versus-a-copy\n",
      "  df[f'Publisher_{x}'] = df.publisher.str.contains(x,regex = False)\n",
      "/Users/michaelmesa/codeup-data-science/Steam-Hours-Capstone/Michael/Wrangle.py:62: SettingWithCopyWarning: \n",
      "A value is trying to be set on a copy of a slice from a DataFrame.\n",
      "Try using .loc[row_indexer,col_indexer] = value instead\n",
      "\n",
      "See the caveats in the documentation: https://pandas.pydata.org/pandas-docs/stable/user_guide/indexing.html#returning-a-view-versus-a-copy\n",
      "  df[f'Publisher_{x}'] = df.publisher.str.contains(x,regex = False)\n",
      "/Users/michaelmesa/codeup-data-science/Steam-Hours-Capstone/Michael/Wrangle.py:62: SettingWithCopyWarning: \n",
      "A value is trying to be set on a copy of a slice from a DataFrame.\n",
      "Try using .loc[row_indexer,col_indexer] = value instead\n",
      "\n",
      "See the caveats in the documentation: https://pandas.pydata.org/pandas-docs/stable/user_guide/indexing.html#returning-a-view-versus-a-copy\n",
      "  df[f'Publisher_{x}'] = df.publisher.str.contains(x,regex = False)\n",
      "/Users/michaelmesa/codeup-data-science/Steam-Hours-Capstone/Michael/Wrangle.py:62: SettingWithCopyWarning: \n",
      "A value is trying to be set on a copy of a slice from a DataFrame.\n",
      "Try using .loc[row_indexer,col_indexer] = value instead\n",
      "\n",
      "See the caveats in the documentation: https://pandas.pydata.org/pandas-docs/stable/user_guide/indexing.html#returning-a-view-versus-a-copy\n",
      "  df[f'Publisher_{x}'] = df.publisher.str.contains(x,regex = False)\n",
      "/Users/michaelmesa/codeup-data-science/Steam-Hours-Capstone/Michael/Wrangle.py:62: SettingWithCopyWarning: \n",
      "A value is trying to be set on a copy of a slice from a DataFrame.\n",
      "Try using .loc[row_indexer,col_indexer] = value instead\n",
      "\n",
      "See the caveats in the documentation: https://pandas.pydata.org/pandas-docs/stable/user_guide/indexing.html#returning-a-view-versus-a-copy\n",
      "  df[f'Publisher_{x}'] = df.publisher.str.contains(x,regex = False)\n",
      "/Users/michaelmesa/codeup-data-science/Steam-Hours-Capstone/Michael/Wrangle.py:62: SettingWithCopyWarning: \n",
      "A value is trying to be set on a copy of a slice from a DataFrame.\n",
      "Try using .loc[row_indexer,col_indexer] = value instead\n",
      "\n",
      "See the caveats in the documentation: https://pandas.pydata.org/pandas-docs/stable/user_guide/indexing.html#returning-a-view-versus-a-copy\n",
      "  df[f'Publisher_{x}'] = df.publisher.str.contains(x,regex = False)\n",
      "/Users/michaelmesa/codeup-data-science/Steam-Hours-Capstone/Michael/Wrangle.py:62: SettingWithCopyWarning: \n",
      "A value is trying to be set on a copy of a slice from a DataFrame.\n",
      "Try using .loc[row_indexer,col_indexer] = value instead\n",
      "\n",
      "See the caveats in the documentation: https://pandas.pydata.org/pandas-docs/stable/user_guide/indexing.html#returning-a-view-versus-a-copy\n",
      "  df[f'Publisher_{x}'] = df.publisher.str.contains(x,regex = False)\n",
      "/Users/michaelmesa/codeup-data-science/Steam-Hours-Capstone/Michael/Wrangle.py:62: SettingWithCopyWarning: \n",
      "A value is trying to be set on a copy of a slice from a DataFrame.\n",
      "Try using .loc[row_indexer,col_indexer] = value instead\n",
      "\n",
      "See the caveats in the documentation: https://pandas.pydata.org/pandas-docs/stable/user_guide/indexing.html#returning-a-view-versus-a-copy\n",
      "  df[f'Publisher_{x}'] = df.publisher.str.contains(x,regex = False)\n",
      "/Users/michaelmesa/codeup-data-science/Steam-Hours-Capstone/Michael/Wrangle.py:62: SettingWithCopyWarning: \n",
      "A value is trying to be set on a copy of a slice from a DataFrame.\n",
      "Try using .loc[row_indexer,col_indexer] = value instead\n",
      "\n",
      "See the caveats in the documentation: https://pandas.pydata.org/pandas-docs/stable/user_guide/indexing.html#returning-a-view-versus-a-copy\n",
      "  df[f'Publisher_{x}'] = df.publisher.str.contains(x,regex = False)\n",
      "/Users/michaelmesa/codeup-data-science/Steam-Hours-Capstone/Michael/Wrangle.py:62: SettingWithCopyWarning: \n",
      "A value is trying to be set on a copy of a slice from a DataFrame.\n",
      "Try using .loc[row_indexer,col_indexer] = value instead\n",
      "\n",
      "See the caveats in the documentation: https://pandas.pydata.org/pandas-docs/stable/user_guide/indexing.html#returning-a-view-versus-a-copy\n",
      "  df[f'Publisher_{x}'] = df.publisher.str.contains(x,regex = False)\n",
      "/Users/michaelmesa/codeup-data-science/Steam-Hours-Capstone/Michael/Wrangle.py:62: SettingWithCopyWarning: \n",
      "A value is trying to be set on a copy of a slice from a DataFrame.\n",
      "Try using .loc[row_indexer,col_indexer] = value instead\n",
      "\n",
      "See the caveats in the documentation: https://pandas.pydata.org/pandas-docs/stable/user_guide/indexing.html#returning-a-view-versus-a-copy\n",
      "  df[f'Publisher_{x}'] = df.publisher.str.contains(x,regex = False)\n",
      "/Users/michaelmesa/codeup-data-science/Steam-Hours-Capstone/Michael/Wrangle.py:62: SettingWithCopyWarning: \n",
      "A value is trying to be set on a copy of a slice from a DataFrame.\n",
      "Try using .loc[row_indexer,col_indexer] = value instead\n",
      "\n",
      "See the caveats in the documentation: https://pandas.pydata.org/pandas-docs/stable/user_guide/indexing.html#returning-a-view-versus-a-copy\n",
      "  df[f'Publisher_{x}'] = df.publisher.str.contains(x,regex = False)\n",
      "/Users/michaelmesa/codeup-data-science/Steam-Hours-Capstone/Michael/Wrangle.py:62: SettingWithCopyWarning: \n",
      "A value is trying to be set on a copy of a slice from a DataFrame.\n",
      "Try using .loc[row_indexer,col_indexer] = value instead\n",
      "\n",
      "See the caveats in the documentation: https://pandas.pydata.org/pandas-docs/stable/user_guide/indexing.html#returning-a-view-versus-a-copy\n",
      "  df[f'Publisher_{x}'] = df.publisher.str.contains(x,regex = False)\n",
      "/Users/michaelmesa/codeup-data-science/Steam-Hours-Capstone/Michael/Wrangle.py:62: SettingWithCopyWarning: \n",
      "A value is trying to be set on a copy of a slice from a DataFrame.\n",
      "Try using .loc[row_indexer,col_indexer] = value instead\n",
      "\n",
      "See the caveats in the documentation: https://pandas.pydata.org/pandas-docs/stable/user_guide/indexing.html#returning-a-view-versus-a-copy\n",
      "  df[f'Publisher_{x}'] = df.publisher.str.contains(x,regex = False)\n",
      "/Users/michaelmesa/codeup-data-science/Steam-Hours-Capstone/Michael/Wrangle.py:62: SettingWithCopyWarning: \n",
      "A value is trying to be set on a copy of a slice from a DataFrame.\n",
      "Try using .loc[row_indexer,col_indexer] = value instead\n",
      "\n",
      "See the caveats in the documentation: https://pandas.pydata.org/pandas-docs/stable/user_guide/indexing.html#returning-a-view-versus-a-copy\n",
      "  df[f'Publisher_{x}'] = df.publisher.str.contains(x,regex = False)\n",
      "/Users/michaelmesa/codeup-data-science/Steam-Hours-Capstone/Michael/Wrangle.py:82: SettingWithCopyWarning: \n",
      "A value is trying to be set on a copy of a slice from a DataFrame.\n",
      "Try using .loc[row_indexer,col_indexer] = value instead\n",
      "\n",
      "See the caveats in the documentation: https://pandas.pydata.org/pandas-docs/stable/user_guide/indexing.html#returning-a-view-versus-a-copy\n",
      "  df[f'Developer_{x}'] = df.developer.str.contains(x,regex = False)\n",
      "/Users/michaelmesa/codeup-data-science/Steam-Hours-Capstone/Michael/Wrangle.py:82: SettingWithCopyWarning: \n",
      "A value is trying to be set on a copy of a slice from a DataFrame.\n",
      "Try using .loc[row_indexer,col_indexer] = value instead\n",
      "\n",
      "See the caveats in the documentation: https://pandas.pydata.org/pandas-docs/stable/user_guide/indexing.html#returning-a-view-versus-a-copy\n",
      "  df[f'Developer_{x}'] = df.developer.str.contains(x,regex = False)\n",
      "/Users/michaelmesa/codeup-data-science/Steam-Hours-Capstone/Michael/Wrangle.py:82: SettingWithCopyWarning: \n",
      "A value is trying to be set on a copy of a slice from a DataFrame.\n",
      "Try using .loc[row_indexer,col_indexer] = value instead\n",
      "\n",
      "See the caveats in the documentation: https://pandas.pydata.org/pandas-docs/stable/user_guide/indexing.html#returning-a-view-versus-a-copy\n",
      "  df[f'Developer_{x}'] = df.developer.str.contains(x,regex = False)\n",
      "/Users/michaelmesa/codeup-data-science/Steam-Hours-Capstone/Michael/Wrangle.py:82: SettingWithCopyWarning: \n",
      "A value is trying to be set on a copy of a slice from a DataFrame.\n",
      "Try using .loc[row_indexer,col_indexer] = value instead\n",
      "\n",
      "See the caveats in the documentation: https://pandas.pydata.org/pandas-docs/stable/user_guide/indexing.html#returning-a-view-versus-a-copy\n",
      "  df[f'Developer_{x}'] = df.developer.str.contains(x,regex = False)\n",
      "/Users/michaelmesa/codeup-data-science/Steam-Hours-Capstone/Michael/Wrangle.py:82: SettingWithCopyWarning: \n",
      "A value is trying to be set on a copy of a slice from a DataFrame.\n",
      "Try using .loc[row_indexer,col_indexer] = value instead\n",
      "\n",
      "See the caveats in the documentation: https://pandas.pydata.org/pandas-docs/stable/user_guide/indexing.html#returning-a-view-versus-a-copy\n",
      "  df[f'Developer_{x}'] = df.developer.str.contains(x,regex = False)\n",
      "/Users/michaelmesa/codeup-data-science/Steam-Hours-Capstone/Michael/Wrangle.py:82: SettingWithCopyWarning: \n",
      "A value is trying to be set on a copy of a slice from a DataFrame.\n",
      "Try using .loc[row_indexer,col_indexer] = value instead\n",
      "\n",
      "See the caveats in the documentation: https://pandas.pydata.org/pandas-docs/stable/user_guide/indexing.html#returning-a-view-versus-a-copy\n",
      "  df[f'Developer_{x}'] = df.developer.str.contains(x,regex = False)\n",
      "/Users/michaelmesa/codeup-data-science/Steam-Hours-Capstone/Michael/Wrangle.py:82: SettingWithCopyWarning: \n",
      "A value is trying to be set on a copy of a slice from a DataFrame.\n",
      "Try using .loc[row_indexer,col_indexer] = value instead\n",
      "\n",
      "See the caveats in the documentation: https://pandas.pydata.org/pandas-docs/stable/user_guide/indexing.html#returning-a-view-versus-a-copy\n",
      "  df[f'Developer_{x}'] = df.developer.str.contains(x,regex = False)\n",
      "/Users/michaelmesa/codeup-data-science/Steam-Hours-Capstone/Michael/Wrangle.py:82: SettingWithCopyWarning: \n",
      "A value is trying to be set on a copy of a slice from a DataFrame.\n",
      "Try using .loc[row_indexer,col_indexer] = value instead\n",
      "\n",
      "See the caveats in the documentation: https://pandas.pydata.org/pandas-docs/stable/user_guide/indexing.html#returning-a-view-versus-a-copy\n",
      "  df[f'Developer_{x}'] = df.developer.str.contains(x,regex = False)\n",
      "/Users/michaelmesa/codeup-data-science/Steam-Hours-Capstone/Michael/Wrangle.py:82: SettingWithCopyWarning: \n",
      "A value is trying to be set on a copy of a slice from a DataFrame.\n",
      "Try using .loc[row_indexer,col_indexer] = value instead\n",
      "\n",
      "See the caveats in the documentation: https://pandas.pydata.org/pandas-docs/stable/user_guide/indexing.html#returning-a-view-versus-a-copy\n",
      "  df[f'Developer_{x}'] = df.developer.str.contains(x,regex = False)\n",
      "/Users/michaelmesa/codeup-data-science/Steam-Hours-Capstone/Michael/Wrangle.py:82: SettingWithCopyWarning: \n",
      "A value is trying to be set on a copy of a slice from a DataFrame.\n",
      "Try using .loc[row_indexer,col_indexer] = value instead\n",
      "\n",
      "See the caveats in the documentation: https://pandas.pydata.org/pandas-docs/stable/user_guide/indexing.html#returning-a-view-versus-a-copy\n",
      "  df[f'Developer_{x}'] = df.developer.str.contains(x,regex = False)\n",
      "/Users/michaelmesa/codeup-data-science/Steam-Hours-Capstone/Michael/Wrangle.py:82: SettingWithCopyWarning: \n",
      "A value is trying to be set on a copy of a slice from a DataFrame.\n",
      "Try using .loc[row_indexer,col_indexer] = value instead\n",
      "\n",
      "See the caveats in the documentation: https://pandas.pydata.org/pandas-docs/stable/user_guide/indexing.html#returning-a-view-versus-a-copy\n",
      "  df[f'Developer_{x}'] = df.developer.str.contains(x,regex = False)\n",
      "/Users/michaelmesa/codeup-data-science/Steam-Hours-Capstone/Michael/Wrangle.py:82: SettingWithCopyWarning: \n",
      "A value is trying to be set on a copy of a slice from a DataFrame.\n",
      "Try using .loc[row_indexer,col_indexer] = value instead\n",
      "\n",
      "See the caveats in the documentation: https://pandas.pydata.org/pandas-docs/stable/user_guide/indexing.html#returning-a-view-versus-a-copy\n",
      "  df[f'Developer_{x}'] = df.developer.str.contains(x,regex = False)\n",
      "/Users/michaelmesa/codeup-data-science/Steam-Hours-Capstone/Michael/Wrangle.py:82: SettingWithCopyWarning: \n",
      "A value is trying to be set on a copy of a slice from a DataFrame.\n",
      "Try using .loc[row_indexer,col_indexer] = value instead\n",
      "\n",
      "See the caveats in the documentation: https://pandas.pydata.org/pandas-docs/stable/user_guide/indexing.html#returning-a-view-versus-a-copy\n",
      "  df[f'Developer_{x}'] = df.developer.str.contains(x,regex = False)\n",
      "/Users/michaelmesa/codeup-data-science/Steam-Hours-Capstone/Michael/Wrangle.py:82: SettingWithCopyWarning: \n",
      "A value is trying to be set on a copy of a slice from a DataFrame.\n",
      "Try using .loc[row_indexer,col_indexer] = value instead\n",
      "\n",
      "See the caveats in the documentation: https://pandas.pydata.org/pandas-docs/stable/user_guide/indexing.html#returning-a-view-versus-a-copy\n",
      "  df[f'Developer_{x}'] = df.developer.str.contains(x,regex = False)\n",
      "/Users/michaelmesa/codeup-data-science/Steam-Hours-Capstone/Michael/Wrangle.py:82: SettingWithCopyWarning: \n",
      "A value is trying to be set on a copy of a slice from a DataFrame.\n",
      "Try using .loc[row_indexer,col_indexer] = value instead\n",
      "\n",
      "See the caveats in the documentation: https://pandas.pydata.org/pandas-docs/stable/user_guide/indexing.html#returning-a-view-versus-a-copy\n",
      "  df[f'Developer_{x}'] = df.developer.str.contains(x,regex = False)\n",
      "/Users/michaelmesa/codeup-data-science/Steam-Hours-Capstone/Michael/Wrangle.py:82: SettingWithCopyWarning: \n",
      "A value is trying to be set on a copy of a slice from a DataFrame.\n",
      "Try using .loc[row_indexer,col_indexer] = value instead\n",
      "\n",
      "See the caveats in the documentation: https://pandas.pydata.org/pandas-docs/stable/user_guide/indexing.html#returning-a-view-versus-a-copy\n",
      "  df[f'Developer_{x}'] = df.developer.str.contains(x,regex = False)\n",
      "/Users/michaelmesa/codeup-data-science/Steam-Hours-Capstone/Michael/Wrangle.py:82: SettingWithCopyWarning: \n",
      "A value is trying to be set on a copy of a slice from a DataFrame.\n",
      "Try using .loc[row_indexer,col_indexer] = value instead\n",
      "\n",
      "See the caveats in the documentation: https://pandas.pydata.org/pandas-docs/stable/user_guide/indexing.html#returning-a-view-versus-a-copy\n",
      "  df[f'Developer_{x}'] = df.developer.str.contains(x,regex = False)\n",
      "/Users/michaelmesa/codeup-data-science/Steam-Hours-Capstone/Michael/Wrangle.py:82: SettingWithCopyWarning: \n",
      "A value is trying to be set on a copy of a slice from a DataFrame.\n",
      "Try using .loc[row_indexer,col_indexer] = value instead\n",
      "\n",
      "See the caveats in the documentation: https://pandas.pydata.org/pandas-docs/stable/user_guide/indexing.html#returning-a-view-versus-a-copy\n",
      "  df[f'Developer_{x}'] = df.developer.str.contains(x,regex = False)\n",
      "/Users/michaelmesa/codeup-data-science/Steam-Hours-Capstone/Michael/Wrangle.py:82: SettingWithCopyWarning: \n",
      "A value is trying to be set on a copy of a slice from a DataFrame.\n",
      "Try using .loc[row_indexer,col_indexer] = value instead\n",
      "\n",
      "See the caveats in the documentation: https://pandas.pydata.org/pandas-docs/stable/user_guide/indexing.html#returning-a-view-versus-a-copy\n",
      "  df[f'Developer_{x}'] = df.developer.str.contains(x,regex = False)\n",
      "/Users/michaelmesa/codeup-data-science/Steam-Hours-Capstone/Michael/Wrangle.py:82: SettingWithCopyWarning: \n",
      "A value is trying to be set on a copy of a slice from a DataFrame.\n",
      "Try using .loc[row_indexer,col_indexer] = value instead\n",
      "\n",
      "See the caveats in the documentation: https://pandas.pydata.org/pandas-docs/stable/user_guide/indexing.html#returning-a-view-versus-a-copy\n",
      "  df[f'Developer_{x}'] = df.developer.str.contains(x,regex = False)\n",
      "/Users/michaelmesa/codeup-data-science/Steam-Hours-Capstone/Michael/Wrangle.py:82: SettingWithCopyWarning: \n",
      "A value is trying to be set on a copy of a slice from a DataFrame.\n",
      "Try using .loc[row_indexer,col_indexer] = value instead\n",
      "\n",
      "See the caveats in the documentation: https://pandas.pydata.org/pandas-docs/stable/user_guide/indexing.html#returning-a-view-versus-a-copy\n",
      "  df[f'Developer_{x}'] = df.developer.str.contains(x,regex = False)\n",
      "/Users/michaelmesa/codeup-data-science/Steam-Hours-Capstone/Michael/Wrangle.py:82: SettingWithCopyWarning: \n",
      "A value is trying to be set on a copy of a slice from a DataFrame.\n",
      "Try using .loc[row_indexer,col_indexer] = value instead\n",
      "\n",
      "See the caveats in the documentation: https://pandas.pydata.org/pandas-docs/stable/user_guide/indexing.html#returning-a-view-versus-a-copy\n",
      "  df[f'Developer_{x}'] = df.developer.str.contains(x,regex = False)\n",
      "/Users/michaelmesa/codeup-data-science/Steam-Hours-Capstone/Michael/Wrangle.py:82: SettingWithCopyWarning: \n",
      "A value is trying to be set on a copy of a slice from a DataFrame.\n",
      "Try using .loc[row_indexer,col_indexer] = value instead\n",
      "\n",
      "See the caveats in the documentation: https://pandas.pydata.org/pandas-docs/stable/user_guide/indexing.html#returning-a-view-versus-a-copy\n",
      "  df[f'Developer_{x}'] = df.developer.str.contains(x,regex = False)\n",
      "/Users/michaelmesa/codeup-data-science/Steam-Hours-Capstone/Michael/Wrangle.py:82: SettingWithCopyWarning: \n",
      "A value is trying to be set on a copy of a slice from a DataFrame.\n",
      "Try using .loc[row_indexer,col_indexer] = value instead\n",
      "\n",
      "See the caveats in the documentation: https://pandas.pydata.org/pandas-docs/stable/user_guide/indexing.html#returning-a-view-versus-a-copy\n",
      "  df[f'Developer_{x}'] = df.developer.str.contains(x,regex = False)\n",
      "/Users/michaelmesa/codeup-data-science/Steam-Hours-Capstone/Michael/Wrangle.py:103: SettingWithCopyWarning: \n",
      "A value is trying to be set on a copy of a slice from a DataFrame.\n",
      "Try using .loc[row_indexer,col_indexer] = value instead\n",
      "\n",
      "See the caveats in the documentation: https://pandas.pydata.org/pandas-docs/stable/user_guide/indexing.html#returning-a-view-versus-a-copy\n",
      "  df[f'Genre_{x}'] = df.genre.str.contains(x)\n",
      "/Users/michaelmesa/codeup-data-science/Steam-Hours-Capstone/Michael/Wrangle.py:103: SettingWithCopyWarning: \n",
      "A value is trying to be set on a copy of a slice from a DataFrame.\n",
      "Try using .loc[row_indexer,col_indexer] = value instead\n",
      "\n",
      "See the caveats in the documentation: https://pandas.pydata.org/pandas-docs/stable/user_guide/indexing.html#returning-a-view-versus-a-copy\n",
      "  df[f'Genre_{x}'] = df.genre.str.contains(x)\n",
      "/Users/michaelmesa/codeup-data-science/Steam-Hours-Capstone/Michael/Wrangle.py:103: SettingWithCopyWarning: \n",
      "A value is trying to be set on a copy of a slice from a DataFrame.\n",
      "Try using .loc[row_indexer,col_indexer] = value instead\n",
      "\n",
      "See the caveats in the documentation: https://pandas.pydata.org/pandas-docs/stable/user_guide/indexing.html#returning-a-view-versus-a-copy\n",
      "  df[f'Genre_{x}'] = df.genre.str.contains(x)\n",
      "/Users/michaelmesa/codeup-data-science/Steam-Hours-Capstone/Michael/Wrangle.py:103: SettingWithCopyWarning: \n",
      "A value is trying to be set on a copy of a slice from a DataFrame.\n",
      "Try using .loc[row_indexer,col_indexer] = value instead\n",
      "\n",
      "See the caveats in the documentation: https://pandas.pydata.org/pandas-docs/stable/user_guide/indexing.html#returning-a-view-versus-a-copy\n",
      "  df[f'Genre_{x}'] = df.genre.str.contains(x)\n",
      "/Users/michaelmesa/codeup-data-science/Steam-Hours-Capstone/Michael/Wrangle.py:103: SettingWithCopyWarning: \n",
      "A value is trying to be set on a copy of a slice from a DataFrame.\n",
      "Try using .loc[row_indexer,col_indexer] = value instead\n",
      "\n",
      "See the caveats in the documentation: https://pandas.pydata.org/pandas-docs/stable/user_guide/indexing.html#returning-a-view-versus-a-copy\n",
      "  df[f'Genre_{x}'] = df.genre.str.contains(x)\n",
      "/Users/michaelmesa/codeup-data-science/Steam-Hours-Capstone/Michael/Wrangle.py:103: SettingWithCopyWarning: \n",
      "A value is trying to be set on a copy of a slice from a DataFrame.\n",
      "Try using .loc[row_indexer,col_indexer] = value instead\n",
      "\n",
      "See the caveats in the documentation: https://pandas.pydata.org/pandas-docs/stable/user_guide/indexing.html#returning-a-view-versus-a-copy\n",
      "  df[f'Genre_{x}'] = df.genre.str.contains(x)\n",
      "/Users/michaelmesa/codeup-data-science/Steam-Hours-Capstone/Michael/Wrangle.py:103: SettingWithCopyWarning: \n",
      "A value is trying to be set on a copy of a slice from a DataFrame.\n",
      "Try using .loc[row_indexer,col_indexer] = value instead\n",
      "\n",
      "See the caveats in the documentation: https://pandas.pydata.org/pandas-docs/stable/user_guide/indexing.html#returning-a-view-versus-a-copy\n",
      "  df[f'Genre_{x}'] = df.genre.str.contains(x)\n",
      "/Users/michaelmesa/codeup-data-science/Steam-Hours-Capstone/Michael/Wrangle.py:103: SettingWithCopyWarning: \n",
      "A value is trying to be set on a copy of a slice from a DataFrame.\n",
      "Try using .loc[row_indexer,col_indexer] = value instead\n",
      "\n",
      "See the caveats in the documentation: https://pandas.pydata.org/pandas-docs/stable/user_guide/indexing.html#returning-a-view-versus-a-copy\n",
      "  df[f'Genre_{x}'] = df.genre.str.contains(x)\n",
      "/Users/michaelmesa/codeup-data-science/Steam-Hours-Capstone/Michael/Wrangle.py:103: SettingWithCopyWarning: \n",
      "A value is trying to be set on a copy of a slice from a DataFrame.\n",
      "Try using .loc[row_indexer,col_indexer] = value instead\n",
      "\n",
      "See the caveats in the documentation: https://pandas.pydata.org/pandas-docs/stable/user_guide/indexing.html#returning-a-view-versus-a-copy\n",
      "  df[f'Genre_{x}'] = df.genre.str.contains(x)\n",
      "/Users/michaelmesa/codeup-data-science/Steam-Hours-Capstone/Michael/Wrangle.py:103: SettingWithCopyWarning: \n",
      "A value is trying to be set on a copy of a slice from a DataFrame.\n",
      "Try using .loc[row_indexer,col_indexer] = value instead\n",
      "\n",
      "See the caveats in the documentation: https://pandas.pydata.org/pandas-docs/stable/user_guide/indexing.html#returning-a-view-versus-a-copy\n",
      "  df[f'Genre_{x}'] = df.genre.str.contains(x)\n",
      "/Users/michaelmesa/codeup-data-science/Steam-Hours-Capstone/Michael/Wrangle.py:103: SettingWithCopyWarning: \n",
      "A value is trying to be set on a copy of a slice from a DataFrame.\n",
      "Try using .loc[row_indexer,col_indexer] = value instead\n",
      "\n",
      "See the caveats in the documentation: https://pandas.pydata.org/pandas-docs/stable/user_guide/indexing.html#returning-a-view-versus-a-copy\n",
      "  df[f'Genre_{x}'] = df.genre.str.contains(x)\n",
      "/Users/michaelmesa/codeup-data-science/Steam-Hours-Capstone/Michael/Wrangle.py:103: SettingWithCopyWarning: \n",
      "A value is trying to be set on a copy of a slice from a DataFrame.\n",
      "Try using .loc[row_indexer,col_indexer] = value instead\n",
      "\n",
      "See the caveats in the documentation: https://pandas.pydata.org/pandas-docs/stable/user_guide/indexing.html#returning-a-view-versus-a-copy\n",
      "  df[f'Genre_{x}'] = df.genre.str.contains(x)\n",
      "/Users/michaelmesa/codeup-data-science/Steam-Hours-Capstone/Michael/Wrangle.py:103: SettingWithCopyWarning: \n",
      "A value is trying to be set on a copy of a slice from a DataFrame.\n",
      "Try using .loc[row_indexer,col_indexer] = value instead\n",
      "\n",
      "See the caveats in the documentation: https://pandas.pydata.org/pandas-docs/stable/user_guide/indexing.html#returning-a-view-versus-a-copy\n",
      "  df[f'Genre_{x}'] = df.genre.str.contains(x)\n",
      "/Users/michaelmesa/codeup-data-science/Steam-Hours-Capstone/Michael/Wrangle.py:103: SettingWithCopyWarning: \n",
      "A value is trying to be set on a copy of a slice from a DataFrame.\n",
      "Try using .loc[row_indexer,col_indexer] = value instead\n",
      "\n",
      "See the caveats in the documentation: https://pandas.pydata.org/pandas-docs/stable/user_guide/indexing.html#returning-a-view-versus-a-copy\n",
      "  df[f'Genre_{x}'] = df.genre.str.contains(x)\n",
      "/Users/michaelmesa/codeup-data-science/Steam-Hours-Capstone/Michael/Wrangle.py:103: SettingWithCopyWarning: \n",
      "A value is trying to be set on a copy of a slice from a DataFrame.\n",
      "Try using .loc[row_indexer,col_indexer] = value instead\n",
      "\n",
      "See the caveats in the documentation: https://pandas.pydata.org/pandas-docs/stable/user_guide/indexing.html#returning-a-view-versus-a-copy\n",
      "  df[f'Genre_{x}'] = df.genre.str.contains(x)\n",
      "/Users/michaelmesa/codeup-data-science/Steam-Hours-Capstone/Michael/Wrangle.py:103: SettingWithCopyWarning: \n",
      "A value is trying to be set on a copy of a slice from a DataFrame.\n",
      "Try using .loc[row_indexer,col_indexer] = value instead\n",
      "\n",
      "See the caveats in the documentation: https://pandas.pydata.org/pandas-docs/stable/user_guide/indexing.html#returning-a-view-versus-a-copy\n",
      "  df[f'Genre_{x}'] = df.genre.str.contains(x)\n",
      "/Users/michaelmesa/codeup-data-science/Steam-Hours-Capstone/Michael/Wrangle.py:103: SettingWithCopyWarning: \n",
      "A value is trying to be set on a copy of a slice from a DataFrame.\n",
      "Try using .loc[row_indexer,col_indexer] = value instead\n",
      "\n",
      "See the caveats in the documentation: https://pandas.pydata.org/pandas-docs/stable/user_guide/indexing.html#returning-a-view-versus-a-copy\n",
      "  df[f'Genre_{x}'] = df.genre.str.contains(x)\n"
     ]
    },
    {
     "name": "stderr",
     "output_type": "stream",
     "text": [
      "/Users/michaelmesa/codeup-data-science/Steam-Hours-Capstone/Michael/Wrangle.py:103: SettingWithCopyWarning: \n",
      "A value is trying to be set on a copy of a slice from a DataFrame.\n",
      "Try using .loc[row_indexer,col_indexer] = value instead\n",
      "\n",
      "See the caveats in the documentation: https://pandas.pydata.org/pandas-docs/stable/user_guide/indexing.html#returning-a-view-versus-a-copy\n",
      "  df[f'Genre_{x}'] = df.genre.str.contains(x)\n",
      "/Users/michaelmesa/codeup-data-science/Steam-Hours-Capstone/Michael/Wrangle.py:103: SettingWithCopyWarning: \n",
      "A value is trying to be set on a copy of a slice from a DataFrame.\n",
      "Try using .loc[row_indexer,col_indexer] = value instead\n",
      "\n",
      "See the caveats in the documentation: https://pandas.pydata.org/pandas-docs/stable/user_guide/indexing.html#returning-a-view-versus-a-copy\n",
      "  df[f'Genre_{x}'] = df.genre.str.contains(x)\n",
      "/Users/michaelmesa/codeup-data-science/Steam-Hours-Capstone/Michael/Wrangle.py:103: SettingWithCopyWarning: \n",
      "A value is trying to be set on a copy of a slice from a DataFrame.\n",
      "Try using .loc[row_indexer,col_indexer] = value instead\n",
      "\n",
      "See the caveats in the documentation: https://pandas.pydata.org/pandas-docs/stable/user_guide/indexing.html#returning-a-view-versus-a-copy\n",
      "  df[f'Genre_{x}'] = df.genre.str.contains(x)\n",
      "/Users/michaelmesa/codeup-data-science/Steam-Hours-Capstone/Michael/Wrangle.py:103: SettingWithCopyWarning: \n",
      "A value is trying to be set on a copy of a slice from a DataFrame.\n",
      "Try using .loc[row_indexer,col_indexer] = value instead\n",
      "\n",
      "See the caveats in the documentation: https://pandas.pydata.org/pandas-docs/stable/user_guide/indexing.html#returning-a-view-versus-a-copy\n",
      "  df[f'Genre_{x}'] = df.genre.str.contains(x)\n",
      "/Users/michaelmesa/codeup-data-science/Steam-Hours-Capstone/Michael/Wrangle.py:103: SettingWithCopyWarning: \n",
      "A value is trying to be set on a copy of a slice from a DataFrame.\n",
      "Try using .loc[row_indexer,col_indexer] = value instead\n",
      "\n",
      "See the caveats in the documentation: https://pandas.pydata.org/pandas-docs/stable/user_guide/indexing.html#returning-a-view-versus-a-copy\n",
      "  df[f'Genre_{x}'] = df.genre.str.contains(x)\n",
      "/Users/michaelmesa/codeup-data-science/Steam-Hours-Capstone/Michael/Wrangle.py:103: SettingWithCopyWarning: \n",
      "A value is trying to be set on a copy of a slice from a DataFrame.\n",
      "Try using .loc[row_indexer,col_indexer] = value instead\n",
      "\n",
      "See the caveats in the documentation: https://pandas.pydata.org/pandas-docs/stable/user_guide/indexing.html#returning-a-view-versus-a-copy\n",
      "  df[f'Genre_{x}'] = df.genre.str.contains(x)\n",
      "/Users/michaelmesa/codeup-data-science/Steam-Hours-Capstone/Michael/Wrangle.py:103: SettingWithCopyWarning: \n",
      "A value is trying to be set on a copy of a slice from a DataFrame.\n",
      "Try using .loc[row_indexer,col_indexer] = value instead\n",
      "\n",
      "See the caveats in the documentation: https://pandas.pydata.org/pandas-docs/stable/user_guide/indexing.html#returning-a-view-versus-a-copy\n",
      "  df[f'Genre_{x}'] = df.genre.str.contains(x)\n",
      "/Users/michaelmesa/codeup-data-science/Steam-Hours-Capstone/Michael/Wrangle.py:103: SettingWithCopyWarning: \n",
      "A value is trying to be set on a copy of a slice from a DataFrame.\n",
      "Try using .loc[row_indexer,col_indexer] = value instead\n",
      "\n",
      "See the caveats in the documentation: https://pandas.pydata.org/pandas-docs/stable/user_guide/indexing.html#returning-a-view-versus-a-copy\n",
      "  df[f'Genre_{x}'] = df.genre.str.contains(x)\n",
      "/Users/michaelmesa/codeup-data-science/Steam-Hours-Capstone/Michael/Wrangle.py:103: SettingWithCopyWarning: \n",
      "A value is trying to be set on a copy of a slice from a DataFrame.\n",
      "Try using .loc[row_indexer,col_indexer] = value instead\n",
      "\n",
      "See the caveats in the documentation: https://pandas.pydata.org/pandas-docs/stable/user_guide/indexing.html#returning-a-view-versus-a-copy\n",
      "  df[f'Genre_{x}'] = df.genre.str.contains(x)\n",
      "/Users/michaelmesa/codeup-data-science/Steam-Hours-Capstone/Michael/Wrangle.py:103: SettingWithCopyWarning: \n",
      "A value is trying to be set on a copy of a slice from a DataFrame.\n",
      "Try using .loc[row_indexer,col_indexer] = value instead\n",
      "\n",
      "See the caveats in the documentation: https://pandas.pydata.org/pandas-docs/stable/user_guide/indexing.html#returning-a-view-versus-a-copy\n",
      "  df[f'Genre_{x}'] = df.genre.str.contains(x)\n",
      "/Users/michaelmesa/codeup-data-science/Steam-Hours-Capstone/Michael/Wrangle.py:103: SettingWithCopyWarning: \n",
      "A value is trying to be set on a copy of a slice from a DataFrame.\n",
      "Try using .loc[row_indexer,col_indexer] = value instead\n",
      "\n",
      "See the caveats in the documentation: https://pandas.pydata.org/pandas-docs/stable/user_guide/indexing.html#returning-a-view-versus-a-copy\n",
      "  df[f'Genre_{x}'] = df.genre.str.contains(x)\n",
      "/Users/michaelmesa/codeup-data-science/Steam-Hours-Capstone/Michael/Wrangle.py:103: SettingWithCopyWarning: \n",
      "A value is trying to be set on a copy of a slice from a DataFrame.\n",
      "Try using .loc[row_indexer,col_indexer] = value instead\n",
      "\n",
      "See the caveats in the documentation: https://pandas.pydata.org/pandas-docs/stable/user_guide/indexing.html#returning-a-view-versus-a-copy\n",
      "  df[f'Genre_{x}'] = df.genre.str.contains(x)\n",
      "/Users/michaelmesa/codeup-data-science/Steam-Hours-Capstone/Michael/Wrangle.py:103: SettingWithCopyWarning: \n",
      "A value is trying to be set on a copy of a slice from a DataFrame.\n",
      "Try using .loc[row_indexer,col_indexer] = value instead\n",
      "\n",
      "See the caveats in the documentation: https://pandas.pydata.org/pandas-docs/stable/user_guide/indexing.html#returning-a-view-versus-a-copy\n",
      "  df[f'Genre_{x}'] = df.genre.str.contains(x)\n",
      "/Users/michaelmesa/codeup-data-science/Steam-Hours-Capstone/Michael/Wrangle.py:103: SettingWithCopyWarning: \n",
      "A value is trying to be set on a copy of a slice from a DataFrame.\n",
      "Try using .loc[row_indexer,col_indexer] = value instead\n",
      "\n",
      "See the caveats in the documentation: https://pandas.pydata.org/pandas-docs/stable/user_guide/indexing.html#returning-a-view-versus-a-copy\n",
      "  df[f'Genre_{x}'] = df.genre.str.contains(x)\n",
      "/Users/michaelmesa/codeup-data-science/Steam-Hours-Capstone/Michael/Wrangle.py:103: SettingWithCopyWarning: \n",
      "A value is trying to be set on a copy of a slice from a DataFrame.\n",
      "Try using .loc[row_indexer,col_indexer] = value instead\n",
      "\n",
      "See the caveats in the documentation: https://pandas.pydata.org/pandas-docs/stable/user_guide/indexing.html#returning-a-view-versus-a-copy\n",
      "  df[f'Genre_{x}'] = df.genre.str.contains(x)\n",
      "/Users/michaelmesa/codeup-data-science/Steam-Hours-Capstone/Michael/Wrangle.py:103: SettingWithCopyWarning: \n",
      "A value is trying to be set on a copy of a slice from a DataFrame.\n",
      "Try using .loc[row_indexer,col_indexer] = value instead\n",
      "\n",
      "See the caveats in the documentation: https://pandas.pydata.org/pandas-docs/stable/user_guide/indexing.html#returning-a-view-versus-a-copy\n",
      "  df[f'Genre_{x}'] = df.genre.str.contains(x)\n",
      "/Users/michaelmesa/codeup-data-science/Steam-Hours-Capstone/Michael/Wrangle.py:103: SettingWithCopyWarning: \n",
      "A value is trying to be set on a copy of a slice from a DataFrame.\n",
      "Try using .loc[row_indexer,col_indexer] = value instead\n",
      "\n",
      "See the caveats in the documentation: https://pandas.pydata.org/pandas-docs/stable/user_guide/indexing.html#returning-a-view-versus-a-copy\n",
      "  df[f'Genre_{x}'] = df.genre.str.contains(x)\n",
      "/Users/michaelmesa/codeup-data-science/Steam-Hours-Capstone/Michael/Wrangle.py:103: SettingWithCopyWarning: \n",
      "A value is trying to be set on a copy of a slice from a DataFrame.\n",
      "Try using .loc[row_indexer,col_indexer] = value instead\n",
      "\n",
      "See the caveats in the documentation: https://pandas.pydata.org/pandas-docs/stable/user_guide/indexing.html#returning-a-view-versus-a-copy\n",
      "  df[f'Genre_{x}'] = df.genre.str.contains(x)\n",
      "/Users/michaelmesa/codeup-data-science/Steam-Hours-Capstone/Michael/Wrangle.py:103: SettingWithCopyWarning: \n",
      "A value is trying to be set on a copy of a slice from a DataFrame.\n",
      "Try using .loc[row_indexer,col_indexer] = value instead\n",
      "\n",
      "See the caveats in the documentation: https://pandas.pydata.org/pandas-docs/stable/user_guide/indexing.html#returning-a-view-versus-a-copy\n",
      "  df[f'Genre_{x}'] = df.genre.str.contains(x)\n",
      "/Users/michaelmesa/codeup-data-science/Steam-Hours-Capstone/Michael/Wrangle.py:103: SettingWithCopyWarning: \n",
      "A value is trying to be set on a copy of a slice from a DataFrame.\n",
      "Try using .loc[row_indexer,col_indexer] = value instead\n",
      "\n",
      "See the caveats in the documentation: https://pandas.pydata.org/pandas-docs/stable/user_guide/indexing.html#returning-a-view-versus-a-copy\n",
      "  df[f'Genre_{x}'] = df.genre.str.contains(x)\n",
      "/Users/michaelmesa/codeup-data-science/Steam-Hours-Capstone/Michael/Wrangle.py:103: SettingWithCopyWarning: \n",
      "A value is trying to be set on a copy of a slice from a DataFrame.\n",
      "Try using .loc[row_indexer,col_indexer] = value instead\n",
      "\n",
      "See the caveats in the documentation: https://pandas.pydata.org/pandas-docs/stable/user_guide/indexing.html#returning-a-view-versus-a-copy\n",
      "  df[f'Genre_{x}'] = df.genre.str.contains(x)\n",
      "/Users/michaelmesa/codeup-data-science/Steam-Hours-Capstone/Michael/Wrangle.py:103: SettingWithCopyWarning: \n",
      "A value is trying to be set on a copy of a slice from a DataFrame.\n",
      "Try using .loc[row_indexer,col_indexer] = value instead\n",
      "\n",
      "See the caveats in the documentation: https://pandas.pydata.org/pandas-docs/stable/user_guide/indexing.html#returning-a-view-versus-a-copy\n",
      "  df[f'Genre_{x}'] = df.genre.str.contains(x)\n",
      "/Users/michaelmesa/codeup-data-science/Steam-Hours-Capstone/Michael/Wrangle.py:103: SettingWithCopyWarning: \n",
      "A value is trying to be set on a copy of a slice from a DataFrame.\n",
      "Try using .loc[row_indexer,col_indexer] = value instead\n",
      "\n",
      "See the caveats in the documentation: https://pandas.pydata.org/pandas-docs/stable/user_guide/indexing.html#returning-a-view-versus-a-copy\n",
      "  df[f'Genre_{x}'] = df.genre.str.contains(x)\n",
      "/Users/michaelmesa/codeup-data-science/Steam-Hours-Capstone/Michael/Wrangle.py:103: SettingWithCopyWarning: \n",
      "A value is trying to be set on a copy of a slice from a DataFrame.\n",
      "Try using .loc[row_indexer,col_indexer] = value instead\n",
      "\n",
      "See the caveats in the documentation: https://pandas.pydata.org/pandas-docs/stable/user_guide/indexing.html#returning-a-view-versus-a-copy\n",
      "  df[f'Genre_{x}'] = df.genre.str.contains(x)\n"
     ]
    }
   ],
   "source": [
    "df = w.get_clean_steamspy_data()"
   ]
  },
  {
   "cell_type": "code",
   "execution_count": 6,
   "id": "8c554eb2",
   "metadata": {},
   "outputs": [
    {
     "data": {
      "text/plain": [
       "Index(['appid', 'name', 'developer', 'publisher', 'positive', 'negative',\n",
       "       'owners', 'average_forever', 'average_2weeks', 'median_forever',\n",
       "       ...\n",
       "       'Genre_Software Training', 'Genre_ Game Development',\n",
       "       'Genre_ Audio Production', 'Genre_ Web Publishing',\n",
       "       'Genre_Design & Illustration', 'Genre_Game Development', 'Genre_ Movie',\n",
       "       'Genre_ Education', 'Genre_ Software Training', 'Genre_Early Access'],\n",
       "      dtype='object', length=106)"
      ]
     },
     "execution_count": 6,
     "metadata": {},
     "output_type": "execute_result"
    }
   ],
   "source": [
    "df.columns"
   ]
  },
  {
   "cell_type": "code",
   "execution_count": 7,
   "id": "d6f11d83",
   "metadata": {
    "scrolled": true
   },
   "outputs": [],
   "source": [
    "train, validate, test = w.my_train_test_split(df)"
   ]
  },
  {
   "cell_type": "code",
   "execution_count": 8,
   "id": "23559d95",
   "metadata": {
    "scrolled": true
   },
   "outputs": [
    {
     "data": {
      "text/plain": [
       "moderately_played    1222\n",
       "heavily_played         65\n",
       "rarely_played          31\n",
       "Name: binned_hours, dtype: int64"
      ]
     },
     "execution_count": 8,
     "metadata": {},
     "output_type": "execute_result"
    }
   ],
   "source": [
    "train.binned_hours.value_counts()"
   ]
  },
  {
   "cell_type": "code",
   "execution_count": 9,
   "id": "82e26d8b",
   "metadata": {},
   "outputs": [],
   "source": [
    "df, train, validate, test = m.prep_for_model(df, train, validate, test)"
   ]
  },
  {
   "cell_type": "code",
   "execution_count": 10,
   "id": "54decd94",
   "metadata": {
    "scrolled": true
   },
   "outputs": [],
   "source": [
    "x_train, y_train, x_validate, y_validate, x_test, y_test = m.isolate_target(train,validate,test)"
   ]
  },
  {
   "cell_type": "code",
   "execution_count": 32,
   "id": "b9d0330d",
   "metadata": {},
   "outputs": [],
   "source": [
    "#df.columns"
   ]
  },
  {
   "cell_type": "markdown",
   "id": "bc3b6485",
   "metadata": {},
   "source": [
    "## Decision-Tree Modeling"
   ]
  },
  {
   "cell_type": "code",
   "execution_count": 11,
   "id": "4d95de6b",
   "metadata": {},
   "outputs": [],
   "source": [
    "depth_list = []\n",
    "sample_list = []\n",
    "c_val_list = []\n",
    "for x in range(1,21,1):\n",
    "    depth_list.append(x)\n",
    "for x in range(1,21,1):\n",
    "    sample_list.append(x)\n",
    "for x in range(5,100,5):\n",
    "    c_val_list.append(x/100)\n",
    "\n",
    "#%%\n",
    "scores = pd.DataFrame(columns=['model_name', 'train_score', 'validate_score', 'score_difference'])"
   ]
  },
  {
   "cell_type": "code",
   "execution_count": 12,
   "id": "48f719de",
   "metadata": {
    "scrolled": true
   },
   "outputs": [
    {
     "name": "stdout",
     "output_type": "stream",
     "text": [
      "Best parameters per algorithm:\n",
      "----------------------------------------------------\n",
      "Decision Tree Parameters:  {'max_depth': 3}\n"
     ]
    }
   ],
   "source": [
    "DTC_parameters = {'max_depth':depth_list}\n",
    "#%%\n",
    "DTC = DecisionTreeClassifier(random_state=142)\n",
    "#%%\n",
    "cv = 5\n",
    "#%%\n",
    "grid_DTC = GridSearchCV(estimator=DTC, param_grid=DTC_parameters, cv=cv, n_jobs=-1)\n",
    "#%%\n",
    "grid_DTC.fit(x_train, y_train)\n",
    "train_score = grid_DTC.best_estimator_.score(x_train, y_train)\n",
    "validate_score = grid_DTC.best_estimator_.score(x_validate, y_validate)\n",
    "#%%\n",
    "print(f'Best parameters per algorithm:')\n",
    "print('----------------------------------------------------')\n",
    "print(f'Decision Tree Parameters:  {grid_DTC.best_params_}')"
   ]
  },
  {
   "cell_type": "code",
   "execution_count": 13,
   "id": "f3724d42",
   "metadata": {
    "scrolled": true
   },
   "outputs": [],
   "source": [
    "scores.loc[len(scores)] = ['Decision Tree', train_score, validate_score, train_score - validate_score]"
   ]
  },
  {
   "cell_type": "code",
   "execution_count": 14,
   "id": "9514d0c9",
   "metadata": {
    "scrolled": false
   },
   "outputs": [
    {
     "data": {
      "text/html": [
       "<div>\n",
       "<style scoped>\n",
       "    .dataframe tbody tr th:only-of-type {\n",
       "        vertical-align: middle;\n",
       "    }\n",
       "\n",
       "    .dataframe tbody tr th {\n",
       "        vertical-align: top;\n",
       "    }\n",
       "\n",
       "    .dataframe thead th {\n",
       "        text-align: right;\n",
       "    }\n",
       "</style>\n",
       "<table border=\"1\" class=\"dataframe\">\n",
       "  <thead>\n",
       "    <tr style=\"text-align: right;\">\n",
       "      <th></th>\n",
       "      <th>model_name</th>\n",
       "      <th>train_score</th>\n",
       "      <th>validate_score</th>\n",
       "      <th>score_difference</th>\n",
       "    </tr>\n",
       "  </thead>\n",
       "  <tbody>\n",
       "    <tr>\n",
       "      <th>0</th>\n",
       "      <td>Decision Tree</td>\n",
       "      <td>0.933991</td>\n",
       "      <td>0.934091</td>\n",
       "      <td>-0.0001</td>\n",
       "    </tr>\n",
       "  </tbody>\n",
       "</table>\n",
       "</div>"
      ],
      "text/plain": [
       "      model_name  train_score  validate_score  score_difference\n",
       "0  Decision Tree     0.933991        0.934091           -0.0001"
      ]
     },
     "execution_count": 14,
     "metadata": {},
     "output_type": "execute_result"
    }
   ],
   "source": [
    "scores"
   ]
  },
  {
   "cell_type": "code",
   "execution_count": 15,
   "id": "f75193f6",
   "metadata": {},
   "outputs": [
    {
     "name": "stdout",
     "output_type": "stream",
     "text": [
      "           heavily_played  moderately_played  rarely_played  accuracy  \\\n",
      "precision        0.333333           0.938215            0.0  0.934091   \n",
      "recall           0.058824           0.995146            0.0  0.934091   \n",
      "f1-score         0.100000           0.965842            0.0  0.934091   \n",
      "support         17.000000         412.000000           11.0  0.934091   \n",
      "\n",
      "            macro avg  weighted avg  \n",
      "precision    0.423849      0.891389  \n",
      "recall       0.351323      0.934091  \n",
      "f1-score     0.355281      0.908243  \n",
      "support    440.000000    440.000000  \n"
     ]
    },
    {
     "name": "stderr",
     "output_type": "stream",
     "text": [
      "/opt/homebrew/anaconda3/lib/python3.9/site-packages/sklearn/metrics/_classification.py:1318: UndefinedMetricWarning: Precision and F-score are ill-defined and being set to 0.0 in labels with no predicted samples. Use `zero_division` parameter to control this behavior.\n",
      "  _warn_prf(average, modifier, msg_start, len(result))\n",
      "/opt/homebrew/anaconda3/lib/python3.9/site-packages/sklearn/metrics/_classification.py:1318: UndefinedMetricWarning: Precision and F-score are ill-defined and being set to 0.0 in labels with no predicted samples. Use `zero_division` parameter to control this behavior.\n",
      "  _warn_prf(average, modifier, msg_start, len(result))\n",
      "/opt/homebrew/anaconda3/lib/python3.9/site-packages/sklearn/metrics/_classification.py:1318: UndefinedMetricWarning: Precision and F-score are ill-defined and being set to 0.0 in labels with no predicted samples. Use `zero_division` parameter to control this behavior.\n",
      "  _warn_prf(average, modifier, msg_start, len(result))\n"
     ]
    }
   ],
   "source": [
    "y_preds_train = pd.DataFrame({\n",
    "    'y_act': y_train,\n",
    "    'baseline': 92,\n",
    "    'DTC': grid_DTC.predict(x_train)})\n",
    "y_preds_validate = pd.DataFrame({\n",
    "    'y_act': y_validate,\n",
    "    'baseline': 92,\n",
    "    'DTC': grid_DTC.predict(x_validate)})\n",
    "print(pd.DataFrame(classification_report(y_preds_validate.y_act, y_preds_validate.DTC, output_dict=True)))\n"
   ]
  },
  {
   "cell_type": "markdown",
   "id": "bad4b457",
   "metadata": {},
   "source": [
    "## RF Modeling"
   ]
  },
  {
   "cell_type": "code",
   "execution_count": 16,
   "id": "0798d857",
   "metadata": {},
   "outputs": [
    {
     "name": "stdout",
     "output_type": "stream",
     "text": [
      "Best parameters per algorithm:\n",
      "----------------------------------------------------\n",
      "Random Forest Parameters:  {'max_depth': 14}\n"
     ]
    }
   ],
   "source": [
    "RF_parameters = {'max_depth':depth_list}\n",
    "#%%\n",
    "RF = RandomForestClassifier(random_state=142)\n",
    "#%%\n",
    "cv = 5\n",
    "#%%\n",
    "grid_RF = GridSearchCV(estimator=RF, param_grid=RF_parameters, cv=cv, n_jobs=-1)\n",
    "#%%\n",
    "grid_RF.fit(x_train, y_train)\n",
    "train_score = grid_RF.best_estimator_.score(x_train, y_train)\n",
    "validate_score = grid_RF.best_estimator_.score(x_validate, y_validate)\n",
    "#%%\n",
    "print(f'Best parameters per algorithm:')\n",
    "print('----------------------------------------------------')\n",
    "print(f'Random Forest Parameters:  {grid_RF.best_params_}')"
   ]
  },
  {
   "cell_type": "code",
   "execution_count": 17,
   "id": "df4ef622",
   "metadata": {},
   "outputs": [],
   "source": [
    "scores.loc[len(scores)] = ['Random Forest', train_score, validate_score, train_score - validate_score]"
   ]
  },
  {
   "cell_type": "code",
   "execution_count": 18,
   "id": "ef71e5b8",
   "metadata": {},
   "outputs": [
    {
     "data": {
      "text/html": [
       "<div>\n",
       "<style scoped>\n",
       "    .dataframe tbody tr th:only-of-type {\n",
       "        vertical-align: middle;\n",
       "    }\n",
       "\n",
       "    .dataframe tbody tr th {\n",
       "        vertical-align: top;\n",
       "    }\n",
       "\n",
       "    .dataframe thead th {\n",
       "        text-align: right;\n",
       "    }\n",
       "</style>\n",
       "<table border=\"1\" class=\"dataframe\">\n",
       "  <thead>\n",
       "    <tr style=\"text-align: right;\">\n",
       "      <th></th>\n",
       "      <th>model_name</th>\n",
       "      <th>train_score</th>\n",
       "      <th>validate_score</th>\n",
       "      <th>score_difference</th>\n",
       "    </tr>\n",
       "  </thead>\n",
       "  <tbody>\n",
       "    <tr>\n",
       "      <th>0</th>\n",
       "      <td>Decision Tree</td>\n",
       "      <td>0.933991</td>\n",
       "      <td>0.934091</td>\n",
       "      <td>-0.000100</td>\n",
       "    </tr>\n",
       "    <tr>\n",
       "      <th>1</th>\n",
       "      <td>Random Forest</td>\n",
       "      <td>0.952200</td>\n",
       "      <td>0.931818</td>\n",
       "      <td>0.020382</td>\n",
       "    </tr>\n",
       "  </tbody>\n",
       "</table>\n",
       "</div>"
      ],
      "text/plain": [
       "      model_name  train_score  validate_score  score_difference\n",
       "0  Decision Tree     0.933991        0.934091         -0.000100\n",
       "1  Random Forest     0.952200        0.931818          0.020382"
      ]
     },
     "execution_count": 18,
     "metadata": {},
     "output_type": "execute_result"
    }
   ],
   "source": [
    "scores"
   ]
  },
  {
   "cell_type": "code",
   "execution_count": 19,
   "id": "86da6be2",
   "metadata": {},
   "outputs": [
    {
     "name": "stdout",
     "output_type": "stream",
     "text": [
      "           heavily_played  moderately_played  rarely_played  accuracy  \\\n",
      "precision        0.333333           0.940092            0.0  0.931818   \n",
      "recall           0.117647           0.990291            0.0  0.931818   \n",
      "f1-score         0.173913           0.964539            0.0  0.931818   \n",
      "support         17.000000         412.000000           11.0  0.931818   \n",
      "\n",
      "            macro avg  weighted avg  \n",
      "precision    0.424475      0.893147  \n",
      "recall       0.369313      0.931818  \n",
      "f1-score     0.379484      0.909879  \n",
      "support    440.000000    440.000000  \n"
     ]
    },
    {
     "name": "stderr",
     "output_type": "stream",
     "text": [
      "/opt/homebrew/anaconda3/lib/python3.9/site-packages/sklearn/metrics/_classification.py:1318: UndefinedMetricWarning: Precision and F-score are ill-defined and being set to 0.0 in labels with no predicted samples. Use `zero_division` parameter to control this behavior.\n",
      "  _warn_prf(average, modifier, msg_start, len(result))\n",
      "/opt/homebrew/anaconda3/lib/python3.9/site-packages/sklearn/metrics/_classification.py:1318: UndefinedMetricWarning: Precision and F-score are ill-defined and being set to 0.0 in labels with no predicted samples. Use `zero_division` parameter to control this behavior.\n",
      "  _warn_prf(average, modifier, msg_start, len(result))\n",
      "/opt/homebrew/anaconda3/lib/python3.9/site-packages/sklearn/metrics/_classification.py:1318: UndefinedMetricWarning: Precision and F-score are ill-defined and being set to 0.0 in labels with no predicted samples. Use `zero_division` parameter to control this behavior.\n",
      "  _warn_prf(average, modifier, msg_start, len(result))\n"
     ]
    }
   ],
   "source": [
    "y_preds_train = pd.DataFrame({\n",
    "    'y_act': y_train,\n",
    "    'baseline': 92,\n",
    "    'RF': grid_RF.predict(x_train)})\n",
    "y_preds_validate = pd.DataFrame({\n",
    "    'y_act': y_validate,\n",
    "    'baseline': 92,\n",
    "    'RF': grid_RF.predict(x_validate)})\n",
    "print(pd.DataFrame(classification_report(y_preds_validate.y_act, y_preds_validate.RF, output_dict=True)))\n",
    "\n"
   ]
  },
  {
   "cell_type": "markdown",
   "id": "f7dc79f0",
   "metadata": {},
   "source": [
    "## KNN modeling"
   ]
  },
  {
   "cell_type": "code",
   "execution_count": 20,
   "id": "193db059",
   "metadata": {},
   "outputs": [
    {
     "name": "stdout",
     "output_type": "stream",
     "text": [
      "Best parameters per algorithm:\n",
      "----------------------------------------------------\n",
      "KNN Parameters:  {'n_neighbors': 5}\n"
     ]
    }
   ],
   "source": [
    "KNN_parameters = {'n_neighbors':[1,2,3,4,5]}\n",
    "#%%\n",
    "KNN = KNeighborsClassifier(n_neighbors=5, weights='uniform') #KNearestNeighbors(random_state=142)\n",
    "#%%\n",
    "cv = 5\n",
    "#%%\n",
    "grid_KNN = GridSearchCV(estimator=KNN, param_grid=KNN_parameters, cv=cv, n_jobs=-1)\n",
    "#%%\n",
    "grid_KNN.fit(x_train, y_train)\n",
    "train_score = grid_KNN.best_estimator_.score(x_train, y_train)\n",
    "validate_score = grid_KNN.best_estimator_.score(x_validate, y_validate)\n",
    "#%%\n",
    "print(f'Best parameters per algorithm:')\n",
    "print('----------------------------------------------------')\n",
    "print(f'KNN Parameters:  {grid_KNN.best_params_}')"
   ]
  },
  {
   "cell_type": "code",
   "execution_count": 21,
   "id": "7dbb44ba",
   "metadata": {},
   "outputs": [
    {
     "data": {
      "text/plain": [
       "dict_keys(['algorithm', 'leaf_size', 'metric', 'metric_params', 'n_jobs', 'n_neighbors', 'p', 'weights'])"
      ]
     },
     "execution_count": 21,
     "metadata": {},
     "output_type": "execute_result"
    }
   ],
   "source": [
    "KNN.get_params().keys()"
   ]
  },
  {
   "cell_type": "code",
   "execution_count": 22,
   "id": "1fa35121",
   "metadata": {},
   "outputs": [],
   "source": [
    "scores.loc[len(scores)] = ['KNN', train_score, validate_score, train_score - validate_score]"
   ]
  },
  {
   "cell_type": "code",
   "execution_count": 23,
   "id": "d2e00a51",
   "metadata": {},
   "outputs": [
    {
     "data": {
      "text/html": [
       "<div>\n",
       "<style scoped>\n",
       "    .dataframe tbody tr th:only-of-type {\n",
       "        vertical-align: middle;\n",
       "    }\n",
       "\n",
       "    .dataframe tbody tr th {\n",
       "        vertical-align: top;\n",
       "    }\n",
       "\n",
       "    .dataframe thead th {\n",
       "        text-align: right;\n",
       "    }\n",
       "</style>\n",
       "<table border=\"1\" class=\"dataframe\">\n",
       "  <thead>\n",
       "    <tr style=\"text-align: right;\">\n",
       "      <th></th>\n",
       "      <th>model_name</th>\n",
       "      <th>train_score</th>\n",
       "      <th>validate_score</th>\n",
       "      <th>score_difference</th>\n",
       "    </tr>\n",
       "  </thead>\n",
       "  <tbody>\n",
       "    <tr>\n",
       "      <th>0</th>\n",
       "      <td>Decision Tree</td>\n",
       "      <td>0.933991</td>\n",
       "      <td>0.934091</td>\n",
       "      <td>-0.000100</td>\n",
       "    </tr>\n",
       "    <tr>\n",
       "      <th>1</th>\n",
       "      <td>Random Forest</td>\n",
       "      <td>0.952200</td>\n",
       "      <td>0.931818</td>\n",
       "      <td>0.020382</td>\n",
       "    </tr>\n",
       "    <tr>\n",
       "      <th>2</th>\n",
       "      <td>KNN</td>\n",
       "      <td>0.935508</td>\n",
       "      <td>0.940909</td>\n",
       "      <td>-0.005401</td>\n",
       "    </tr>\n",
       "  </tbody>\n",
       "</table>\n",
       "</div>"
      ],
      "text/plain": [
       "      model_name  train_score  validate_score  score_difference\n",
       "0  Decision Tree     0.933991        0.934091         -0.000100\n",
       "1  Random Forest     0.952200        0.931818          0.020382\n",
       "2            KNN     0.935508        0.940909         -0.005401"
      ]
     },
     "execution_count": 23,
     "metadata": {},
     "output_type": "execute_result"
    }
   ],
   "source": [
    "scores"
   ]
  },
  {
   "cell_type": "code",
   "execution_count": 24,
   "id": "befa6734",
   "metadata": {},
   "outputs": [
    {
     "name": "stdout",
     "output_type": "stream",
     "text": [
      "           heavily_played  moderately_played  rarely_played  accuracy  \\\n",
      "precision        1.000000           0.940639            0.0  0.940909   \n",
      "recall           0.117647           1.000000            0.0  0.940909   \n",
      "f1-score         0.210526           0.969412            0.0  0.940909   \n",
      "support         17.000000         412.000000           11.0  0.940909   \n",
      "\n",
      "            macro avg  weighted avg  \n",
      "precision    0.646880      0.919417  \n",
      "recall       0.372549      0.940909  \n",
      "f1-score     0.393313      0.915856  \n",
      "support    440.000000    440.000000  \n"
     ]
    },
    {
     "name": "stderr",
     "output_type": "stream",
     "text": [
      "/opt/homebrew/anaconda3/lib/python3.9/site-packages/sklearn/metrics/_classification.py:1318: UndefinedMetricWarning: Precision and F-score are ill-defined and being set to 0.0 in labels with no predicted samples. Use `zero_division` parameter to control this behavior.\n",
      "  _warn_prf(average, modifier, msg_start, len(result))\n",
      "/opt/homebrew/anaconda3/lib/python3.9/site-packages/sklearn/metrics/_classification.py:1318: UndefinedMetricWarning: Precision and F-score are ill-defined and being set to 0.0 in labels with no predicted samples. Use `zero_division` parameter to control this behavior.\n",
      "  _warn_prf(average, modifier, msg_start, len(result))\n",
      "/opt/homebrew/anaconda3/lib/python3.9/site-packages/sklearn/metrics/_classification.py:1318: UndefinedMetricWarning: Precision and F-score are ill-defined and being set to 0.0 in labels with no predicted samples. Use `zero_division` parameter to control this behavior.\n",
      "  _warn_prf(average, modifier, msg_start, len(result))\n"
     ]
    }
   ],
   "source": [
    "y_preds_train = pd.DataFrame({\n",
    "    'y_act': y_train,\n",
    "    'baseline': 92,\n",
    "    'KNN': grid_KNN.predict(x_train)})\n",
    "y_preds_validate = pd.DataFrame({\n",
    "    'y_act': y_validate,\n",
    "    'baseline': 92,\n",
    "    'KNN': grid_KNN.predict(x_validate)})\n",
    "print(pd.DataFrame(classification_report(y_preds_validate.y_act, y_preds_validate.KNN, output_dict=True)))\n"
   ]
  },
  {
   "cell_type": "markdown",
   "id": "a8431b4f",
   "metadata": {},
   "source": [
    "## LogReg Modeling"
   ]
  },
  {
   "cell_type": "code",
   "execution_count": 25,
   "id": "d3d2f5ed",
   "metadata": {},
   "outputs": [
    {
     "name": "stdout",
     "output_type": "stream",
     "text": [
      "Best parameters per algorithm:\n",
      "----------------------------------------------------\n",
      "LR Parameters:  {'C': 0.9}\n"
     ]
    }
   ],
   "source": [
    "LR_parameters = {'C':c_val_list}\n",
    "#%%\n",
    "LR = LogisticRegression(solver='liblinear') #KNearestNeighbors(random_state=142)\n",
    "#%%\n",
    "cv = 5\n",
    "#%%\n",
    "grid_LR = GridSearchCV(estimator=LR, param_grid=LR_parameters, cv=cv, n_jobs=-1)\n",
    "#%%\n",
    "grid_LR.fit(x_train, y_train)\n",
    "train_score = grid_LR.best_estimator_.score(x_train, y_train)\n",
    "validate_score = grid_LR.best_estimator_.score(x_validate, y_validate)\n",
    "#%%\n",
    "print(f'Best parameters per algorithm:')\n",
    "print('----------------------------------------------------')\n",
    "print(f'LR Parameters:  {grid_LR.best_params_}')"
   ]
  },
  {
   "cell_type": "code",
   "execution_count": 26,
   "id": "f88a036a",
   "metadata": {},
   "outputs": [
    {
     "data": {
      "text/plain": [
       "dict_keys(['C', 'class_weight', 'dual', 'fit_intercept', 'intercept_scaling', 'l1_ratio', 'max_iter', 'multi_class', 'n_jobs', 'penalty', 'random_state', 'solver', 'tol', 'verbose', 'warm_start'])"
      ]
     },
     "execution_count": 26,
     "metadata": {},
     "output_type": "execute_result"
    }
   ],
   "source": [
    "LR.get_params().keys()"
   ]
  },
  {
   "cell_type": "code",
   "execution_count": 27,
   "id": "0bd27fcb",
   "metadata": {},
   "outputs": [],
   "source": [
    "scores.loc[len(scores)] = ['LR', train_score, validate_score, train_score - validate_score]"
   ]
  },
  {
   "cell_type": "code",
   "execution_count": 28,
   "id": "7a5e1027",
   "metadata": {},
   "outputs": [
    {
     "data": {
      "text/html": [
       "<div>\n",
       "<style scoped>\n",
       "    .dataframe tbody tr th:only-of-type {\n",
       "        vertical-align: middle;\n",
       "    }\n",
       "\n",
       "    .dataframe tbody tr th {\n",
       "        vertical-align: top;\n",
       "    }\n",
       "\n",
       "    .dataframe thead th {\n",
       "        text-align: right;\n",
       "    }\n",
       "</style>\n",
       "<table border=\"1\" class=\"dataframe\">\n",
       "  <thead>\n",
       "    <tr style=\"text-align: right;\">\n",
       "      <th></th>\n",
       "      <th>model_name</th>\n",
       "      <th>train_score</th>\n",
       "      <th>validate_score</th>\n",
       "      <th>score_difference</th>\n",
       "    </tr>\n",
       "  </thead>\n",
       "  <tbody>\n",
       "    <tr>\n",
       "      <th>0</th>\n",
       "      <td>Decision Tree</td>\n",
       "      <td>0.933991</td>\n",
       "      <td>0.934091</td>\n",
       "      <td>-0.000100</td>\n",
       "    </tr>\n",
       "    <tr>\n",
       "      <th>1</th>\n",
       "      <td>Random Forest</td>\n",
       "      <td>0.952200</td>\n",
       "      <td>0.931818</td>\n",
       "      <td>0.020382</td>\n",
       "    </tr>\n",
       "    <tr>\n",
       "      <th>2</th>\n",
       "      <td>KNN</td>\n",
       "      <td>0.935508</td>\n",
       "      <td>0.940909</td>\n",
       "      <td>-0.005401</td>\n",
       "    </tr>\n",
       "    <tr>\n",
       "      <th>3</th>\n",
       "      <td>LR</td>\n",
       "      <td>0.931715</td>\n",
       "      <td>0.938636</td>\n",
       "      <td>-0.006922</td>\n",
       "    </tr>\n",
       "  </tbody>\n",
       "</table>\n",
       "</div>"
      ],
      "text/plain": [
       "      model_name  train_score  validate_score  score_difference\n",
       "0  Decision Tree     0.933991        0.934091         -0.000100\n",
       "1  Random Forest     0.952200        0.931818          0.020382\n",
       "2            KNN     0.935508        0.940909         -0.005401\n",
       "3             LR     0.931715        0.938636         -0.006922"
      ]
     },
     "execution_count": 28,
     "metadata": {},
     "output_type": "execute_result"
    }
   ],
   "source": [
    "scores"
   ]
  },
  {
   "cell_type": "code",
   "execution_count": 29,
   "id": "0fd787d0",
   "metadata": {},
   "outputs": [
    {
     "name": "stdout",
     "output_type": "stream",
     "text": [
      "           heavily_played  moderately_played  rarely_played  accuracy  \\\n",
      "precision        1.000000           0.938497            0.0  0.938636   \n",
      "recall           0.058824           1.000000            0.0  0.938636   \n",
      "f1-score         0.111111           0.968273            0.0  0.938636   \n",
      "support         17.000000         412.000000           11.0  0.938636   \n",
      "\n",
      "            macro avg  weighted avg  \n",
      "precision    0.646166      0.917410  \n",
      "recall       0.352941      0.938636  \n",
      "f1-score     0.359795      0.910948  \n",
      "support    440.000000    440.000000  \n"
     ]
    },
    {
     "name": "stderr",
     "output_type": "stream",
     "text": [
      "/opt/homebrew/anaconda3/lib/python3.9/site-packages/sklearn/metrics/_classification.py:1318: UndefinedMetricWarning: Precision and F-score are ill-defined and being set to 0.0 in labels with no predicted samples. Use `zero_division` parameter to control this behavior.\n",
      "  _warn_prf(average, modifier, msg_start, len(result))\n",
      "/opt/homebrew/anaconda3/lib/python3.9/site-packages/sklearn/metrics/_classification.py:1318: UndefinedMetricWarning: Precision and F-score are ill-defined and being set to 0.0 in labels with no predicted samples. Use `zero_division` parameter to control this behavior.\n",
      "  _warn_prf(average, modifier, msg_start, len(result))\n",
      "/opt/homebrew/anaconda3/lib/python3.9/site-packages/sklearn/metrics/_classification.py:1318: UndefinedMetricWarning: Precision and F-score are ill-defined and being set to 0.0 in labels with no predicted samples. Use `zero_division` parameter to control this behavior.\n",
      "  _warn_prf(average, modifier, msg_start, len(result))\n"
     ]
    }
   ],
   "source": [
    "y_preds_train = pd.DataFrame({\n",
    "    'y_act': y_train,\n",
    "    'baseline': 92,\n",
    "    'LR': grid_LR.predict(x_train)})\n",
    "y_preds_validate = pd.DataFrame({\n",
    "    'y_act': y_validate,\n",
    "    'baseline': 92,\n",
    "    'LR': grid_LR.predict(x_validate)})\n",
    "print(pd.DataFrame(classification_report(y_preds_validate.y_act, y_preds_validate.LR, output_dict=True)))\n",
    "\n"
   ]
  },
  {
   "cell_type": "code",
   "execution_count": null,
   "id": "bafef692",
   "metadata": {},
   "outputs": [],
   "source": []
  }
 ],
 "metadata": {
  "kernelspec": {
   "display_name": "Python 3 (ipykernel)",
   "language": "python",
   "name": "python3"
  },
  "language_info": {
   "codemirror_mode": {
    "name": "ipython",
    "version": 3
   },
   "file_extension": ".py",
   "mimetype": "text/x-python",
   "name": "python",
   "nbconvert_exporter": "python",
   "pygments_lexer": "ipython3",
   "version": "3.9.12"
  }
 },
 "nbformat": 4,
 "nbformat_minor": 5
}
