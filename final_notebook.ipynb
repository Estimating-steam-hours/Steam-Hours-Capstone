{
 "cells": [
  {
   "cell_type": "markdown",
   "id": "8d3721a5",
   "metadata": {},
   "source": [
    "# Steam Hours Capestone"
   ]
  },
  {
   "cell_type": "markdown",
   "id": "4ea84442",
   "metadata": {},
   "source": [
    "## Description\n",
    "The gaming industry now makes more money than the film and music industry combined. We have decided to look into what makes a customer play games for large amounts of time. We will look into what features if any contribute to the number of gameplay hours and create a machine learning model to estimate the hours played for certain types of games. With the model we will be able to predict the value of a game."
   ]
  },
  {
   "cell_type": "markdown",
   "id": "e93e5520",
   "metadata": {},
   "source": [
    "## Goal\n",
    "* Discover drivers of hours played from database\n",
    "* Use drivers to develop a machine learning model to determine value of the product\n",
    "* This information could be used to further our understanding of which elements contribute to or detract from a person's tendency spend time on a game"
   ]
  },
  {
   "cell_type": "markdown",
   "id": "325460f9",
   "metadata": {},
   "source": [
    "## Initial Thoughts\n",
    "We believe that Multiplayer games with a competitive element, such as battle royales, like Fortnite, have the highest game hours. We believe that the games with the least amount of hours are horror genre games."
   ]
  },
  {
   "cell_type": "markdown",
   "id": "e3c5520f",
   "metadata": {},
   "source": [
    "# Imports"
   ]
  },
  {
   "cell_type": "code",
   "execution_count": 5,
   "id": "3b9c926c",
   "metadata": {},
   "outputs": [],
   "source": [
    "import pandas as pd\n",
    "import numpy as np\n",
    "\n",
    "import matplotlib.pyplot as plt\n",
    "import seaborn as sns\n",
    "import os\n",
    "\n",
    "from sklearn.model_selection import train_test_split\n",
    "import sklearn.preprocessing\n",
    "from sklearn.tree import DecisionTreeClassifier, plot_tree, export_text\n",
    "from sklearn.ensemble import RandomForestClassifier\n",
    "from sklearn.neighbors import KNeighborsClassifier\n",
    "from sklearn.linear_model import LogisticRegression\n",
    "from sklearn.metrics import classification_report, confusion_matrix, plot_confusion_matrix\n",
    "np.random.seed(123)\n",
    "\n",
    "import warnings\n",
    "warnings.filterwarnings(\"ignore\")\n",
    "\n",
    "from scipy import stats\n",
    "import re"
   ]
  },
  {
   "cell_type": "markdown",
   "id": "e3411615",
   "metadata": {},
   "source": [
    "# Acquire\n",
    "* Data acquired from final_steamspy_3000_games.csv\n",
    "* The dataset contained 3000 rows and 21 columns before cleaning\n",
    "* Each row represents a game in the steam dataset\n",
    "* Each column represent a feature of the game"
   ]
  },
  {
   "cell_type": "markdown",
   "id": "7be939b0",
   "metadata": {},
   "source": [
    "# Prepare\n",
    "Prepare Actions:\n",
    "* \n",
    "* \n",
    "* \n",
    "* "
   ]
  },
  {
   "cell_type": "markdown",
   "id": "0940aa5a",
   "metadata": {},
   "source": [
    "## Data Dictionary\n"
   ]
  },
  {
   "cell_type": "markdown",
   "id": "6525d4ae",
   "metadata": {},
   "source": [
    "| Feature | Definition |\n",
    "|:--------|:-----------|\n",
    "|name| The title of the game|\n",
    "|developer| The name of the company that developed the game|\n",
    "|publisher| The name of the compnay that published the game|\n",
    "|positive| Number of positive reviews|\n",
    "|negative| Number of negative reviews|\n",
    "|average_forever| Average hours played since game was published|\n",
    "|average_2weeks| Average hours played in past two weeks|\n",
    "|median_forever| The median hours played since game was published|\n",
    "|median_2weeks| The median hours played in past two weeks|\n",
    "|ccu| The number of concurrent users|"
   ]
  },
  {
   "cell_type": "code",
   "execution_count": 6,
   "id": "4945a837",
   "metadata": {},
   "outputs": [
    {
     "data": {
      "text/html": [
       "<div>\n",
       "<style scoped>\n",
       "    .dataframe tbody tr th:only-of-type {\n",
       "        vertical-align: middle;\n",
       "    }\n",
       "\n",
       "    .dataframe tbody tr th {\n",
       "        vertical-align: top;\n",
       "    }\n",
       "\n",
       "    .dataframe thead th {\n",
       "        text-align: right;\n",
       "    }\n",
       "</style>\n",
       "<table border=\"1\" class=\"dataframe\">\n",
       "  <thead>\n",
       "    <tr style=\"text-align: right;\">\n",
       "      <th></th>\n",
       "      <th>Unnamed: 0</th>\n",
       "      <th>appid</th>\n",
       "      <th>name</th>\n",
       "      <th>developer</th>\n",
       "      <th>publisher</th>\n",
       "      <th>score_rank</th>\n",
       "      <th>positive</th>\n",
       "      <th>negative</th>\n",
       "      <th>userscore</th>\n",
       "      <th>owners</th>\n",
       "      <th>...</th>\n",
       "      <th>average_2weeks</th>\n",
       "      <th>median_forever</th>\n",
       "      <th>median_2weeks</th>\n",
       "      <th>price</th>\n",
       "      <th>initialprice</th>\n",
       "      <th>discount</th>\n",
       "      <th>ccu</th>\n",
       "      <th>appid.1</th>\n",
       "      <th>tags</th>\n",
       "      <th>genre</th>\n",
       "    </tr>\n",
       "  </thead>\n",
       "  <tbody>\n",
       "    <tr>\n",
       "      <th>0</th>\n",
       "      <td>0</td>\n",
       "      <td>570</td>\n",
       "      <td>Dota 2</td>\n",
       "      <td>Valve</td>\n",
       "      <td>Valve</td>\n",
       "      <td>NaN</td>\n",
       "      <td>1587210</td>\n",
       "      <td>330303</td>\n",
       "      <td>0</td>\n",
       "      <td>200,000,000 .. 500,000,000</td>\n",
       "      <td>...</td>\n",
       "      <td>1560</td>\n",
       "      <td>976</td>\n",
       "      <td>1084</td>\n",
       "      <td>0</td>\n",
       "      <td>0</td>\n",
       "      <td>0</td>\n",
       "      <td>543171</td>\n",
       "      <td>570</td>\n",
       "      <td>['Free to Play', 'MOBA', 'Multiplayer', 'Strat...</td>\n",
       "      <td>Action, Free to Play, Strategy</td>\n",
       "    </tr>\n",
       "    <tr>\n",
       "      <th>1</th>\n",
       "      <td>1</td>\n",
       "      <td>730</td>\n",
       "      <td>Counter-Strike: Global Offensive</td>\n",
       "      <td>Valve, Hidden Path Entertainment</td>\n",
       "      <td>Valve</td>\n",
       "      <td>NaN</td>\n",
       "      <td>6084096</td>\n",
       "      <td>801021</td>\n",
       "      <td>0</td>\n",
       "      <td>50,000,000 .. 100,000,000</td>\n",
       "      <td>...</td>\n",
       "      <td>771</td>\n",
       "      <td>6381</td>\n",
       "      <td>271</td>\n",
       "      <td>0</td>\n",
       "      <td>0</td>\n",
       "      <td>0</td>\n",
       "      <td>938203</td>\n",
       "      <td>730</td>\n",
       "      <td>['FPS', 'Shooter', 'Multiplayer', 'Competitive...</td>\n",
       "      <td>Action, Free to Play</td>\n",
       "    </tr>\n",
       "    <tr>\n",
       "      <th>2</th>\n",
       "      <td>2</td>\n",
       "      <td>578080</td>\n",
       "      <td>PUBG: BATTLEGROUNDS</td>\n",
       "      <td>KRAFTON, Inc.</td>\n",
       "      <td>KRAFTON, Inc.</td>\n",
       "      <td>NaN</td>\n",
       "      <td>1214011</td>\n",
       "      <td>917768</td>\n",
       "      <td>0</td>\n",
       "      <td>50,000,000 .. 100,000,000</td>\n",
       "      <td>...</td>\n",
       "      <td>648</td>\n",
       "      <td>6688</td>\n",
       "      <td>189</td>\n",
       "      <td>0</td>\n",
       "      <td>0</td>\n",
       "      <td>0</td>\n",
       "      <td>324204</td>\n",
       "      <td>578080</td>\n",
       "      <td>['Survival', 'Shooter', 'Battle Royale', 'Mult...</td>\n",
       "      <td>Action, Adventure, Free to Play, Massively Mul...</td>\n",
       "    </tr>\n",
       "    <tr>\n",
       "      <th>3</th>\n",
       "      <td>3</td>\n",
       "      <td>1063730</td>\n",
       "      <td>New World</td>\n",
       "      <td>Amazon Games</td>\n",
       "      <td>Amazon Games</td>\n",
       "      <td>NaN</td>\n",
       "      <td>174544</td>\n",
       "      <td>75536</td>\n",
       "      <td>0</td>\n",
       "      <td>50,000,000 .. 100,000,000</td>\n",
       "      <td>...</td>\n",
       "      <td>1454</td>\n",
       "      <td>3567</td>\n",
       "      <td>1311</td>\n",
       "      <td>3999</td>\n",
       "      <td>3999</td>\n",
       "      <td>0</td>\n",
       "      <td>30922</td>\n",
       "      <td>1063730</td>\n",
       "      <td>['Massively Multiplayer', 'Open World', 'MMORP...</td>\n",
       "      <td>Action, Adventure, Massively Multiplayer, RPG</td>\n",
       "    </tr>\n",
       "    <tr>\n",
       "      <th>4</th>\n",
       "      <td>4</td>\n",
       "      <td>1172470</td>\n",
       "      <td>Apex Legends</td>\n",
       "      <td>Respawn Entertainment</td>\n",
       "      <td>Electronic Arts</td>\n",
       "      <td>NaN</td>\n",
       "      <td>483639</td>\n",
       "      <td>93045</td>\n",
       "      <td>0</td>\n",
       "      <td>50,000,000 .. 100,000,000</td>\n",
       "      <td>...</td>\n",
       "      <td>746</td>\n",
       "      <td>605</td>\n",
       "      <td>362</td>\n",
       "      <td>0</td>\n",
       "      <td>0</td>\n",
       "      <td>0</td>\n",
       "      <td>292023</td>\n",
       "      <td>1172470</td>\n",
       "      <td>['Free to Play', 'Multiplayer', 'Battle Royale...</td>\n",
       "      <td>Action, Adventure, Free to Play</td>\n",
       "    </tr>\n",
       "  </tbody>\n",
       "</table>\n",
       "<p>5 rows × 21 columns</p>\n",
       "</div>"
      ],
      "text/plain": [
       "   Unnamed: 0    appid                              name  \\\n",
       "0           0      570                            Dota 2   \n",
       "1           1      730  Counter-Strike: Global Offensive   \n",
       "2           2   578080               PUBG: BATTLEGROUNDS   \n",
       "3           3  1063730                         New World   \n",
       "4           4  1172470                      Apex Legends   \n",
       "\n",
       "                          developer        publisher  score_rank  positive  \\\n",
       "0                             Valve            Valve         NaN   1587210   \n",
       "1  Valve, Hidden Path Entertainment            Valve         NaN   6084096   \n",
       "2                     KRAFTON, Inc.    KRAFTON, Inc.         NaN   1214011   \n",
       "3                      Amazon Games     Amazon Games         NaN    174544   \n",
       "4             Respawn Entertainment  Electronic Arts         NaN    483639   \n",
       "\n",
       "   negative  userscore                      owners  ...  average_2weeks  \\\n",
       "0    330303          0  200,000,000 .. 500,000,000  ...            1560   \n",
       "1    801021          0   50,000,000 .. 100,000,000  ...             771   \n",
       "2    917768          0   50,000,000 .. 100,000,000  ...             648   \n",
       "3     75536          0   50,000,000 .. 100,000,000  ...            1454   \n",
       "4     93045          0   50,000,000 .. 100,000,000  ...             746   \n",
       "\n",
       "   median_forever  median_2weeks  price  initialprice  discount     ccu  \\\n",
       "0             976           1084      0             0         0  543171   \n",
       "1            6381            271      0             0         0  938203   \n",
       "2            6688            189      0             0         0  324204   \n",
       "3            3567           1311   3999          3999         0   30922   \n",
       "4             605            362      0             0         0  292023   \n",
       "\n",
       "   appid.1                                               tags  \\\n",
       "0      570  ['Free to Play', 'MOBA', 'Multiplayer', 'Strat...   \n",
       "1      730  ['FPS', 'Shooter', 'Multiplayer', 'Competitive...   \n",
       "2   578080  ['Survival', 'Shooter', 'Battle Royale', 'Mult...   \n",
       "3  1063730  ['Massively Multiplayer', 'Open World', 'MMORP...   \n",
       "4  1172470  ['Free to Play', 'Multiplayer', 'Battle Royale...   \n",
       "\n",
       "                                               genre  \n",
       "0                     Action, Free to Play, Strategy  \n",
       "1                               Action, Free to Play  \n",
       "2  Action, Adventure, Free to Play, Massively Mul...  \n",
       "3      Action, Adventure, Massively Multiplayer, RPG  \n",
       "4                    Action, Adventure, Free to Play  \n",
       "\n",
       "[5 rows x 21 columns]"
      ]
     },
     "execution_count": 6,
     "metadata": {},
     "output_type": "execute_result"
    }
   ],
   "source": [
    "# acquiring the dataframe and looking at it\n",
    "df = pd.read_csv('final_steamspy_3000_games.csv')\n",
    "df.head()"
   ]
  },
  {
   "cell_type": "code",
   "execution_count": null,
   "id": "3bcf4e53",
   "metadata": {},
   "outputs": [],
   "source": [
    "# preparing the data\n"
   ]
  },
  {
   "cell_type": "code",
   "execution_count": null,
   "id": "0c704aba",
   "metadata": {},
   "outputs": [],
   "source": [
    "train, validate, test = p.split_data(df)"
   ]
  },
  {
   "cell_type": "markdown",
   "id": "e079fd96",
   "metadata": {},
   "source": [
    "### A brief look at the data"
   ]
  },
  {
   "cell_type": "code",
   "execution_count": null,
   "id": "ac6b4d68",
   "metadata": {},
   "outputs": [],
   "source": [
    "train.head()"
   ]
  },
  {
   "cell_type": "markdown",
   "id": "74bf6df5",
   "metadata": {},
   "source": [
    "### A summary of the data"
   ]
  },
  {
   "cell_type": "code",
   "execution_count": null,
   "id": "549ee376",
   "metadata": {},
   "outputs": [],
   "source": [
    "train.describe()"
   ]
  },
  {
   "cell_type": "markdown",
   "id": "90a63f6c",
   "metadata": {},
   "source": [
    "# Explore\n",
    "\n",
    "## Does the initial price affect the hours played?"
   ]
  },
  {
   "cell_type": "code",
   "execution_count": 8,
   "id": "4936075f",
   "metadata": {},
   "outputs": [
    {
     "ename": "NameError",
     "evalue": "name 'train' is not defined",
     "output_type": "error",
     "traceback": [
      "\u001b[0;31m---------------------------------------------------------------------------\u001b[0m",
      "\u001b[0;31mNameError\u001b[0m                                 Traceback (most recent call last)",
      "Input \u001b[0;32mIn [8]\u001b[0m, in \u001b[0;36m<cell line: 1>\u001b[0;34m()\u001b[0m\n\u001b[0;32m----> 1\u001b[0m sns\u001b[38;5;241m.\u001b[39mscatterplot(data\u001b[38;5;241m=\u001b[39m\u001b[43mtrain\u001b[49m, y\u001b[38;5;241m=\u001b[39m\u001b[38;5;124m'\u001b[39m\u001b[38;5;124maverage_forever\u001b[39m\u001b[38;5;124m'\u001b[39m, x\u001b[38;5;241m=\u001b[39m\u001b[38;5;124m'\u001b[39m\u001b[38;5;124minitialprice\u001b[39m\u001b[38;5;124m'\u001b[39m)\n\u001b[1;32m      2\u001b[0m plt\u001b[38;5;241m.\u001b[39mtitle(\u001b[38;5;124m'\u001b[39m\u001b[38;5;124mInitial Price vs the hours played\u001b[39m\u001b[38;5;124m'\u001b[39m)\n\u001b[1;32m      3\u001b[0m plt\u001b[38;5;241m.\u001b[39mshow\n",
      "\u001b[0;31mNameError\u001b[0m: name 'train' is not defined"
     ]
    }
   ],
   "source": [
    "sns.scatterplot(data=train, y='average_forever', x='initialprice')\n",
    "plt.title('Initial Price vs the hours played')\n",
    "plt.show"
   ]
  },
  {
   "cell_type": "code",
   "execution_count": null,
   "id": "9dc18c56",
   "metadata": {},
   "outputs": [],
   "source": [
    "def get_chi_initailprice(train):\n",
    "    observed = pd.crosstab(train.average_forever, train.initialprice)\n",
    "    chi2, p, degf, expected = stats.chi2_contingency(observed)\n",
    "    print(f'chi^2 = {chi2:.4f}')\n",
    "    print(f'p     = {p:.4f}')"
   ]
  },
  {
   "cell_type": "code",
   "execution_count": null,
   "id": "6c66be3b",
   "metadata": {},
   "outputs": [],
   "source": [
    "get_chi_initialprice(train)"
   ]
  },
  {
   "cell_type": "markdown",
   "id": "5476d0ff",
   "metadata": {},
   "source": [
    "## Does the Developer matter?"
   ]
  },
  {
   "cell_type": "code",
   "execution_count": null,
   "id": "ece1024d",
   "metadata": {},
   "outputs": [],
   "source": [
    "sns.barplot(data=train, y='average_forever', x='Developer_Valve')\n",
    "plt.title('Valve developer hours played vs everyone else')\n",
    "plt.show"
   ]
  },
  {
   "cell_type": "code",
   "execution_count": null,
   "id": "17dcce4f",
   "metadata": {},
   "outputs": [],
   "source": [
    "def get_chi_valve(train):\n",
    "    observed = pd.crosstab(train.average_forever, train.Developer_Valve)\n",
    "    chi2, p, degf, expected = stats.chi2_contingency(observed)\n",
    "    print(f'chi^2 = {chi2:.4f}')\n",
    "    print(f'p     = {p:.4f}')"
   ]
  },
  {
   "cell_type": "code",
   "execution_count": null,
   "id": "310d245c",
   "metadata": {},
   "outputs": [],
   "source": [
    "get_chi_valve(train)"
   ]
  },
  {
   "cell_type": "markdown",
   "id": "ef404ea5",
   "metadata": {},
   "source": [
    "## Does the discount matter?"
   ]
  },
  {
   "cell_type": "code",
   "execution_count": null,
   "id": "c7053fa0",
   "metadata": {},
   "outputs": [],
   "source": [
    "sns.barplot(data=train, y='average_forever', x='discount')\n",
    "plt.title('Discount vs. Average hours')\n",
    "plt.show"
   ]
  },
  {
   "cell_type": "markdown",
   "id": "0f44623a",
   "metadata": {},
   "source": [
    "# Exploration Summary\n",
    "* The Developer matters to hours of gameplay\n",
    "* The discount doesn't really matter\n",
    "* Initial Price was found to be a driver of hours of gameplay"
   ]
  },
  {
   "cell_type": "markdown",
   "id": "23ebab90",
   "metadata": {},
   "source": [
    "## Features moving forward\n",
    "* Developer\n",
    "* Initial Price"
   ]
  },
  {
   "cell_type": "markdown",
   "id": "649fe9f6",
   "metadata": {},
   "source": [
    "# Modeling\n",
    "* We will use accuracy as the evalutaion metric\n",
    "* 80% will be the baseline\n",
    "* Evaluation of models developed using four different model types and various hyperparameter configurations\n",
    "* Models will be evaluated on train and validate data\n",
    "* The model that performs the best will then be evaluated on test data"
   ]
  },
  {
   "cell_type": "code",
   "execution_count": null,
   "id": "7e1bda85",
   "metadata": {},
   "outputs": [],
   "source": [
    "# Prep data for modeling"
   ]
  },
  {
   "cell_type": "code",
   "execution_count": null,
   "id": "6e4591d1",
   "metadata": {},
   "outputs": [],
   "source": [
    "Decision tree\n",
    "Random Forest\n",
    "Logistic Regression\n",
    "KNN\n",
    "XG boost\n",
    "Gradient boosting"
   ]
  },
  {
   "cell_type": "markdown",
   "id": "de033f3c",
   "metadata": {},
   "source": [
    "## Decision Tree"
   ]
  },
  {
   "cell_type": "code",
   "execution_count": 9,
   "id": "17db5938",
   "metadata": {},
   "outputs": [],
   "source": [
    "# get Decision Tree results"
   ]
  },
  {
   "cell_type": "markdown",
   "id": "afa05fc2",
   "metadata": {},
   "source": [
    "## Random Forest"
   ]
  },
  {
   "cell_type": "code",
   "execution_count": 10,
   "id": "1494fe0d",
   "metadata": {},
   "outputs": [],
   "source": [
    "# get Random Forest results"
   ]
  },
  {
   "cell_type": "markdown",
   "id": "16a2330e",
   "metadata": {},
   "source": [
    "## Logistic Regression"
   ]
  },
  {
   "cell_type": "code",
   "execution_count": 11,
   "id": "f1e69628",
   "metadata": {},
   "outputs": [],
   "source": [
    "# get Logistic Regression results"
   ]
  },
  {
   "cell_type": "markdown",
   "id": "87bd630b",
   "metadata": {},
   "source": [
    "## KNN"
   ]
  },
  {
   "cell_type": "code",
   "execution_count": 12,
   "id": "1c10c34d",
   "metadata": {},
   "outputs": [],
   "source": [
    "# get KNN results"
   ]
  },
  {
   "cell_type": "markdown",
   "id": "37785ff5",
   "metadata": {},
   "source": [
    "## Comparing Models\n",
    "* \n",
    "* \n",
    "* "
   ]
  },
  {
   "cell_type": "markdown",
   "id": "9e739d1b",
   "metadata": {},
   "source": [
    "# ...On Test"
   ]
  },
  {
   "cell_type": "code",
   "execution_count": null,
   "id": "2f1710b1",
   "metadata": {},
   "outputs": [],
   "source": [
    "# get test results for final model"
   ]
  },
  {
   "cell_type": "markdown",
   "id": "8b8d3c82",
   "metadata": {},
   "source": [
    "## Modeling Summary\n",
    "* \n",
    "* \n",
    "* "
   ]
  },
  {
   "cell_type": "markdown",
   "id": "e9c66978",
   "metadata": {},
   "source": [
    "# Conclusions"
   ]
  },
  {
   "cell_type": "markdown",
   "id": "589402a2",
   "metadata": {},
   "source": [
    "## Exploration\n",
    "\n",
    "* "
   ]
  },
  {
   "cell_type": "markdown",
   "id": "534e6eb8",
   "metadata": {},
   "source": [
    "## Modeling\n",
    "\n",
    "* "
   ]
  },
  {
   "cell_type": "markdown",
   "id": "00a4e2f9",
   "metadata": {},
   "source": [
    "## Recomendations\n",
    "\n",
    "* "
   ]
  },
  {
   "cell_type": "markdown",
   "id": "fd0b8f6a",
   "metadata": {},
   "source": [
    "## Next Steps\n",
    "\n",
    "* "
   ]
  }
 ],
 "metadata": {
  "kernelspec": {
   "display_name": "Python 3 (ipykernel)",
   "language": "python",
   "name": "python3"
  },
  "language_info": {
   "codemirror_mode": {
    "name": "ipython",
    "version": 3
   },
   "file_extension": ".py",
   "mimetype": "text/x-python",
   "name": "python",
   "nbconvert_exporter": "python",
   "pygments_lexer": "ipython3",
   "version": "3.9.12"
  }
 },
 "nbformat": 4,
 "nbformat_minor": 5
}
